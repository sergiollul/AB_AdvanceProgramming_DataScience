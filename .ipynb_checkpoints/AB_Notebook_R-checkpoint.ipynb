{
 "cells": [
  {
   "cell_type": "code",
   "execution_count": 1,
   "id": "d352a94b-962f-42c1-8444-52372a24ba72",
   "metadata": {},
   "outputs": [],
   "source": [
    "# install.packages(\"ggplot2\")\n",
    "# install.packages(\"dplyr\")\n",
    "# install.packages(\"reshape2\")\n",
    "# install.packages(\"MASS\")\n",
    "# install.packages(\"forecast\")\n",
    "# install.packages(\"DMwR\")\n",
    "# install.packages(\"zoo\")\n",
    "# install.packages(\"tidyr\")\n",
    "\n",
    "options(warn = -1)\n",
    "suppressPackageStartupMessages({\n",
    "  library(dplyr)\n",
    "  library(quantmod)\n",
    "  library(zoo)\n",
    "  library(tidyr)\n",
    "  library(reshape2)\n",
    "  library(scales)\n",
    "  library(stringr)\n",
    "})\n",
    "\n",
    "library(ggplot2)\n",
    "library(dplyr)\n",
    "library(reshape2)\n",
    "library(forecast)\n",
    "library(zoo)\n",
    "library(tidyr)\n",
    "library(scales)\n",
    "library(stringr)"
   ]
  },
  {
   "cell_type": "code",
   "execution_count": 2,
   "id": "397b8989-2d49-4e52-813c-cf0e7804b1f7",
   "metadata": {},
   "outputs": [
    {
     "data": {
      "text/html": [
       "<style>\n",
       ".list-inline {list-style: none; margin:0; padding: 0}\n",
       ".list-inline>li {display: inline-block}\n",
       ".list-inline>li:not(:last-child)::after {content: \"\\00b7\"; padding: 0 .5ex}\n",
       "</style>\n",
       "<ol class=list-inline><li>9947</li><li>33</li></ol>\n"
      ],
      "text/latex": [
       "\\begin{enumerate*}\n",
       "\\item 9947\n",
       "\\item 33\n",
       "\\end{enumerate*}\n"
      ],
      "text/markdown": [
       "1. 9947\n",
       "2. 33\n",
       "\n",
       "\n"
      ],
      "text/plain": [
       "[1] 9947   33"
      ]
     },
     "metadata": {},
     "output_type": "display_data"
    }
   ],
   "source": [
    "df = read.csv(\"world_development_data_interpolated.csv\")\n",
    "\n",
    "# tamaño df\n",
    "dim(df)"
   ]
  },
  {
   "cell_type": "code",
   "execution_count": 3,
   "id": "06ddd38e-8c03-47f8-840f-0d6485a65f2b",
   "metadata": {},
   "outputs": [
    {
     "data": {
      "text/html": [
       "<table class=\"dataframe\">\n",
       "<caption>A data.frame: 6 × 33</caption>\n",
       "<thead>\n",
       "\t<tr><th></th><th scope=col>Year</th><th scope=col>Country</th><th scope=col>Region</th><th scope=col>SubRegion</th><th scope=col>IntermRegion</th><th scope=col>SurfAreaSqKm</th><th scope=col>PopDens</th><th scope=col>PopGrowth.</th><th scope=col>GDP</th><th scope=col>GDPGrowth.</th><th scope=col>⋯</th><th scope=col>MerchTrade.GDP</th><th scope=col>MilExp.GDP</th><th scope=col>MobileSubs.100</th><th scope=col>MortRateU5</th><th scope=col>NetMigr</th><th scope=col>PopTotal</th><th scope=col>RevenueExGrants.GDP</th><th scope=col>SchEnrollPrim.</th><th scope=col>TaxRevenue.GDP</th><th scope=col>UrbanPopGrowth.</th></tr>\n",
       "\t<tr><th></th><th scope=col>&lt;int&gt;</th><th scope=col>&lt;chr&gt;</th><th scope=col>&lt;chr&gt;</th><th scope=col>&lt;chr&gt;</th><th scope=col>&lt;chr&gt;</th><th scope=col>&lt;dbl&gt;</th><th scope=col>&lt;dbl&gt;</th><th scope=col>&lt;dbl&gt;</th><th scope=col>&lt;dbl&gt;</th><th scope=col>&lt;dbl&gt;</th><th scope=col>⋯</th><th scope=col>&lt;dbl&gt;</th><th scope=col>&lt;dbl&gt;</th><th scope=col>&lt;dbl&gt;</th><th scope=col>&lt;dbl&gt;</th><th scope=col>&lt;dbl&gt;</th><th scope=col>&lt;dbl&gt;</th><th scope=col>&lt;dbl&gt;</th><th scope=col>&lt;dbl&gt;</th><th scope=col>&lt;dbl&gt;</th><th scope=col>&lt;dbl&gt;</th></tr>\n",
       "</thead>\n",
       "<tbody>\n",
       "\t<tr><th scope=row>1</th><td>1973</td><td>Afghanistan         </td><td>Asia  </td><td>Southern Asia     </td><td>             </td><td> 652860.0</td><td> 17.747275</td><td> 2.5244212</td><td> 1733333264</td><td>       NA</td><td>⋯</td><td>18.17308</td><td> 1.868910</td><td>NA</td><td>285.2</td><td>  -3030</td><td>11575305</td><td>     NA</td><td> 35.21437</td><td>      NA</td><td> 5.688982</td></tr>\n",
       "\t<tr><th scope=row>2</th><td>1973</td><td>Netherlands         </td><td>Europe</td><td>Western Europe    </td><td>             </td><td>  41530.0</td><td>398.084182</td><td> 0.8273310</td><td>71840909664</td><td> 5.444223</td><td>⋯</td><td>78.08364</td><td> 2.702997</td><td>NA</td><td> 14.1</td><td>  31535</td><td>13439322</td><td>38.2941</td><td>100.04730</td><td>22.46063</td><td> 1.337022</td></tr>\n",
       "\t<tr><th scope=row>3</th><td>1973</td><td>Poland              </td><td>Europe</td><td>Eastern Europe    </td><td>             </td><td> 312690.0</td><td>108.907245</td><td> 0.9081136</td><td>         NA</td><td>       NA</td><td>⋯</td><td>      NA</td><td>       NA</td><td>NA</td><td> 30.5</td><td> -28055</td><td>33357200</td><td>     NA</td><td>105.33872</td><td>      NA</td><td> 2.125265</td></tr>\n",
       "\t<tr><th scope=row>4</th><td>1973</td><td>Egypt, Arab Rep.    </td><td>Africa</td><td>Northern Africa   </td><td>             </td><td>1001450.0</td><td> 37.290448</td><td> 2.1511827</td><td>10098534613</td><td> 3.506830</td><td>⋯</td><td>20.16134</td><td>13.513514</td><td>NA</td><td>232.5</td><td>-112685</td><td>37120776</td><td>     NA</td><td> 70.22195</td><td>      NA</td><td> 3.007695</td></tr>\n",
       "\t<tr><th scope=row>5</th><td>1973</td><td>Gabon               </td><td>Africa</td><td>Sub-Saharan Africa</td><td>Middle Africa</td><td> 267670.0</td><td>  2.465510</td><td> 2.0673824</td><td>  722780701</td><td>10.182434</td><td>⋯</td><td>72.08272</td><td> 1.303538</td><td>NA</td><td>149.4</td><td>    613</td><td>  635288</td><td>     NA</td><td>130.28342</td><td>      NA</td><td> 7.959430</td></tr>\n",
       "\t<tr><th scope=row>6</th><td>1973</td><td>United Arab Emirates</td><td>Asia  </td><td>Western Asia      </td><td>             </td><td>  98647.9</td><td>  6.217206</td><td>11.8082030</td><td>         NA</td><td>       NA</td><td>⋯</td><td>      NA</td><td>       NA</td><td>NA</td><td> 72.8</td><td>  39563</td><td>  441546</td><td>     NA</td><td> 74.63289</td><td>      NA</td><td>11.808179</td></tr>\n",
       "</tbody>\n",
       "</table>\n"
      ],
      "text/latex": [
       "A data.frame: 6 × 33\n",
       "\\begin{tabular}{r|lllllllllllllllllllll}\n",
       "  & Year & Country & Region & SubRegion & IntermRegion & SurfAreaSqKm & PopDens & PopGrowth. & GDP & GDPGrowth. & ⋯ & MerchTrade.GDP & MilExp.GDP & MobileSubs.100 & MortRateU5 & NetMigr & PopTotal & RevenueExGrants.GDP & SchEnrollPrim. & TaxRevenue.GDP & UrbanPopGrowth.\\\\\n",
       "  & <int> & <chr> & <chr> & <chr> & <chr> & <dbl> & <dbl> & <dbl> & <dbl> & <dbl> & ⋯ & <dbl> & <dbl> & <dbl> & <dbl> & <dbl> & <dbl> & <dbl> & <dbl> & <dbl> & <dbl>\\\\\n",
       "\\hline\n",
       "\t1 & 1973 & Afghanistan          & Asia   & Southern Asia      &               &  652860.0 &  17.747275 &  2.5244212 &  1733333264 &        NA & ⋯ & 18.17308 &  1.868910 & NA & 285.2 &   -3030 & 11575305 &      NA &  35.21437 &       NA &  5.688982\\\\\n",
       "\t2 & 1973 & Netherlands          & Europe & Western Europe     &               &   41530.0 & 398.084182 &  0.8273310 & 71840909664 &  5.444223 & ⋯ & 78.08364 &  2.702997 & NA &  14.1 &   31535 & 13439322 & 38.2941 & 100.04730 & 22.46063 &  1.337022\\\\\n",
       "\t3 & 1973 & Poland               & Europe & Eastern Europe     &               &  312690.0 & 108.907245 &  0.9081136 &          NA &        NA & ⋯ &       NA &        NA & NA &  30.5 &  -28055 & 33357200 &      NA & 105.33872 &       NA &  2.125265\\\\\n",
       "\t4 & 1973 & Egypt, Arab Rep.     & Africa & Northern Africa    &               & 1001450.0 &  37.290448 &  2.1511827 & 10098534613 &  3.506830 & ⋯ & 20.16134 & 13.513514 & NA & 232.5 & -112685 & 37120776 &      NA &  70.22195 &       NA &  3.007695\\\\\n",
       "\t5 & 1973 & Gabon                & Africa & Sub-Saharan Africa & Middle Africa &  267670.0 &   2.465510 &  2.0673824 &   722780701 & 10.182434 & ⋯ & 72.08272 &  1.303538 & NA & 149.4 &     613 &   635288 &      NA & 130.28342 &       NA &  7.959430\\\\\n",
       "\t6 & 1973 & United Arab Emirates & Asia   & Western Asia       &               &   98647.9 &   6.217206 & 11.8082030 &          NA &        NA & ⋯ &       NA &        NA & NA &  72.8 &   39563 &   441546 &      NA &  74.63289 &       NA & 11.808179\\\\\n",
       "\\end{tabular}\n"
      ],
      "text/markdown": [
       "\n",
       "A data.frame: 6 × 33\n",
       "\n",
       "| <!--/--> | Year &lt;int&gt; | Country &lt;chr&gt; | Region &lt;chr&gt; | SubRegion &lt;chr&gt; | IntermRegion &lt;chr&gt; | SurfAreaSqKm &lt;dbl&gt; | PopDens &lt;dbl&gt; | PopGrowth. &lt;dbl&gt; | GDP &lt;dbl&gt; | GDPGrowth. &lt;dbl&gt; | ⋯ ⋯ | MerchTrade.GDP &lt;dbl&gt; | MilExp.GDP &lt;dbl&gt; | MobileSubs.100 &lt;dbl&gt; | MortRateU5 &lt;dbl&gt; | NetMigr &lt;dbl&gt; | PopTotal &lt;dbl&gt; | RevenueExGrants.GDP &lt;dbl&gt; | SchEnrollPrim. &lt;dbl&gt; | TaxRevenue.GDP &lt;dbl&gt; | UrbanPopGrowth. &lt;dbl&gt; |\n",
       "|---|---|---|---|---|---|---|---|---|---|---|---|---|---|---|---|---|---|---|---|---|---|\n",
       "| 1 | 1973 | Afghanistan          | Asia   | Southern Asia      | <!----> |  652860.0 |  17.747275 |  2.5244212 |  1733333264 |        NA | ⋯ | 18.17308 |  1.868910 | NA | 285.2 |   -3030 | 11575305 |      NA |  35.21437 |       NA |  5.688982 |\n",
       "| 2 | 1973 | Netherlands          | Europe | Western Europe     | <!----> |   41530.0 | 398.084182 |  0.8273310 | 71840909664 |  5.444223 | ⋯ | 78.08364 |  2.702997 | NA |  14.1 |   31535 | 13439322 | 38.2941 | 100.04730 | 22.46063 |  1.337022 |\n",
       "| 3 | 1973 | Poland               | Europe | Eastern Europe     | <!----> |  312690.0 | 108.907245 |  0.9081136 |          NA |        NA | ⋯ |       NA |        NA | NA |  30.5 |  -28055 | 33357200 |      NA | 105.33872 |       NA |  2.125265 |\n",
       "| 4 | 1973 | Egypt, Arab Rep.     | Africa | Northern Africa    | <!----> | 1001450.0 |  37.290448 |  2.1511827 | 10098534613 |  3.506830 | ⋯ | 20.16134 | 13.513514 | NA | 232.5 | -112685 | 37120776 |      NA |  70.22195 |       NA |  3.007695 |\n",
       "| 5 | 1973 | Gabon                | Africa | Sub-Saharan Africa | Middle Africa |  267670.0 |   2.465510 |  2.0673824 |   722780701 | 10.182434 | ⋯ | 72.08272 |  1.303538 | NA | 149.4 |     613 |   635288 |      NA | 130.28342 |       NA |  7.959430 |\n",
       "| 6 | 1973 | United Arab Emirates | Asia   | Western Asia       | <!----> |   98647.9 |   6.217206 | 11.8082030 |          NA |        NA | ⋯ |       NA |        NA | NA |  72.8 |   39563 |   441546 |      NA |  74.63289 |       NA | 11.808179 |\n",
       "\n"
      ],
      "text/plain": [
       "  Year Country              Region SubRegion          IntermRegion \n",
       "1 1973 Afghanistan          Asia   Southern Asia                   \n",
       "2 1973 Netherlands          Europe Western Europe                  \n",
       "3 1973 Poland               Europe Eastern Europe                  \n",
       "4 1973 Egypt, Arab Rep.     Africa Northern Africa                 \n",
       "5 1973 Gabon                Africa Sub-Saharan Africa Middle Africa\n",
       "6 1973 United Arab Emirates Asia   Western Asia                    \n",
       "  SurfAreaSqKm PopDens    PopGrowth. GDP         GDPGrowth. ⋯ MerchTrade.GDP\n",
       "1  652860.0     17.747275  2.5244212  1733333264        NA  ⋯ 18.17308      \n",
       "2   41530.0    398.084182  0.8273310 71840909664  5.444223  ⋯ 78.08364      \n",
       "3  312690.0    108.907245  0.9081136          NA        NA  ⋯       NA      \n",
       "4 1001450.0     37.290448  2.1511827 10098534613  3.506830  ⋯ 20.16134      \n",
       "5  267670.0      2.465510  2.0673824   722780701 10.182434  ⋯ 72.08272      \n",
       "6   98647.9      6.217206 11.8082030          NA        NA  ⋯       NA      \n",
       "  MilExp.GDP MobileSubs.100 MortRateU5 NetMigr PopTotal RevenueExGrants.GDP\n",
       "1  1.868910  NA             285.2        -3030 11575305      NA            \n",
       "2  2.702997  NA              14.1        31535 13439322 38.2941            \n",
       "3        NA  NA              30.5       -28055 33357200      NA            \n",
       "4 13.513514  NA             232.5      -112685 37120776      NA            \n",
       "5  1.303538  NA             149.4          613   635288      NA            \n",
       "6        NA  NA              72.8        39563   441546      NA            \n",
       "  SchEnrollPrim. TaxRevenue.GDP UrbanPopGrowth.\n",
       "1  35.21437            NA        5.688982      \n",
       "2 100.04730      22.46063        1.337022      \n",
       "3 105.33872            NA        2.125265      \n",
       "4  70.22195            NA        3.007695      \n",
       "5 130.28342            NA        7.959430      \n",
       "6  74.63289            NA       11.808179      "
      ]
     },
     "metadata": {},
     "output_type": "display_data"
    }
   ],
   "source": [
    "# ¿aquí no se empieza a contar desde 0?\n",
    "head(df)"
   ]
  },
  {
   "cell_type": "code",
   "execution_count": 4,
   "id": "f6e42b8e-feb7-496e-9535-8016f56ee253",
   "metadata": {},
   "outputs": [
    {
     "data": {
      "text/html": [
       "<style>\n",
       ".dl-inline {width: auto; margin:0; padding: 0}\n",
       ".dl-inline>dt, .dl-inline>dd {float: none; width: auto; display: inline-block}\n",
       ".dl-inline>dt::after {content: \":\\0020\"; padding-right: .5ex}\n",
       ".dl-inline>dt:not(:first-of-type) {padding-left: .5ex}\n",
       "</style><dl class=dl-inline><dt>Year</dt><dd>0</dd><dt>Country</dt><dd>0</dd><dt>Region</dt><dd>0</dd><dt>SubRegion</dt><dd>0</dd><dt>IntermRegion</dt><dd>0</dd><dt>SurfAreaSqKm</dt><dd>47</dd><dt>PopDens</dt><dd>650</dd><dt>PopGrowth.</dt><dd>18</dd><dt>GDP</dt><dd>1279</dd><dt>GDPGrowth.</dt><dd>1523</dd><dt>AdolFertRate</dt><dd>0</dd><dt>AgriValAdd.GDP</dt><dd>2451</dd><dt>DomCredit.GDP</dt><dd>8762</dd><dt>Exports.GDP</dt><dd>2513</dd><dt>FertRate</dt><dd>201</dd><dt>FDINetBoP</dt><dd>1390</dd><dt>GNI.CapAtlas</dt><dd>2080</dd><dt>GNIAtlas</dt><dd>2079</dd><dt>GrossCapForm.GDP</dt><dd>2768</dd><dt>Imports.GDP</dt><dd>2513</dd><dt>IndValAdd.GDP</dt><dd>2502</dd><dt>InflConsPric.</dt><dd>1550</dd><dt>LifeExpBirth</dt><dd>207</dd><dt>MerchTrade.GDP</dt><dd>1614</dd><dt>MilExp.GDP</dt><dd>3514</dd><dt>MobileSubs.100</dt><dd>751</dd><dt>MortRateU5</dt><dd>814</dd><dt>NetMigr</dt><dd>0</dd><dt>PopTotal</dt><dd>17</dd><dt>RevenueExGrants.GDP</dt><dd>5773</dd><dt>SchEnrollPrim.</dt><dd>2017</dd><dt>TaxRevenue.GDP</dt><dd>5719</dd><dt>UrbanPopGrowth.</dt><dd>18</dd></dl>\n"
      ],
      "text/latex": [
       "\\begin{description*}\n",
       "\\item[Year] 0\n",
       "\\item[Country] 0\n",
       "\\item[Region] 0\n",
       "\\item[SubRegion] 0\n",
       "\\item[IntermRegion] 0\n",
       "\\item[SurfAreaSqKm] 47\n",
       "\\item[PopDens] 650\n",
       "\\item[PopGrowth.] 18\n",
       "\\item[GDP] 1279\n",
       "\\item[GDPGrowth.] 1523\n",
       "\\item[AdolFertRate] 0\n",
       "\\item[AgriValAdd.GDP] 2451\n",
       "\\item[DomCredit.GDP] 8762\n",
       "\\item[Exports.GDP] 2513\n",
       "\\item[FertRate] 201\n",
       "\\item[FDINetBoP] 1390\n",
       "\\item[GNI.CapAtlas] 2080\n",
       "\\item[GNIAtlas] 2079\n",
       "\\item[GrossCapForm.GDP] 2768\n",
       "\\item[Imports.GDP] 2513\n",
       "\\item[IndValAdd.GDP] 2502\n",
       "\\item[InflConsPric.] 1550\n",
       "\\item[LifeExpBirth] 207\n",
       "\\item[MerchTrade.GDP] 1614\n",
       "\\item[MilExp.GDP] 3514\n",
       "\\item[MobileSubs.100] 751\n",
       "\\item[MortRateU5] 814\n",
       "\\item[NetMigr] 0\n",
       "\\item[PopTotal] 17\n",
       "\\item[RevenueExGrants.GDP] 5773\n",
       "\\item[SchEnrollPrim.] 2017\n",
       "\\item[TaxRevenue.GDP] 5719\n",
       "\\item[UrbanPopGrowth.] 18\n",
       "\\end{description*}\n"
      ],
      "text/markdown": [
       "Year\n",
       ":   0Country\n",
       ":   0Region\n",
       ":   0SubRegion\n",
       ":   0IntermRegion\n",
       ":   0SurfAreaSqKm\n",
       ":   47PopDens\n",
       ":   650PopGrowth.\n",
       ":   18GDP\n",
       ":   1279GDPGrowth.\n",
       ":   1523AdolFertRate\n",
       ":   0AgriValAdd.GDP\n",
       ":   2451DomCredit.GDP\n",
       ":   8762Exports.GDP\n",
       ":   2513FertRate\n",
       ":   201FDINetBoP\n",
       ":   1390GNI.CapAtlas\n",
       ":   2080GNIAtlas\n",
       ":   2079GrossCapForm.GDP\n",
       ":   2768Imports.GDP\n",
       ":   2513IndValAdd.GDP\n",
       ":   2502InflConsPric.\n",
       ":   1550LifeExpBirth\n",
       ":   207MerchTrade.GDP\n",
       ":   1614MilExp.GDP\n",
       ":   3514MobileSubs.100\n",
       ":   751MortRateU5\n",
       ":   814NetMigr\n",
       ":   0PopTotal\n",
       ":   17RevenueExGrants.GDP\n",
       ":   5773SchEnrollPrim.\n",
       ":   2017TaxRevenue.GDP\n",
       ":   5719UrbanPopGrowth.\n",
       ":   18\n",
       "\n"
      ],
      "text/plain": [
       "               Year             Country              Region           SubRegion \n",
       "                  0                   0                   0                   0 \n",
       "       IntermRegion        SurfAreaSqKm             PopDens          PopGrowth. \n",
       "                  0                  47                 650                  18 \n",
       "                GDP          GDPGrowth.        AdolFertRate      AgriValAdd.GDP \n",
       "               1279                1523                   0                2451 \n",
       "      DomCredit.GDP         Exports.GDP            FertRate           FDINetBoP \n",
       "               8762                2513                 201                1390 \n",
       "       GNI.CapAtlas            GNIAtlas    GrossCapForm.GDP         Imports.GDP \n",
       "               2080                2079                2768                2513 \n",
       "      IndValAdd.GDP       InflConsPric.        LifeExpBirth      MerchTrade.GDP \n",
       "               2502                1550                 207                1614 \n",
       "         MilExp.GDP      MobileSubs.100          MortRateU5             NetMigr \n",
       "               3514                 751                 814                   0 \n",
       "           PopTotal RevenueExGrants.GDP      SchEnrollPrim.      TaxRevenue.GDP \n",
       "                 17                5773                2017                5719 \n",
       "    UrbanPopGrowth. \n",
       "                 18 "
      ]
     },
     "metadata": {},
     "output_type": "display_data"
    }
   ],
   "source": [
    "colSums(is.na(df))\n",
    "\n",
    "# vemos que cuando hay huecos vacíos no lo reconoce como NA, se van a reemplazar por NA"
   ]
  },
  {
   "cell_type": "code",
   "execution_count": 5,
   "id": "acc241b7-66bd-4f23-85ad-bb42ae9544fb",
   "metadata": {},
   "outputs": [
    {
     "data": {
      "text/html": [
       "<table class=\"dataframe\">\n",
       "<caption>A data.frame: 6 × 33</caption>\n",
       "<thead>\n",
       "\t<tr><th></th><th scope=col>Year</th><th scope=col>Country</th><th scope=col>Region</th><th scope=col>SubRegion</th><th scope=col>IntermRegion</th><th scope=col>SurfAreaSqKm</th><th scope=col>PopDens</th><th scope=col>PopGrowth.</th><th scope=col>GDP</th><th scope=col>GDPGrowth.</th><th scope=col>⋯</th><th scope=col>MerchTrade.GDP</th><th scope=col>MilExp.GDP</th><th scope=col>MobileSubs.100</th><th scope=col>MortRateU5</th><th scope=col>NetMigr</th><th scope=col>PopTotal</th><th scope=col>RevenueExGrants.GDP</th><th scope=col>SchEnrollPrim.</th><th scope=col>TaxRevenue.GDP</th><th scope=col>UrbanPopGrowth.</th></tr>\n",
       "\t<tr><th></th><th scope=col>&lt;int&gt;</th><th scope=col>&lt;chr&gt;</th><th scope=col>&lt;chr&gt;</th><th scope=col>&lt;chr&gt;</th><th scope=col>&lt;chr&gt;</th><th scope=col>&lt;dbl&gt;</th><th scope=col>&lt;dbl&gt;</th><th scope=col>&lt;dbl&gt;</th><th scope=col>&lt;dbl&gt;</th><th scope=col>&lt;dbl&gt;</th><th scope=col>⋯</th><th scope=col>&lt;dbl&gt;</th><th scope=col>&lt;dbl&gt;</th><th scope=col>&lt;dbl&gt;</th><th scope=col>&lt;dbl&gt;</th><th scope=col>&lt;dbl&gt;</th><th scope=col>&lt;dbl&gt;</th><th scope=col>&lt;dbl&gt;</th><th scope=col>&lt;dbl&gt;</th><th scope=col>&lt;dbl&gt;</th><th scope=col>&lt;dbl&gt;</th></tr>\n",
       "</thead>\n",
       "<tbody>\n",
       "\t<tr><th scope=row>1</th><td>1973</td><td>Afghanistan         </td><td>Asia  </td><td>Southern Asia     </td><td>NA           </td><td> 652860.0</td><td> 17.747275</td><td> 2.5244212</td><td> 1733333264</td><td>       NA</td><td>⋯</td><td>18.17308</td><td> 1.868910</td><td>NA</td><td>285.2</td><td>  -3030</td><td>11575305</td><td>     NA</td><td> 35.21437</td><td>      NA</td><td> 5.688982</td></tr>\n",
       "\t<tr><th scope=row>2</th><td>1973</td><td>Netherlands         </td><td>Europe</td><td>Western Europe    </td><td>NA           </td><td>  41530.0</td><td>398.084182</td><td> 0.8273310</td><td>71840909664</td><td> 5.444223</td><td>⋯</td><td>78.08364</td><td> 2.702997</td><td>NA</td><td> 14.1</td><td>  31535</td><td>13439322</td><td>38.2941</td><td>100.04730</td><td>22.46063</td><td> 1.337022</td></tr>\n",
       "\t<tr><th scope=row>3</th><td>1973</td><td>Poland              </td><td>Europe</td><td>Eastern Europe    </td><td>NA           </td><td> 312690.0</td><td>108.907245</td><td> 0.9081136</td><td>         NA</td><td>       NA</td><td>⋯</td><td>      NA</td><td>       NA</td><td>NA</td><td> 30.5</td><td> -28055</td><td>33357200</td><td>     NA</td><td>105.33872</td><td>      NA</td><td> 2.125265</td></tr>\n",
       "\t<tr><th scope=row>4</th><td>1973</td><td>Egypt, Arab Rep.    </td><td>Africa</td><td>Northern Africa   </td><td>NA           </td><td>1001450.0</td><td> 37.290448</td><td> 2.1511827</td><td>10098534613</td><td> 3.506830</td><td>⋯</td><td>20.16134</td><td>13.513514</td><td>NA</td><td>232.5</td><td>-112685</td><td>37120776</td><td>     NA</td><td> 70.22195</td><td>      NA</td><td> 3.007695</td></tr>\n",
       "\t<tr><th scope=row>5</th><td>1973</td><td>Gabon               </td><td>Africa</td><td>Sub-Saharan Africa</td><td>Middle Africa</td><td> 267670.0</td><td>  2.465510</td><td> 2.0673824</td><td>  722780701</td><td>10.182434</td><td>⋯</td><td>72.08272</td><td> 1.303538</td><td>NA</td><td>149.4</td><td>    613</td><td>  635288</td><td>     NA</td><td>130.28342</td><td>      NA</td><td> 7.959430</td></tr>\n",
       "\t<tr><th scope=row>6</th><td>1973</td><td>United Arab Emirates</td><td>Asia  </td><td>Western Asia      </td><td>NA           </td><td>  98647.9</td><td>  6.217206</td><td>11.8082030</td><td>         NA</td><td>       NA</td><td>⋯</td><td>      NA</td><td>       NA</td><td>NA</td><td> 72.8</td><td>  39563</td><td>  441546</td><td>     NA</td><td> 74.63289</td><td>      NA</td><td>11.808179</td></tr>\n",
       "</tbody>\n",
       "</table>\n"
      ],
      "text/latex": [
       "A data.frame: 6 × 33\n",
       "\\begin{tabular}{r|lllllllllllllllllllll}\n",
       "  & Year & Country & Region & SubRegion & IntermRegion & SurfAreaSqKm & PopDens & PopGrowth. & GDP & GDPGrowth. & ⋯ & MerchTrade.GDP & MilExp.GDP & MobileSubs.100 & MortRateU5 & NetMigr & PopTotal & RevenueExGrants.GDP & SchEnrollPrim. & TaxRevenue.GDP & UrbanPopGrowth.\\\\\n",
       "  & <int> & <chr> & <chr> & <chr> & <chr> & <dbl> & <dbl> & <dbl> & <dbl> & <dbl> & ⋯ & <dbl> & <dbl> & <dbl> & <dbl> & <dbl> & <dbl> & <dbl> & <dbl> & <dbl> & <dbl>\\\\\n",
       "\\hline\n",
       "\t1 & 1973 & Afghanistan          & Asia   & Southern Asia      & NA            &  652860.0 &  17.747275 &  2.5244212 &  1733333264 &        NA & ⋯ & 18.17308 &  1.868910 & NA & 285.2 &   -3030 & 11575305 &      NA &  35.21437 &       NA &  5.688982\\\\\n",
       "\t2 & 1973 & Netherlands          & Europe & Western Europe     & NA            &   41530.0 & 398.084182 &  0.8273310 & 71840909664 &  5.444223 & ⋯ & 78.08364 &  2.702997 & NA &  14.1 &   31535 & 13439322 & 38.2941 & 100.04730 & 22.46063 &  1.337022\\\\\n",
       "\t3 & 1973 & Poland               & Europe & Eastern Europe     & NA            &  312690.0 & 108.907245 &  0.9081136 &          NA &        NA & ⋯ &       NA &        NA & NA &  30.5 &  -28055 & 33357200 &      NA & 105.33872 &       NA &  2.125265\\\\\n",
       "\t4 & 1973 & Egypt, Arab Rep.     & Africa & Northern Africa    & NA            & 1001450.0 &  37.290448 &  2.1511827 & 10098534613 &  3.506830 & ⋯ & 20.16134 & 13.513514 & NA & 232.5 & -112685 & 37120776 &      NA &  70.22195 &       NA &  3.007695\\\\\n",
       "\t5 & 1973 & Gabon                & Africa & Sub-Saharan Africa & Middle Africa &  267670.0 &   2.465510 &  2.0673824 &   722780701 & 10.182434 & ⋯ & 72.08272 &  1.303538 & NA & 149.4 &     613 &   635288 &      NA & 130.28342 &       NA &  7.959430\\\\\n",
       "\t6 & 1973 & United Arab Emirates & Asia   & Western Asia       & NA            &   98647.9 &   6.217206 & 11.8082030 &          NA &        NA & ⋯ &       NA &        NA & NA &  72.8 &   39563 &   441546 &      NA &  74.63289 &       NA & 11.808179\\\\\n",
       "\\end{tabular}\n"
      ],
      "text/markdown": [
       "\n",
       "A data.frame: 6 × 33\n",
       "\n",
       "| <!--/--> | Year &lt;int&gt; | Country &lt;chr&gt; | Region &lt;chr&gt; | SubRegion &lt;chr&gt; | IntermRegion &lt;chr&gt; | SurfAreaSqKm &lt;dbl&gt; | PopDens &lt;dbl&gt; | PopGrowth. &lt;dbl&gt; | GDP &lt;dbl&gt; | GDPGrowth. &lt;dbl&gt; | ⋯ ⋯ | MerchTrade.GDP &lt;dbl&gt; | MilExp.GDP &lt;dbl&gt; | MobileSubs.100 &lt;dbl&gt; | MortRateU5 &lt;dbl&gt; | NetMigr &lt;dbl&gt; | PopTotal &lt;dbl&gt; | RevenueExGrants.GDP &lt;dbl&gt; | SchEnrollPrim. &lt;dbl&gt; | TaxRevenue.GDP &lt;dbl&gt; | UrbanPopGrowth. &lt;dbl&gt; |\n",
       "|---|---|---|---|---|---|---|---|---|---|---|---|---|---|---|---|---|---|---|---|---|---|\n",
       "| 1 | 1973 | Afghanistan          | Asia   | Southern Asia      | NA            |  652860.0 |  17.747275 |  2.5244212 |  1733333264 |        NA | ⋯ | 18.17308 |  1.868910 | NA | 285.2 |   -3030 | 11575305 |      NA |  35.21437 |       NA |  5.688982 |\n",
       "| 2 | 1973 | Netherlands          | Europe | Western Europe     | NA            |   41530.0 | 398.084182 |  0.8273310 | 71840909664 |  5.444223 | ⋯ | 78.08364 |  2.702997 | NA |  14.1 |   31535 | 13439322 | 38.2941 | 100.04730 | 22.46063 |  1.337022 |\n",
       "| 3 | 1973 | Poland               | Europe | Eastern Europe     | NA            |  312690.0 | 108.907245 |  0.9081136 |          NA |        NA | ⋯ |       NA |        NA | NA |  30.5 |  -28055 | 33357200 |      NA | 105.33872 |       NA |  2.125265 |\n",
       "| 4 | 1973 | Egypt, Arab Rep.     | Africa | Northern Africa    | NA            | 1001450.0 |  37.290448 |  2.1511827 | 10098534613 |  3.506830 | ⋯ | 20.16134 | 13.513514 | NA | 232.5 | -112685 | 37120776 |      NA |  70.22195 |       NA |  3.007695 |\n",
       "| 5 | 1973 | Gabon                | Africa | Sub-Saharan Africa | Middle Africa |  267670.0 |   2.465510 |  2.0673824 |   722780701 | 10.182434 | ⋯ | 72.08272 |  1.303538 | NA | 149.4 |     613 |   635288 |      NA | 130.28342 |       NA |  7.959430 |\n",
       "| 6 | 1973 | United Arab Emirates | Asia   | Western Asia       | NA            |   98647.9 |   6.217206 | 11.8082030 |          NA |        NA | ⋯ |       NA |        NA | NA |  72.8 |   39563 |   441546 |      NA |  74.63289 |       NA | 11.808179 |\n",
       "\n"
      ],
      "text/plain": [
       "  Year Country              Region SubRegion          IntermRegion \n",
       "1 1973 Afghanistan          Asia   Southern Asia      NA           \n",
       "2 1973 Netherlands          Europe Western Europe     NA           \n",
       "3 1973 Poland               Europe Eastern Europe     NA           \n",
       "4 1973 Egypt, Arab Rep.     Africa Northern Africa    NA           \n",
       "5 1973 Gabon                Africa Sub-Saharan Africa Middle Africa\n",
       "6 1973 United Arab Emirates Asia   Western Asia       NA           \n",
       "  SurfAreaSqKm PopDens    PopGrowth. GDP         GDPGrowth. ⋯ MerchTrade.GDP\n",
       "1  652860.0     17.747275  2.5244212  1733333264        NA  ⋯ 18.17308      \n",
       "2   41530.0    398.084182  0.8273310 71840909664  5.444223  ⋯ 78.08364      \n",
       "3  312690.0    108.907245  0.9081136          NA        NA  ⋯       NA      \n",
       "4 1001450.0     37.290448  2.1511827 10098534613  3.506830  ⋯ 20.16134      \n",
       "5  267670.0      2.465510  2.0673824   722780701 10.182434  ⋯ 72.08272      \n",
       "6   98647.9      6.217206 11.8082030          NA        NA  ⋯       NA      \n",
       "  MilExp.GDP MobileSubs.100 MortRateU5 NetMigr PopTotal RevenueExGrants.GDP\n",
       "1  1.868910  NA             285.2        -3030 11575305      NA            \n",
       "2  2.702997  NA              14.1        31535 13439322 38.2941            \n",
       "3        NA  NA              30.5       -28055 33357200      NA            \n",
       "4 13.513514  NA             232.5      -112685 37120776      NA            \n",
       "5  1.303538  NA             149.4          613   635288      NA            \n",
       "6        NA  NA              72.8        39563   441546      NA            \n",
       "  SchEnrollPrim. TaxRevenue.GDP UrbanPopGrowth.\n",
       "1  35.21437            NA        5.688982      \n",
       "2 100.04730      22.46063        1.337022      \n",
       "3 105.33872            NA        2.125265      \n",
       "4  70.22195            NA        3.007695      \n",
       "5 130.28342            NA        7.959430      \n",
       "6  74.63289            NA       11.808179      "
      ]
     },
     "metadata": {},
     "output_type": "display_data"
    }
   ],
   "source": [
    "df[df=='']= NA\n",
    "\n",
    "head(df)"
   ]
  },
  {
   "cell_type": "code",
   "execution_count": 6,
   "id": "4bccb6bd-d53b-4ce5-b85f-94f33f182473",
   "metadata": {},
   "outputs": [
    {
     "data": {
      "text/html": [
       "<style>\n",
       ".dl-inline {width: auto; margin:0; padding: 0}\n",
       ".dl-inline>dt, .dl-inline>dd {float: none; width: auto; display: inline-block}\n",
       ".dl-inline>dt::after {content: \":\\0020\"; padding-right: .5ex}\n",
       ".dl-inline>dt:not(:first-of-type) {padding-left: .5ex}\n",
       "</style><dl class=dl-inline><dt>Year</dt><dd>0</dd><dt>Country</dt><dd>0</dd><dt>Region</dt><dd>0</dd><dt>SubRegion</dt><dd>0</dd><dt>IntermRegion</dt><dd>5733</dd><dt>SurfAreaSqKm</dt><dd>47</dd><dt>PopDens</dt><dd>650</dd><dt>PopGrowth.</dt><dd>18</dd><dt>GDP</dt><dd>1279</dd><dt>GDPGrowth.</dt><dd>1523</dd><dt>AdolFertRate</dt><dd>0</dd><dt>AgriValAdd.GDP</dt><dd>2451</dd><dt>DomCredit.GDP</dt><dd>8762</dd><dt>Exports.GDP</dt><dd>2513</dd><dt>FertRate</dt><dd>201</dd><dt>FDINetBoP</dt><dd>1390</dd><dt>GNI.CapAtlas</dt><dd>2080</dd><dt>GNIAtlas</dt><dd>2079</dd><dt>GrossCapForm.GDP</dt><dd>2768</dd><dt>Imports.GDP</dt><dd>2513</dd><dt>IndValAdd.GDP</dt><dd>2502</dd><dt>InflConsPric.</dt><dd>1550</dd><dt>LifeExpBirth</dt><dd>207</dd><dt>MerchTrade.GDP</dt><dd>1614</dd><dt>MilExp.GDP</dt><dd>3514</dd><dt>MobileSubs.100</dt><dd>751</dd><dt>MortRateU5</dt><dd>814</dd><dt>NetMigr</dt><dd>0</dd><dt>PopTotal</dt><dd>17</dd><dt>RevenueExGrants.GDP</dt><dd>5773</dd><dt>SchEnrollPrim.</dt><dd>2017</dd><dt>TaxRevenue.GDP</dt><dd>5719</dd><dt>UrbanPopGrowth.</dt><dd>18</dd></dl>\n"
      ],
      "text/latex": [
       "\\begin{description*}\n",
       "\\item[Year] 0\n",
       "\\item[Country] 0\n",
       "\\item[Region] 0\n",
       "\\item[SubRegion] 0\n",
       "\\item[IntermRegion] 5733\n",
       "\\item[SurfAreaSqKm] 47\n",
       "\\item[PopDens] 650\n",
       "\\item[PopGrowth.] 18\n",
       "\\item[GDP] 1279\n",
       "\\item[GDPGrowth.] 1523\n",
       "\\item[AdolFertRate] 0\n",
       "\\item[AgriValAdd.GDP] 2451\n",
       "\\item[DomCredit.GDP] 8762\n",
       "\\item[Exports.GDP] 2513\n",
       "\\item[FertRate] 201\n",
       "\\item[FDINetBoP] 1390\n",
       "\\item[GNI.CapAtlas] 2080\n",
       "\\item[GNIAtlas] 2079\n",
       "\\item[GrossCapForm.GDP] 2768\n",
       "\\item[Imports.GDP] 2513\n",
       "\\item[IndValAdd.GDP] 2502\n",
       "\\item[InflConsPric.] 1550\n",
       "\\item[LifeExpBirth] 207\n",
       "\\item[MerchTrade.GDP] 1614\n",
       "\\item[MilExp.GDP] 3514\n",
       "\\item[MobileSubs.100] 751\n",
       "\\item[MortRateU5] 814\n",
       "\\item[NetMigr] 0\n",
       "\\item[PopTotal] 17\n",
       "\\item[RevenueExGrants.GDP] 5773\n",
       "\\item[SchEnrollPrim.] 2017\n",
       "\\item[TaxRevenue.GDP] 5719\n",
       "\\item[UrbanPopGrowth.] 18\n",
       "\\end{description*}\n"
      ],
      "text/markdown": [
       "Year\n",
       ":   0Country\n",
       ":   0Region\n",
       ":   0SubRegion\n",
       ":   0IntermRegion\n",
       ":   5733SurfAreaSqKm\n",
       ":   47PopDens\n",
       ":   650PopGrowth.\n",
       ":   18GDP\n",
       ":   1279GDPGrowth.\n",
       ":   1523AdolFertRate\n",
       ":   0AgriValAdd.GDP\n",
       ":   2451DomCredit.GDP\n",
       ":   8762Exports.GDP\n",
       ":   2513FertRate\n",
       ":   201FDINetBoP\n",
       ":   1390GNI.CapAtlas\n",
       ":   2080GNIAtlas\n",
       ":   2079GrossCapForm.GDP\n",
       ":   2768Imports.GDP\n",
       ":   2513IndValAdd.GDP\n",
       ":   2502InflConsPric.\n",
       ":   1550LifeExpBirth\n",
       ":   207MerchTrade.GDP\n",
       ":   1614MilExp.GDP\n",
       ":   3514MobileSubs.100\n",
       ":   751MortRateU5\n",
       ":   814NetMigr\n",
       ":   0PopTotal\n",
       ":   17RevenueExGrants.GDP\n",
       ":   5773SchEnrollPrim.\n",
       ":   2017TaxRevenue.GDP\n",
       ":   5719UrbanPopGrowth.\n",
       ":   18\n",
       "\n"
      ],
      "text/plain": [
       "               Year             Country              Region           SubRegion \n",
       "                  0                   0                   0                   0 \n",
       "       IntermRegion        SurfAreaSqKm             PopDens          PopGrowth. \n",
       "               5733                  47                 650                  18 \n",
       "                GDP          GDPGrowth.        AdolFertRate      AgriValAdd.GDP \n",
       "               1279                1523                   0                2451 \n",
       "      DomCredit.GDP         Exports.GDP            FertRate           FDINetBoP \n",
       "               8762                2513                 201                1390 \n",
       "       GNI.CapAtlas            GNIAtlas    GrossCapForm.GDP         Imports.GDP \n",
       "               2080                2079                2768                2513 \n",
       "      IndValAdd.GDP       InflConsPric.        LifeExpBirth      MerchTrade.GDP \n",
       "               2502                1550                 207                1614 \n",
       "         MilExp.GDP      MobileSubs.100          MortRateU5             NetMigr \n",
       "               3514                 751                 814                   0 \n",
       "           PopTotal RevenueExGrants.GDP      SchEnrollPrim.      TaxRevenue.GDP \n",
       "                 17                5773                2017                5719 \n",
       "    UrbanPopGrowth. \n",
       "                 18 "
      ]
     },
     "metadata": {},
     "output_type": "display_data"
    }
   ],
   "source": [
    "colSums(is.na(df))\n",
    "# se ha reemplado correctamente pero es mejor ver el % de NA"
   ]
  },
  {
   "cell_type": "code",
   "execution_count": 7,
   "id": "c901575a-6557-43a8-b48f-d7f717265c90",
   "metadata": {},
   "outputs": [
    {
     "data": {
      "text/html": [
       "<style>\n",
       ".dl-inline {width: auto; margin:0; padding: 0}\n",
       ".dl-inline>dt, .dl-inline>dd {float: none; width: auto; display: inline-block}\n",
       ".dl-inline>dt::after {content: \":\\0020\"; padding-right: .5ex}\n",
       ".dl-inline>dt:not(:first-of-type) {padding-left: .5ex}\n",
       "</style><dl class=dl-inline><dt>DomCredit.GDP</dt><dd>88.0868603599075</dd><dt>RevenueExGrants.GDP</dt><dd>58.0375992761637</dd><dt>IntermRegion</dt><dd>57.6354679802956</dd><dt>TaxRevenue.GDP</dt><dd>57.4947220267417</dd><dt>MilExp.GDP</dt><dd>35.3272343420127</dd><dt>GrossCapForm.GDP</dt><dd>27.8274856740726</dd><dt>Exports.GDP</dt><dd>25.2638986629134</dd><dt>Imports.GDP</dt><dd>25.2638986629134</dd><dt>IndValAdd.GDP</dt><dd>25.1533125565497</dd><dt>AgriValAdd.GDP</dt><dd>24.6405951543179</dd><dt>GNI.CapAtlas</dt><dd>20.9108273851412</dd><dt>GNIAtlas</dt><dd>20.9007741027445</dd><dt>SchEnrollPrim.</dt><dd>20.277470594149</dd><dt>MerchTrade.GDP</dt><dd>16.2259977882779</dd><dt>InflConsPric.</dt><dd>15.5825877148889</dd><dt>GDPGrowth.</dt><dd>15.3111490901779</dd><dt>FDINetBoP</dt><dd>13.9740625314165</dd><dt>GDP</dt><dd>12.8581481853825</dd><dt>MortRateU5</dt><dd>8.18337187091585</dd><dt>MobileSubs.100</dt><dd>7.5500150799236</dd><dt>PopDens</dt><dd>6.53463355785664</dd><dt>LifeExpBirth</dt><dd>2.08102945611742</dd><dt>FertRate</dt><dd>2.02070976173721</dd><dt>SurfAreaSqKm</dt><dd>0.472504272645019</dd><dt>PopGrowth.</dt><dd>0.180959083140645</dd><dt>UrbanPopGrowth.</dt><dd>0.180959083140645</dd><dt>PopTotal</dt><dd>0.170905800743943</dd><dt>Year</dt><dd>0</dd><dt>Country</dt><dd>0</dd><dt>Region</dt><dd>0</dd><dt>SubRegion</dt><dd>0</dd><dt>AdolFertRate</dt><dd>0</dd><dt>NetMigr</dt><dd>0</dd></dl>\n"
      ],
      "text/latex": [
       "\\begin{description*}\n",
       "\\item[DomCredit.GDP] 88.0868603599075\n",
       "\\item[RevenueExGrants.GDP] 58.0375992761637\n",
       "\\item[IntermRegion] 57.6354679802956\n",
       "\\item[TaxRevenue.GDP] 57.4947220267417\n",
       "\\item[MilExp.GDP] 35.3272343420127\n",
       "\\item[GrossCapForm.GDP] 27.8274856740726\n",
       "\\item[Exports.GDP] 25.2638986629134\n",
       "\\item[Imports.GDP] 25.2638986629134\n",
       "\\item[IndValAdd.GDP] 25.1533125565497\n",
       "\\item[AgriValAdd.GDP] 24.6405951543179\n",
       "\\item[GNI.CapAtlas] 20.9108273851412\n",
       "\\item[GNIAtlas] 20.9007741027445\n",
       "\\item[SchEnrollPrim.] 20.277470594149\n",
       "\\item[MerchTrade.GDP] 16.2259977882779\n",
       "\\item[InflConsPric.] 15.5825877148889\n",
       "\\item[GDPGrowth.] 15.3111490901779\n",
       "\\item[FDINetBoP] 13.9740625314165\n",
       "\\item[GDP] 12.8581481853825\n",
       "\\item[MortRateU5] 8.18337187091585\n",
       "\\item[MobileSubs.100] 7.5500150799236\n",
       "\\item[PopDens] 6.53463355785664\n",
       "\\item[LifeExpBirth] 2.08102945611742\n",
       "\\item[FertRate] 2.02070976173721\n",
       "\\item[SurfAreaSqKm] 0.472504272645019\n",
       "\\item[PopGrowth.] 0.180959083140645\n",
       "\\item[UrbanPopGrowth.] 0.180959083140645\n",
       "\\item[PopTotal] 0.170905800743943\n",
       "\\item[Year] 0\n",
       "\\item[Country] 0\n",
       "\\item[Region] 0\n",
       "\\item[SubRegion] 0\n",
       "\\item[AdolFertRate] 0\n",
       "\\item[NetMigr] 0\n",
       "\\end{description*}\n"
      ],
      "text/markdown": [
       "DomCredit.GDP\n",
       ":   88.0868603599075RevenueExGrants.GDP\n",
       ":   58.0375992761637IntermRegion\n",
       ":   57.6354679802956TaxRevenue.GDP\n",
       ":   57.4947220267417MilExp.GDP\n",
       ":   35.3272343420127GrossCapForm.GDP\n",
       ":   27.8274856740726Exports.GDP\n",
       ":   25.2638986629134Imports.GDP\n",
       ":   25.2638986629134IndValAdd.GDP\n",
       ":   25.1533125565497AgriValAdd.GDP\n",
       ":   24.6405951543179GNI.CapAtlas\n",
       ":   20.9108273851412GNIAtlas\n",
       ":   20.9007741027445SchEnrollPrim.\n",
       ":   20.277470594149MerchTrade.GDP\n",
       ":   16.2259977882779InflConsPric.\n",
       ":   15.5825877148889GDPGrowth.\n",
       ":   15.3111490901779FDINetBoP\n",
       ":   13.9740625314165GDP\n",
       ":   12.8581481853825MortRateU5\n",
       ":   8.18337187091585MobileSubs.100\n",
       ":   7.5500150799236PopDens\n",
       ":   6.53463355785664LifeExpBirth\n",
       ":   2.08102945611742FertRate\n",
       ":   2.02070976173721SurfAreaSqKm\n",
       ":   0.472504272645019PopGrowth.\n",
       ":   0.180959083140645UrbanPopGrowth.\n",
       ":   0.180959083140645PopTotal\n",
       ":   0.170905800743943Year\n",
       ":   0Country\n",
       ":   0Region\n",
       ":   0SubRegion\n",
       ":   0AdolFertRate\n",
       ":   0NetMigr\n",
       ":   0\n",
       "\n"
      ],
      "text/plain": [
       "      DomCredit.GDP RevenueExGrants.GDP        IntermRegion      TaxRevenue.GDP \n",
       "         88.0868604          58.0375993          57.6354680          57.4947220 \n",
       "         MilExp.GDP    GrossCapForm.GDP         Exports.GDP         Imports.GDP \n",
       "         35.3272343          27.8274857          25.2638987          25.2638987 \n",
       "      IndValAdd.GDP      AgriValAdd.GDP        GNI.CapAtlas            GNIAtlas \n",
       "         25.1533126          24.6405952          20.9108274          20.9007741 \n",
       "     SchEnrollPrim.      MerchTrade.GDP       InflConsPric.          GDPGrowth. \n",
       "         20.2774706          16.2259978          15.5825877          15.3111491 \n",
       "          FDINetBoP                 GDP          MortRateU5      MobileSubs.100 \n",
       "         13.9740625          12.8581482           8.1833719           7.5500151 \n",
       "            PopDens        LifeExpBirth            FertRate        SurfAreaSqKm \n",
       "          6.5346336           2.0810295           2.0207098           0.4725043 \n",
       "         PopGrowth.     UrbanPopGrowth.            PopTotal                Year \n",
       "          0.1809591           0.1809591           0.1709058           0.0000000 \n",
       "            Country              Region           SubRegion        AdolFertRate \n",
       "          0.0000000           0.0000000           0.0000000           0.0000000 \n",
       "            NetMigr \n",
       "          0.0000000 "
      ]
     },
     "metadata": {},
     "output_type": "display_data"
    }
   ],
   "source": [
    "porcent_NA= (colSums(is.na(df))/ nrow(df))*100\n",
    "sort(porcent_NA, decreasing= TRUE)"
   ]
  },
  {
   "cell_type": "markdown",
   "id": "28c099c8-fdd5-448d-a4a5-0e7923b097e9",
   "metadata": {},
   "source": [
    "## Se ve que domestic credit tiene un 88% de nulos. Y que IntermRegion no va a aportar mucho más valor. Se van a eliminar. ¿Qué hago con RevenueExGrants.GDP y TaxRevenue.GDP?"
   ]
  },
  {
   "cell_type": "code",
   "execution_count": 20,
   "id": "c7a34719-072a-412f-be12-135be7b26105",
   "metadata": {},
   "outputs": [
    {
     "data": {
      "text/html": [
       "<table class=\"dataframe\">\n",
       "<caption>A data.frame: 10 × 31</caption>\n",
       "<thead>\n",
       "\t<tr><th></th><th scope=col>Year</th><th scope=col>Country</th><th scope=col>Region</th><th scope=col>SubRegion</th><th scope=col>SurfAreaSqKm</th><th scope=col>PopDens</th><th scope=col>PopGrowth.</th><th scope=col>GDP</th><th scope=col>GDPGrowth.</th><th scope=col>AdolFertRate</th><th scope=col>⋯</th><th scope=col>MerchTrade.GDP</th><th scope=col>MilExp.GDP</th><th scope=col>MobileSubs.100</th><th scope=col>MortRateU5</th><th scope=col>NetMigr</th><th scope=col>PopTotal</th><th scope=col>RevenueExGrants.GDP</th><th scope=col>SchEnrollPrim.</th><th scope=col>TaxRevenue.GDP</th><th scope=col>UrbanPopGrowth.</th></tr>\n",
       "\t<tr><th></th><th scope=col>&lt;int&gt;</th><th scope=col>&lt;chr&gt;</th><th scope=col>&lt;chr&gt;</th><th scope=col>&lt;chr&gt;</th><th scope=col>&lt;dbl&gt;</th><th scope=col>&lt;dbl&gt;</th><th scope=col>&lt;dbl&gt;</th><th scope=col>&lt;dbl&gt;</th><th scope=col>&lt;dbl&gt;</th><th scope=col>&lt;dbl&gt;</th><th scope=col>⋯</th><th scope=col>&lt;dbl&gt;</th><th scope=col>&lt;dbl&gt;</th><th scope=col>&lt;dbl&gt;</th><th scope=col>&lt;dbl&gt;</th><th scope=col>&lt;dbl&gt;</th><th scope=col>&lt;dbl&gt;</th><th scope=col>&lt;dbl&gt;</th><th scope=col>&lt;dbl&gt;</th><th scope=col>&lt;dbl&gt;</th><th scope=col>&lt;dbl&gt;</th></tr>\n",
       "</thead>\n",
       "<tbody>\n",
       "\t<tr><th scope=row>1</th><td>1973</td><td>Afghanistan         </td><td>Asia    </td><td>Southern Asia                  </td><td> 652860.0</td><td> 17.7472747</td><td> 2.5244212</td><td> 1733333264</td><td>       NA</td><td>142.874</td><td>⋯</td><td>18.17308</td><td> 1.868910</td><td>NA</td><td>285.2</td><td>  -3030</td><td>11575305</td><td>     NA</td><td> 35.21437</td><td>      NA</td><td> 5.6889819</td></tr>\n",
       "\t<tr><th scope=row>2</th><td>1973</td><td>Netherlands         </td><td>Europe  </td><td>Western Europe                 </td><td>  41530.0</td><td>398.0841825</td><td> 0.8273310</td><td>71840909664</td><td> 5.444223</td><td> 16.931</td><td>⋯</td><td>78.08364</td><td> 2.702997</td><td>NA</td><td> 14.1</td><td>  31535</td><td>13439322</td><td>38.2941</td><td>100.04730</td><td>22.46063</td><td> 1.3370220</td></tr>\n",
       "\t<tr><th scope=row>3</th><td>1973</td><td>Poland              </td><td>Europe  </td><td>Eastern Europe                 </td><td> 312690.0</td><td>108.9072448</td><td> 0.9081136</td><td>         NA</td><td>       NA</td><td> 27.951</td><td>⋯</td><td>      NA</td><td>       NA</td><td>NA</td><td> 30.5</td><td> -28055</td><td>33357200</td><td>     NA</td><td>105.33872</td><td>      NA</td><td> 2.1252653</td></tr>\n",
       "\t<tr><th scope=row>4</th><td>1973</td><td>Egypt, Arab Rep.    </td><td>Africa  </td><td>Northern Africa                </td><td>1001450.0</td><td> 37.2904475</td><td> 2.1511827</td><td>10098534613</td><td> 3.506830</td><td>123.414</td><td>⋯</td><td>20.16134</td><td>13.513514</td><td>NA</td><td>232.5</td><td>-112685</td><td>37120776</td><td>     NA</td><td> 70.22195</td><td>      NA</td><td> 3.0076951</td></tr>\n",
       "\t<tr><th scope=row>5</th><td>1973</td><td>Gabon               </td><td>Africa  </td><td>Sub-Saharan Africa             </td><td> 267670.0</td><td>  2.4655101</td><td> 2.0673824</td><td>  722780701</td><td>10.182434</td><td>186.627</td><td>⋯</td><td>72.08272</td><td> 1.303538</td><td>NA</td><td>149.4</td><td>    613</td><td>  635288</td><td>     NA</td><td>130.28342</td><td>      NA</td><td> 7.9594297</td></tr>\n",
       "\t<tr><th scope=row>6</th><td>1973</td><td>United Arab Emirates</td><td>Asia    </td><td>Western Asia                   </td><td>  98647.9</td><td>  6.2172064</td><td>11.8082030</td><td>         NA</td><td>       NA</td><td>144.822</td><td>⋯</td><td>      NA</td><td>       NA</td><td>NA</td><td> 72.8</td><td>  39563</td><td>  441546</td><td>     NA</td><td> 74.63289</td><td>      NA</td><td>11.8081786</td></tr>\n",
       "\t<tr><th scope=row>7</th><td>1973</td><td>Viet Nam            </td><td>Asia    </td><td>South-eastern Asia             </td><td> 331690.0</td><td>137.9190789</td><td> 2.2192171</td><td>         NA</td><td>       NA</td><td> 31.631</td><td>⋯</td><td>      NA</td><td>       NA</td><td>NA</td><td> 79.9</td><td> -19999</td><td>44891281</td><td>     NA</td><td>       NA</td><td>      NA</td><td> 2.7370143</td></tr>\n",
       "\t<tr><th scope=row>8</th><td>1973</td><td>Antigua and Barbuda </td><td>Americas</td><td>Latin America and the Caribbean</td><td>    440.0</td><td>146.5068182</td><td>-0.3592503</td><td>         NA</td><td>       NA</td><td>106.138</td><td>⋯</td><td>      NA</td><td>       NA</td><td>NA</td><td> 25.0</td><td>  -1430</td><td>   64463</td><td>     NA</td><td>       NA</td><td>      NA</td><td>-0.1274581</td></tr>\n",
       "\t<tr><th scope=row>9</th><td>1973</td><td>Mongolia            </td><td>Asia    </td><td>Eastern Asia                   </td><td>1564120.0</td><td>  0.9062129</td><td> 2.7819579</td><td>         NA</td><td>       NA</td><td> 52.925</td><td>⋯</td><td>      NA</td><td>       NA</td><td>NA</td><td>   NA</td><td>   4610</td><td> 1402309</td><td>     NA</td><td> 99.67121</td><td>      NA</td><td> 4.3186855</td></tr>\n",
       "\t<tr><th scope=row>10</th><td>1973</td><td>Haiti               </td><td>Americas</td><td>Latin America and the Caribbean</td><td>  27750.0</td><td>179.2710450</td><td> 1.7887867</td><td>  466798975</td><td> 4.755322</td><td> 71.989</td><td>⋯</td><td>29.13460</td><td>       NA</td><td>NA</td><td>227.8</td><td> -18699</td><td> 4940710</td><td>     NA</td><td> 55.48163</td><td>      NA</td><td> 1.9215014</td></tr>\n",
       "</tbody>\n",
       "</table>\n"
      ],
      "text/latex": [
       "A data.frame: 10 × 31\n",
       "\\begin{tabular}{r|lllllllllllllllllllll}\n",
       "  & Year & Country & Region & SubRegion & SurfAreaSqKm & PopDens & PopGrowth. & GDP & GDPGrowth. & AdolFertRate & ⋯ & MerchTrade.GDP & MilExp.GDP & MobileSubs.100 & MortRateU5 & NetMigr & PopTotal & RevenueExGrants.GDP & SchEnrollPrim. & TaxRevenue.GDP & UrbanPopGrowth.\\\\\n",
       "  & <int> & <chr> & <chr> & <chr> & <dbl> & <dbl> & <dbl> & <dbl> & <dbl> & <dbl> & ⋯ & <dbl> & <dbl> & <dbl> & <dbl> & <dbl> & <dbl> & <dbl> & <dbl> & <dbl> & <dbl>\\\\\n",
       "\\hline\n",
       "\t1 & 1973 & Afghanistan          & Asia     & Southern Asia                   &  652860.0 &  17.7472747 &  2.5244212 &  1733333264 &        NA & 142.874 & ⋯ & 18.17308 &  1.868910 & NA & 285.2 &   -3030 & 11575305 &      NA &  35.21437 &       NA &  5.6889819\\\\\n",
       "\t2 & 1973 & Netherlands          & Europe   & Western Europe                  &   41530.0 & 398.0841825 &  0.8273310 & 71840909664 &  5.444223 &  16.931 & ⋯ & 78.08364 &  2.702997 & NA &  14.1 &   31535 & 13439322 & 38.2941 & 100.04730 & 22.46063 &  1.3370220\\\\\n",
       "\t3 & 1973 & Poland               & Europe   & Eastern Europe                  &  312690.0 & 108.9072448 &  0.9081136 &          NA &        NA &  27.951 & ⋯ &       NA &        NA & NA &  30.5 &  -28055 & 33357200 &      NA & 105.33872 &       NA &  2.1252653\\\\\n",
       "\t4 & 1973 & Egypt, Arab Rep.     & Africa   & Northern Africa                 & 1001450.0 &  37.2904475 &  2.1511827 & 10098534613 &  3.506830 & 123.414 & ⋯ & 20.16134 & 13.513514 & NA & 232.5 & -112685 & 37120776 &      NA &  70.22195 &       NA &  3.0076951\\\\\n",
       "\t5 & 1973 & Gabon                & Africa   & Sub-Saharan Africa              &  267670.0 &   2.4655101 &  2.0673824 &   722780701 & 10.182434 & 186.627 & ⋯ & 72.08272 &  1.303538 & NA & 149.4 &     613 &   635288 &      NA & 130.28342 &       NA &  7.9594297\\\\\n",
       "\t6 & 1973 & United Arab Emirates & Asia     & Western Asia                    &   98647.9 &   6.2172064 & 11.8082030 &          NA &        NA & 144.822 & ⋯ &       NA &        NA & NA &  72.8 &   39563 &   441546 &      NA &  74.63289 &       NA & 11.8081786\\\\\n",
       "\t7 & 1973 & Viet Nam             & Asia     & South-eastern Asia              &  331690.0 & 137.9190789 &  2.2192171 &          NA &        NA &  31.631 & ⋯ &       NA &        NA & NA &  79.9 &  -19999 & 44891281 &      NA &        NA &       NA &  2.7370143\\\\\n",
       "\t8 & 1973 & Antigua and Barbuda  & Americas & Latin America and the Caribbean &     440.0 & 146.5068182 & -0.3592503 &          NA &        NA & 106.138 & ⋯ &       NA &        NA & NA &  25.0 &   -1430 &    64463 &      NA &        NA &       NA & -0.1274581\\\\\n",
       "\t9 & 1973 & Mongolia             & Asia     & Eastern Asia                    & 1564120.0 &   0.9062129 &  2.7819579 &          NA &        NA &  52.925 & ⋯ &       NA &        NA & NA &    NA &    4610 &  1402309 &      NA &  99.67121 &       NA &  4.3186855\\\\\n",
       "\t10 & 1973 & Haiti                & Americas & Latin America and the Caribbean &   27750.0 & 179.2710450 &  1.7887867 &   466798975 &  4.755322 &  71.989 & ⋯ & 29.13460 &        NA & NA & 227.8 &  -18699 &  4940710 &      NA &  55.48163 &       NA &  1.9215014\\\\\n",
       "\\end{tabular}\n"
      ],
      "text/markdown": [
       "\n",
       "A data.frame: 10 × 31\n",
       "\n",
       "| <!--/--> | Year &lt;int&gt; | Country &lt;chr&gt; | Region &lt;chr&gt; | SubRegion &lt;chr&gt; | SurfAreaSqKm &lt;dbl&gt; | PopDens &lt;dbl&gt; | PopGrowth. &lt;dbl&gt; | GDP &lt;dbl&gt; | GDPGrowth. &lt;dbl&gt; | AdolFertRate &lt;dbl&gt; | ⋯ ⋯ | MerchTrade.GDP &lt;dbl&gt; | MilExp.GDP &lt;dbl&gt; | MobileSubs.100 &lt;dbl&gt; | MortRateU5 &lt;dbl&gt; | NetMigr &lt;dbl&gt; | PopTotal &lt;dbl&gt; | RevenueExGrants.GDP &lt;dbl&gt; | SchEnrollPrim. &lt;dbl&gt; | TaxRevenue.GDP &lt;dbl&gt; | UrbanPopGrowth. &lt;dbl&gt; |\n",
       "|---|---|---|---|---|---|---|---|---|---|---|---|---|---|---|---|---|---|---|---|---|---|\n",
       "| 1 | 1973 | Afghanistan          | Asia     | Southern Asia                   |  652860.0 |  17.7472747 |  2.5244212 |  1733333264 |        NA | 142.874 | ⋯ | 18.17308 |  1.868910 | NA | 285.2 |   -3030 | 11575305 |      NA |  35.21437 |       NA |  5.6889819 |\n",
       "| 2 | 1973 | Netherlands          | Europe   | Western Europe                  |   41530.0 | 398.0841825 |  0.8273310 | 71840909664 |  5.444223 |  16.931 | ⋯ | 78.08364 |  2.702997 | NA |  14.1 |   31535 | 13439322 | 38.2941 | 100.04730 | 22.46063 |  1.3370220 |\n",
       "| 3 | 1973 | Poland               | Europe   | Eastern Europe                  |  312690.0 | 108.9072448 |  0.9081136 |          NA |        NA |  27.951 | ⋯ |       NA |        NA | NA |  30.5 |  -28055 | 33357200 |      NA | 105.33872 |       NA |  2.1252653 |\n",
       "| 4 | 1973 | Egypt, Arab Rep.     | Africa   | Northern Africa                 | 1001450.0 |  37.2904475 |  2.1511827 | 10098534613 |  3.506830 | 123.414 | ⋯ | 20.16134 | 13.513514 | NA | 232.5 | -112685 | 37120776 |      NA |  70.22195 |       NA |  3.0076951 |\n",
       "| 5 | 1973 | Gabon                | Africa   | Sub-Saharan Africa              |  267670.0 |   2.4655101 |  2.0673824 |   722780701 | 10.182434 | 186.627 | ⋯ | 72.08272 |  1.303538 | NA | 149.4 |     613 |   635288 |      NA | 130.28342 |       NA |  7.9594297 |\n",
       "| 6 | 1973 | United Arab Emirates | Asia     | Western Asia                    |   98647.9 |   6.2172064 | 11.8082030 |          NA |        NA | 144.822 | ⋯ |       NA |        NA | NA |  72.8 |   39563 |   441546 |      NA |  74.63289 |       NA | 11.8081786 |\n",
       "| 7 | 1973 | Viet Nam             | Asia     | South-eastern Asia              |  331690.0 | 137.9190789 |  2.2192171 |          NA |        NA |  31.631 | ⋯ |       NA |        NA | NA |  79.9 |  -19999 | 44891281 |      NA |        NA |       NA |  2.7370143 |\n",
       "| 8 | 1973 | Antigua and Barbuda  | Americas | Latin America and the Caribbean |     440.0 | 146.5068182 | -0.3592503 |          NA |        NA | 106.138 | ⋯ |       NA |        NA | NA |  25.0 |   -1430 |    64463 |      NA |        NA |       NA | -0.1274581 |\n",
       "| 9 | 1973 | Mongolia             | Asia     | Eastern Asia                    | 1564120.0 |   0.9062129 |  2.7819579 |          NA |        NA |  52.925 | ⋯ |       NA |        NA | NA |    NA |    4610 |  1402309 |      NA |  99.67121 |       NA |  4.3186855 |\n",
       "| 10 | 1973 | Haiti                | Americas | Latin America and the Caribbean |   27750.0 | 179.2710450 |  1.7887867 |   466798975 |  4.755322 |  71.989 | ⋯ | 29.13460 |        NA | NA | 227.8 |  -18699 |  4940710 |      NA |  55.48163 |       NA |  1.9215014 |\n",
       "\n"
      ],
      "text/plain": [
       "   Year Country              Region   SubRegion                      \n",
       "1  1973 Afghanistan          Asia     Southern Asia                  \n",
       "2  1973 Netherlands          Europe   Western Europe                 \n",
       "3  1973 Poland               Europe   Eastern Europe                 \n",
       "4  1973 Egypt, Arab Rep.     Africa   Northern Africa                \n",
       "5  1973 Gabon                Africa   Sub-Saharan Africa             \n",
       "6  1973 United Arab Emirates Asia     Western Asia                   \n",
       "7  1973 Viet Nam             Asia     South-eastern Asia             \n",
       "8  1973 Antigua and Barbuda  Americas Latin America and the Caribbean\n",
       "9  1973 Mongolia             Asia     Eastern Asia                   \n",
       "10 1973 Haiti                Americas Latin America and the Caribbean\n",
       "   SurfAreaSqKm PopDens     PopGrowth. GDP         GDPGrowth. AdolFertRate ⋯\n",
       "1   652860.0     17.7472747  2.5244212  1733333264        NA  142.874      ⋯\n",
       "2    41530.0    398.0841825  0.8273310 71840909664  5.444223   16.931      ⋯\n",
       "3   312690.0    108.9072448  0.9081136          NA        NA   27.951      ⋯\n",
       "4  1001450.0     37.2904475  2.1511827 10098534613  3.506830  123.414      ⋯\n",
       "5   267670.0      2.4655101  2.0673824   722780701 10.182434  186.627      ⋯\n",
       "6    98647.9      6.2172064 11.8082030          NA        NA  144.822      ⋯\n",
       "7   331690.0    137.9190789  2.2192171          NA        NA   31.631      ⋯\n",
       "8      440.0    146.5068182 -0.3592503          NA        NA  106.138      ⋯\n",
       "9  1564120.0      0.9062129  2.7819579          NA        NA   52.925      ⋯\n",
       "10   27750.0    179.2710450  1.7887867   466798975  4.755322   71.989      ⋯\n",
       "   MerchTrade.GDP MilExp.GDP MobileSubs.100 MortRateU5 NetMigr PopTotal\n",
       "1  18.17308        1.868910  NA             285.2        -3030 11575305\n",
       "2  78.08364        2.702997  NA              14.1        31535 13439322\n",
       "3        NA              NA  NA              30.5       -28055 33357200\n",
       "4  20.16134       13.513514  NA             232.5      -112685 37120776\n",
       "5  72.08272        1.303538  NA             149.4          613   635288\n",
       "6        NA              NA  NA              72.8        39563   441546\n",
       "7        NA              NA  NA              79.9       -19999 44891281\n",
       "8        NA              NA  NA              25.0        -1430    64463\n",
       "9        NA              NA  NA                NA         4610  1402309\n",
       "10 29.13460              NA  NA             227.8       -18699  4940710\n",
       "   RevenueExGrants.GDP SchEnrollPrim. TaxRevenue.GDP UrbanPopGrowth.\n",
       "1       NA              35.21437            NA        5.6889819     \n",
       "2  38.2941             100.04730      22.46063        1.3370220     \n",
       "3       NA             105.33872            NA        2.1252653     \n",
       "4       NA              70.22195            NA        3.0076951     \n",
       "5       NA             130.28342            NA        7.9594297     \n",
       "6       NA              74.63289            NA       11.8081786     \n",
       "7       NA                    NA            NA        2.7370143     \n",
       "8       NA                    NA            NA       -0.1274581     \n",
       "9       NA              99.67121            NA        4.3186855     \n",
       "10      NA              55.48163            NA        1.9215014     "
      ]
     },
     "metadata": {},
     "output_type": "display_data"
    }
   ],
   "source": [
    "df= df[, !colnames(df) %in% c(\"DomCredit.GDP\", \"IntermRegion\")]\n",
    "head(df,10)"
   ]
  },
  {
   "cell_type": "code",
   "execution_count": 22,
   "id": "162c42a1-7d7c-4987-9c5b-e27ce2b91e97",
   "metadata": {},
   "outputs": [
    {
     "data": {
      "text/html": [
       "<style>\n",
       ".dl-inline {width: auto; margin:0; padding: 0}\n",
       ".dl-inline>dt, .dl-inline>dd {float: none; width: auto; display: inline-block}\n",
       ".dl-inline>dt::after {content: \":\\0020\"; padding-right: .5ex}\n",
       ".dl-inline>dt:not(:first-of-type) {padding-left: .5ex}\n",
       "</style><dl class=dl-inline><dt>Year</dt><dd>'integer'</dd><dt>Country</dt><dd>'character'</dd><dt>Region</dt><dd>'character'</dd><dt>SubRegion</dt><dd>'character'</dd><dt>SurfAreaSqKm</dt><dd>'numeric'</dd><dt>PopDens</dt><dd>'numeric'</dd><dt>PopGrowth.</dt><dd>'numeric'</dd><dt>GDP</dt><dd>'numeric'</dd><dt>GDPGrowth.</dt><dd>'numeric'</dd><dt>AdolFertRate</dt><dd>'numeric'</dd><dt>AgriValAdd.GDP</dt><dd>'numeric'</dd><dt>Exports.GDP</dt><dd>'numeric'</dd><dt>FertRate</dt><dd>'numeric'</dd><dt>FDINetBoP</dt><dd>'numeric'</dd><dt>GNI.CapAtlas</dt><dd>'numeric'</dd><dt>GNIAtlas</dt><dd>'numeric'</dd><dt>GrossCapForm.GDP</dt><dd>'numeric'</dd><dt>Imports.GDP</dt><dd>'numeric'</dd><dt>IndValAdd.GDP</dt><dd>'numeric'</dd><dt>InflConsPric.</dt><dd>'numeric'</dd><dt>LifeExpBirth</dt><dd>'numeric'</dd><dt>MerchTrade.GDP</dt><dd>'numeric'</dd><dt>MilExp.GDP</dt><dd>'numeric'</dd><dt>MobileSubs.100</dt><dd>'numeric'</dd><dt>MortRateU5</dt><dd>'numeric'</dd><dt>NetMigr</dt><dd>'numeric'</dd><dt>PopTotal</dt><dd>'numeric'</dd><dt>RevenueExGrants.GDP</dt><dd>'numeric'</dd><dt>SchEnrollPrim.</dt><dd>'numeric'</dd><dt>TaxRevenue.GDP</dt><dd>'numeric'</dd><dt>UrbanPopGrowth.</dt><dd>'numeric'</dd></dl>\n"
      ],
      "text/latex": [
       "\\begin{description*}\n",
       "\\item[Year] 'integer'\n",
       "\\item[Country] 'character'\n",
       "\\item[Region] 'character'\n",
       "\\item[SubRegion] 'character'\n",
       "\\item[SurfAreaSqKm] 'numeric'\n",
       "\\item[PopDens] 'numeric'\n",
       "\\item[PopGrowth.] 'numeric'\n",
       "\\item[GDP] 'numeric'\n",
       "\\item[GDPGrowth.] 'numeric'\n",
       "\\item[AdolFertRate] 'numeric'\n",
       "\\item[AgriValAdd.GDP] 'numeric'\n",
       "\\item[Exports.GDP] 'numeric'\n",
       "\\item[FertRate] 'numeric'\n",
       "\\item[FDINetBoP] 'numeric'\n",
       "\\item[GNI.CapAtlas] 'numeric'\n",
       "\\item[GNIAtlas] 'numeric'\n",
       "\\item[GrossCapForm.GDP] 'numeric'\n",
       "\\item[Imports.GDP] 'numeric'\n",
       "\\item[IndValAdd.GDP] 'numeric'\n",
       "\\item[InflConsPric.] 'numeric'\n",
       "\\item[LifeExpBirth] 'numeric'\n",
       "\\item[MerchTrade.GDP] 'numeric'\n",
       "\\item[MilExp.GDP] 'numeric'\n",
       "\\item[MobileSubs.100] 'numeric'\n",
       "\\item[MortRateU5] 'numeric'\n",
       "\\item[NetMigr] 'numeric'\n",
       "\\item[PopTotal] 'numeric'\n",
       "\\item[RevenueExGrants.GDP] 'numeric'\n",
       "\\item[SchEnrollPrim.] 'numeric'\n",
       "\\item[TaxRevenue.GDP] 'numeric'\n",
       "\\item[UrbanPopGrowth.] 'numeric'\n",
       "\\end{description*}\n"
      ],
      "text/markdown": [
       "Year\n",
       ":   'integer'Country\n",
       ":   'character'Region\n",
       ":   'character'SubRegion\n",
       ":   'character'SurfAreaSqKm\n",
       ":   'numeric'PopDens\n",
       ":   'numeric'PopGrowth.\n",
       ":   'numeric'GDP\n",
       ":   'numeric'GDPGrowth.\n",
       ":   'numeric'AdolFertRate\n",
       ":   'numeric'AgriValAdd.GDP\n",
       ":   'numeric'Exports.GDP\n",
       ":   'numeric'FertRate\n",
       ":   'numeric'FDINetBoP\n",
       ":   'numeric'GNI.CapAtlas\n",
       ":   'numeric'GNIAtlas\n",
       ":   'numeric'GrossCapForm.GDP\n",
       ":   'numeric'Imports.GDP\n",
       ":   'numeric'IndValAdd.GDP\n",
       ":   'numeric'InflConsPric.\n",
       ":   'numeric'LifeExpBirth\n",
       ":   'numeric'MerchTrade.GDP\n",
       ":   'numeric'MilExp.GDP\n",
       ":   'numeric'MobileSubs.100\n",
       ":   'numeric'MortRateU5\n",
       ":   'numeric'NetMigr\n",
       ":   'numeric'PopTotal\n",
       ":   'numeric'RevenueExGrants.GDP\n",
       ":   'numeric'SchEnrollPrim.\n",
       ":   'numeric'TaxRevenue.GDP\n",
       ":   'numeric'UrbanPopGrowth.\n",
       ":   'numeric'\n",
       "\n"
      ],
      "text/plain": [
       "               Year             Country              Region           SubRegion \n",
       "          \"integer\"         \"character\"         \"character\"         \"character\" \n",
       "       SurfAreaSqKm             PopDens          PopGrowth.                 GDP \n",
       "          \"numeric\"           \"numeric\"           \"numeric\"           \"numeric\" \n",
       "         GDPGrowth.        AdolFertRate      AgriValAdd.GDP         Exports.GDP \n",
       "          \"numeric\"           \"numeric\"           \"numeric\"           \"numeric\" \n",
       "           FertRate           FDINetBoP        GNI.CapAtlas            GNIAtlas \n",
       "          \"numeric\"           \"numeric\"           \"numeric\"           \"numeric\" \n",
       "   GrossCapForm.GDP         Imports.GDP       IndValAdd.GDP       InflConsPric. \n",
       "          \"numeric\"           \"numeric\"           \"numeric\"           \"numeric\" \n",
       "       LifeExpBirth      MerchTrade.GDP          MilExp.GDP      MobileSubs.100 \n",
       "          \"numeric\"           \"numeric\"           \"numeric\"           \"numeric\" \n",
       "         MortRateU5             NetMigr            PopTotal RevenueExGrants.GDP \n",
       "          \"numeric\"           \"numeric\"           \"numeric\"           \"numeric\" \n",
       "     SchEnrollPrim.      TaxRevenue.GDP     UrbanPopGrowth. \n",
       "          \"numeric\"           \"numeric\"           \"numeric\" "
      ]
     },
     "metadata": {},
     "output_type": "display_data"
    }
   ],
   "source": [
    "sapply(df, class)\n",
    "# solo el año es entero. 3 son caracteres y el resto números decimales. \n",
    "#Investigo los caracteres por si hay alguna falta de tipo"
   ]
  },
  {
   "cell_type": "code",
   "execution_count": 24,
   "id": "8dde4ae0-b7e9-483f-8177-00e670111b09",
   "metadata": {},
   "outputs": [
    {
     "data": {
      "text/html": [
       "203"
      ],
      "text/latex": [
       "203"
      ],
      "text/markdown": [
       "203"
      ],
      "text/plain": [
       "[1] 203"
      ]
     },
     "metadata": {},
     "output_type": "display_data"
    }
   ],
   "source": [
    "# unique(df$Country).count()\n",
    "length(unique(df$Country)) \n",
    "#¿203 países?"
   ]
  },
  {
   "cell_type": "code",
   "execution_count": 26,
   "id": "9329b5eb-53c3-448b-b203-aac8f3b23f9c",
   "metadata": {},
   "outputs": [
    {
     "data": {
      "text/html": [
       "203"
      ],
      "text/latex": [
       "203"
      ],
      "text/markdown": [
       "203"
      ],
      "text/plain": [
       "[1] 203"
      ]
     },
     "metadata": {},
     "output_type": "display_data"
    },
    {
     "data": {
      "text/html": [
       "<style>\n",
       ".list-inline {list-style: none; margin:0; padding: 0}\n",
       ".list-inline>li {display: inline-block}\n",
       ".list-inline>li:not(:last-child)::after {content: \"\\00b7\"; padding: 0 .5ex}\n",
       "</style>\n",
       "<ol class=list-inline><li>'afghanistan'</li><li>'netherlands'</li><li>'poland'</li><li>'egypt, arab rep.'</li><li>'gabon'</li><li>'united arab emirates'</li><li>'viet nam'</li><li>'antigua and barbuda'</li><li>'mongolia'</li><li>'haiti'</li><li>'central african republic'</li><li>'spain'</li><li>'malaysia'</li><li>'israel'</li><li>'cuba'</li><li>'saudi arabia'</li><li>'sudan'</li><li>'cabo verde'</li><li>'new caledonia'</li><li>'ethiopia'</li><li>'argentina'</li><li>'venezuela, rb'</li><li>'germany'</li><li>'turkmenistan'</li><li>'ghana'</li><li>'el salvador'</li><li>'comoros'</li><li>'slovak republic'</li><li>'liechtenstein'</li><li>'kenya'</li><li>'togo'</li><li>'bolivia'</li><li>'philippines'</li><li>'libya'</li><li>'kiribati'</li><li>'marshall islands'</li><li>'liberia'</li><li>'korea, rep.'</li><li>'colombia'</li><li>'nepal'</li><li>'greece'</li><li>'portugal'</li><li>'turks and caicos islands'</li><li>'slovenia'</li><li>'botswana'</li><li>'samoa'</li><li>'cyprus'</li><li>'ireland'</li><li>'andorra'</li><li>'yemen, rep.'</li><li>'thailand'</li><li>'palau'</li><li>'ecuador'</li><li>'faroe islands'</li><li>'indonesia'</li><li>'timor-leste'</li><li>'bosnia and herzegovina'</li><li>'france'</li><li>'sao tome and principe'</li><li>'curacao'</li><li>'belarus'</li><li>'north macedonia'</li><li>'suriname'</li><li>'angola'</li><li>'west bank and gaza'</li><li>'guyana'</li><li>'montenegro'</li><li>'pakistan'</li><li>'burundi'</li><li>'belgium'</li><li>'moldova'</li><li>'honduras'</li><li>'macao sar, china'</li><li>'japan'</li><li>'panama'</li><li>'seychelles'</li><li>'costa rica'</li><li>'belize'</li><li>'mexico'</li><li>'nicaragua'</li><li>'turkiye'</li><li>'eswatini'</li><li>'eritrea'</li><li>'paraguay'</li><li>'cameroon'</li><li>'aruba'</li><li>'gambia, the'</li><li>'uzbekistan'</li><li>'hungary'</li><li>'united states'</li><li>'jamaica'</li><li>'sierra leone'</li><li>'congo, rep.'</li><li>'madagascar'</li><li>'canada'</li><li>'st. kitts and nevis'</li><li>'austria'</li><li>'estonia'</li><li>'mauritius'</li><li>'tunisia'</li><li>'benin'</li><li>'iceland'</li><li>'australia'</li><li>'uruguay'</li><li>'papua new guinea'</li><li>'south africa'</li><li>'trinidad and tobago'</li><li>'congo, dem. rep.'</li><li>'mauritania'</li><li>'united kingdom'</li><li>'peru'</li><li>'azerbaijan'</li><li>'tonga'</li><li>'bhutan'</li><li>'vanuatu'</li><li>'india'</li><li>'kazakhstan'</li><li>'cambodia'</li><li>'st. vincent and the grenadines'</li><li>'nigeria'</li><li>'senegal'</li><li>'croatia'</li><li>'lithuania'</li><li>'bermuda'</li><li>'armenia'</li><li>'equatorial guinea'</li><li>'singapore'</li><li>'st. lucia'</li><li>'luxembourg'</li><li>'jordan'</li><li>'sri lanka'</li><li>'cayman islands'</li><li>'french polynesia'</li><li>'hong kong sar, china'</li><li>'serbia'</li><li>'cote d\\'ivoire'</li><li>'italy'</li><li>'malawi'</li><li>'new zealand'</li><li>'georgia'</li><li>'micronesia, fed. sts.'</li><li>'chad'</li><li>'bahamas, the'</li><li>'niger'</li><li>'somalia'</li><li>'russian federation'</li><li>'denmark'</li><li>'namibia'</li><li>'grenada'</li><li>'brazil'</li><li>'uganda'</li><li>'tanzania'</li><li>'algeria'</li><li>'bangladesh'</li><li>'iran, islamic rep.'</li><li>'nauru'</li><li>'malta'</li><li>'chile'</li><li>'latvia'</li><li>'lao pdr'</li><li>'puerto rico'</li><li>'dominican republic'</li><li>'maldives'</li><li>'zambia'</li><li>'zimbabwe'</li><li>'greenland'</li><li>'china'</li><li>'switzerland'</li><li>'solomon islands'</li><li>'kyrgyz republic'</li><li>'lebanon'</li><li>'dominica'</li><li>'qatar'</li><li>'barbados'</li><li>'mozambique'</li><li>'tuvalu'</li><li>'guinea'</li><li>'oman'</li><li>'tajikistan'</li><li>'british virgin islands'</li><li>'norway'</li><li>'czechia'</li><li>'albania'</li><li>'rwanda'</li><li>'finland'</li><li>'guatemala'</li><li>'myanmar'</li><li>'bulgaria'</li><li>'ukraine'</li><li>'lesotho'</li><li>'iraq'</li><li>'mali'</li><li>'kuwait'</li><li>'syrian arab republic'</li><li>'sweden'</li><li>'bahrain'</li><li>'morocco'</li><li>'fiji'</li><li>'burkina faso'</li><li>'guinea-bissau'</li><li>'brunei darussalam'</li><li>'romania'</li><li>'djibouti'</li></ol>\n"
      ],
      "text/latex": [
       "\\begin{enumerate*}\n",
       "\\item 'afghanistan'\n",
       "\\item 'netherlands'\n",
       "\\item 'poland'\n",
       "\\item 'egypt, arab rep.'\n",
       "\\item 'gabon'\n",
       "\\item 'united arab emirates'\n",
       "\\item 'viet nam'\n",
       "\\item 'antigua and barbuda'\n",
       "\\item 'mongolia'\n",
       "\\item 'haiti'\n",
       "\\item 'central african republic'\n",
       "\\item 'spain'\n",
       "\\item 'malaysia'\n",
       "\\item 'israel'\n",
       "\\item 'cuba'\n",
       "\\item 'saudi arabia'\n",
       "\\item 'sudan'\n",
       "\\item 'cabo verde'\n",
       "\\item 'new caledonia'\n",
       "\\item 'ethiopia'\n",
       "\\item 'argentina'\n",
       "\\item 'venezuela, rb'\n",
       "\\item 'germany'\n",
       "\\item 'turkmenistan'\n",
       "\\item 'ghana'\n",
       "\\item 'el salvador'\n",
       "\\item 'comoros'\n",
       "\\item 'slovak republic'\n",
       "\\item 'liechtenstein'\n",
       "\\item 'kenya'\n",
       "\\item 'togo'\n",
       "\\item 'bolivia'\n",
       "\\item 'philippines'\n",
       "\\item 'libya'\n",
       "\\item 'kiribati'\n",
       "\\item 'marshall islands'\n",
       "\\item 'liberia'\n",
       "\\item 'korea, rep.'\n",
       "\\item 'colombia'\n",
       "\\item 'nepal'\n",
       "\\item 'greece'\n",
       "\\item 'portugal'\n",
       "\\item 'turks and caicos islands'\n",
       "\\item 'slovenia'\n",
       "\\item 'botswana'\n",
       "\\item 'samoa'\n",
       "\\item 'cyprus'\n",
       "\\item 'ireland'\n",
       "\\item 'andorra'\n",
       "\\item 'yemen, rep.'\n",
       "\\item 'thailand'\n",
       "\\item 'palau'\n",
       "\\item 'ecuador'\n",
       "\\item 'faroe islands'\n",
       "\\item 'indonesia'\n",
       "\\item 'timor-leste'\n",
       "\\item 'bosnia and herzegovina'\n",
       "\\item 'france'\n",
       "\\item 'sao tome and principe'\n",
       "\\item 'curacao'\n",
       "\\item 'belarus'\n",
       "\\item 'north macedonia'\n",
       "\\item 'suriname'\n",
       "\\item 'angola'\n",
       "\\item 'west bank and gaza'\n",
       "\\item 'guyana'\n",
       "\\item 'montenegro'\n",
       "\\item 'pakistan'\n",
       "\\item 'burundi'\n",
       "\\item 'belgium'\n",
       "\\item 'moldova'\n",
       "\\item 'honduras'\n",
       "\\item 'macao sar, china'\n",
       "\\item 'japan'\n",
       "\\item 'panama'\n",
       "\\item 'seychelles'\n",
       "\\item 'costa rica'\n",
       "\\item 'belize'\n",
       "\\item 'mexico'\n",
       "\\item 'nicaragua'\n",
       "\\item 'turkiye'\n",
       "\\item 'eswatini'\n",
       "\\item 'eritrea'\n",
       "\\item 'paraguay'\n",
       "\\item 'cameroon'\n",
       "\\item 'aruba'\n",
       "\\item 'gambia, the'\n",
       "\\item 'uzbekistan'\n",
       "\\item 'hungary'\n",
       "\\item 'united states'\n",
       "\\item 'jamaica'\n",
       "\\item 'sierra leone'\n",
       "\\item 'congo, rep.'\n",
       "\\item 'madagascar'\n",
       "\\item 'canada'\n",
       "\\item 'st. kitts and nevis'\n",
       "\\item 'austria'\n",
       "\\item 'estonia'\n",
       "\\item 'mauritius'\n",
       "\\item 'tunisia'\n",
       "\\item 'benin'\n",
       "\\item 'iceland'\n",
       "\\item 'australia'\n",
       "\\item 'uruguay'\n",
       "\\item 'papua new guinea'\n",
       "\\item 'south africa'\n",
       "\\item 'trinidad and tobago'\n",
       "\\item 'congo, dem. rep.'\n",
       "\\item 'mauritania'\n",
       "\\item 'united kingdom'\n",
       "\\item 'peru'\n",
       "\\item 'azerbaijan'\n",
       "\\item 'tonga'\n",
       "\\item 'bhutan'\n",
       "\\item 'vanuatu'\n",
       "\\item 'india'\n",
       "\\item 'kazakhstan'\n",
       "\\item 'cambodia'\n",
       "\\item 'st. vincent and the grenadines'\n",
       "\\item 'nigeria'\n",
       "\\item 'senegal'\n",
       "\\item 'croatia'\n",
       "\\item 'lithuania'\n",
       "\\item 'bermuda'\n",
       "\\item 'armenia'\n",
       "\\item 'equatorial guinea'\n",
       "\\item 'singapore'\n",
       "\\item 'st. lucia'\n",
       "\\item 'luxembourg'\n",
       "\\item 'jordan'\n",
       "\\item 'sri lanka'\n",
       "\\item 'cayman islands'\n",
       "\\item 'french polynesia'\n",
       "\\item 'hong kong sar, china'\n",
       "\\item 'serbia'\n",
       "\\item 'cote d\\textbackslash{}'ivoire'\n",
       "\\item 'italy'\n",
       "\\item 'malawi'\n",
       "\\item 'new zealand'\n",
       "\\item 'georgia'\n",
       "\\item 'micronesia, fed. sts.'\n",
       "\\item 'chad'\n",
       "\\item 'bahamas, the'\n",
       "\\item 'niger'\n",
       "\\item 'somalia'\n",
       "\\item 'russian federation'\n",
       "\\item 'denmark'\n",
       "\\item 'namibia'\n",
       "\\item 'grenada'\n",
       "\\item 'brazil'\n",
       "\\item 'uganda'\n",
       "\\item 'tanzania'\n",
       "\\item 'algeria'\n",
       "\\item 'bangladesh'\n",
       "\\item 'iran, islamic rep.'\n",
       "\\item 'nauru'\n",
       "\\item 'malta'\n",
       "\\item 'chile'\n",
       "\\item 'latvia'\n",
       "\\item 'lao pdr'\n",
       "\\item 'puerto rico'\n",
       "\\item 'dominican republic'\n",
       "\\item 'maldives'\n",
       "\\item 'zambia'\n",
       "\\item 'zimbabwe'\n",
       "\\item 'greenland'\n",
       "\\item 'china'\n",
       "\\item 'switzerland'\n",
       "\\item 'solomon islands'\n",
       "\\item 'kyrgyz republic'\n",
       "\\item 'lebanon'\n",
       "\\item 'dominica'\n",
       "\\item 'qatar'\n",
       "\\item 'barbados'\n",
       "\\item 'mozambique'\n",
       "\\item 'tuvalu'\n",
       "\\item 'guinea'\n",
       "\\item 'oman'\n",
       "\\item 'tajikistan'\n",
       "\\item 'british virgin islands'\n",
       "\\item 'norway'\n",
       "\\item 'czechia'\n",
       "\\item 'albania'\n",
       "\\item 'rwanda'\n",
       "\\item 'finland'\n",
       "\\item 'guatemala'\n",
       "\\item 'myanmar'\n",
       "\\item 'bulgaria'\n",
       "\\item 'ukraine'\n",
       "\\item 'lesotho'\n",
       "\\item 'iraq'\n",
       "\\item 'mali'\n",
       "\\item 'kuwait'\n",
       "\\item 'syrian arab republic'\n",
       "\\item 'sweden'\n",
       "\\item 'bahrain'\n",
       "\\item 'morocco'\n",
       "\\item 'fiji'\n",
       "\\item 'burkina faso'\n",
       "\\item 'guinea-bissau'\n",
       "\\item 'brunei darussalam'\n",
       "\\item 'romania'\n",
       "\\item 'djibouti'\n",
       "\\end{enumerate*}\n"
      ],
      "text/markdown": [
       "1. 'afghanistan'\n",
       "2. 'netherlands'\n",
       "3. 'poland'\n",
       "4. 'egypt, arab rep.'\n",
       "5. 'gabon'\n",
       "6. 'united arab emirates'\n",
       "7. 'viet nam'\n",
       "8. 'antigua and barbuda'\n",
       "9. 'mongolia'\n",
       "10. 'haiti'\n",
       "11. 'central african republic'\n",
       "12. 'spain'\n",
       "13. 'malaysia'\n",
       "14. 'israel'\n",
       "15. 'cuba'\n",
       "16. 'saudi arabia'\n",
       "17. 'sudan'\n",
       "18. 'cabo verde'\n",
       "19. 'new caledonia'\n",
       "20. 'ethiopia'\n",
       "21. 'argentina'\n",
       "22. 'venezuela, rb'\n",
       "23. 'germany'\n",
       "24. 'turkmenistan'\n",
       "25. 'ghana'\n",
       "26. 'el salvador'\n",
       "27. 'comoros'\n",
       "28. 'slovak republic'\n",
       "29. 'liechtenstein'\n",
       "30. 'kenya'\n",
       "31. 'togo'\n",
       "32. 'bolivia'\n",
       "33. 'philippines'\n",
       "34. 'libya'\n",
       "35. 'kiribati'\n",
       "36. 'marshall islands'\n",
       "37. 'liberia'\n",
       "38. 'korea, rep.'\n",
       "39. 'colombia'\n",
       "40. 'nepal'\n",
       "41. 'greece'\n",
       "42. 'portugal'\n",
       "43. 'turks and caicos islands'\n",
       "44. 'slovenia'\n",
       "45. 'botswana'\n",
       "46. 'samoa'\n",
       "47. 'cyprus'\n",
       "48. 'ireland'\n",
       "49. 'andorra'\n",
       "50. 'yemen, rep.'\n",
       "51. 'thailand'\n",
       "52. 'palau'\n",
       "53. 'ecuador'\n",
       "54. 'faroe islands'\n",
       "55. 'indonesia'\n",
       "56. 'timor-leste'\n",
       "57. 'bosnia and herzegovina'\n",
       "58. 'france'\n",
       "59. 'sao tome and principe'\n",
       "60. 'curacao'\n",
       "61. 'belarus'\n",
       "62. 'north macedonia'\n",
       "63. 'suriname'\n",
       "64. 'angola'\n",
       "65. 'west bank and gaza'\n",
       "66. 'guyana'\n",
       "67. 'montenegro'\n",
       "68. 'pakistan'\n",
       "69. 'burundi'\n",
       "70. 'belgium'\n",
       "71. 'moldova'\n",
       "72. 'honduras'\n",
       "73. 'macao sar, china'\n",
       "74. 'japan'\n",
       "75. 'panama'\n",
       "76. 'seychelles'\n",
       "77. 'costa rica'\n",
       "78. 'belize'\n",
       "79. 'mexico'\n",
       "80. 'nicaragua'\n",
       "81. 'turkiye'\n",
       "82. 'eswatini'\n",
       "83. 'eritrea'\n",
       "84. 'paraguay'\n",
       "85. 'cameroon'\n",
       "86. 'aruba'\n",
       "87. 'gambia, the'\n",
       "88. 'uzbekistan'\n",
       "89. 'hungary'\n",
       "90. 'united states'\n",
       "91. 'jamaica'\n",
       "92. 'sierra leone'\n",
       "93. 'congo, rep.'\n",
       "94. 'madagascar'\n",
       "95. 'canada'\n",
       "96. 'st. kitts and nevis'\n",
       "97. 'austria'\n",
       "98. 'estonia'\n",
       "99. 'mauritius'\n",
       "100. 'tunisia'\n",
       "101. 'benin'\n",
       "102. 'iceland'\n",
       "103. 'australia'\n",
       "104. 'uruguay'\n",
       "105. 'papua new guinea'\n",
       "106. 'south africa'\n",
       "107. 'trinidad and tobago'\n",
       "108. 'congo, dem. rep.'\n",
       "109. 'mauritania'\n",
       "110. 'united kingdom'\n",
       "111. 'peru'\n",
       "112. 'azerbaijan'\n",
       "113. 'tonga'\n",
       "114. 'bhutan'\n",
       "115. 'vanuatu'\n",
       "116. 'india'\n",
       "117. 'kazakhstan'\n",
       "118. 'cambodia'\n",
       "119. 'st. vincent and the grenadines'\n",
       "120. 'nigeria'\n",
       "121. 'senegal'\n",
       "122. 'croatia'\n",
       "123. 'lithuania'\n",
       "124. 'bermuda'\n",
       "125. 'armenia'\n",
       "126. 'equatorial guinea'\n",
       "127. 'singapore'\n",
       "128. 'st. lucia'\n",
       "129. 'luxembourg'\n",
       "130. 'jordan'\n",
       "131. 'sri lanka'\n",
       "132. 'cayman islands'\n",
       "133. 'french polynesia'\n",
       "134. 'hong kong sar, china'\n",
       "135. 'serbia'\n",
       "136. 'cote d\\'ivoire'\n",
       "137. 'italy'\n",
       "138. 'malawi'\n",
       "139. 'new zealand'\n",
       "140. 'georgia'\n",
       "141. 'micronesia, fed. sts.'\n",
       "142. 'chad'\n",
       "143. 'bahamas, the'\n",
       "144. 'niger'\n",
       "145. 'somalia'\n",
       "146. 'russian federation'\n",
       "147. 'denmark'\n",
       "148. 'namibia'\n",
       "149. 'grenada'\n",
       "150. 'brazil'\n",
       "151. 'uganda'\n",
       "152. 'tanzania'\n",
       "153. 'algeria'\n",
       "154. 'bangladesh'\n",
       "155. 'iran, islamic rep.'\n",
       "156. 'nauru'\n",
       "157. 'malta'\n",
       "158. 'chile'\n",
       "159. 'latvia'\n",
       "160. 'lao pdr'\n",
       "161. 'puerto rico'\n",
       "162. 'dominican republic'\n",
       "163. 'maldives'\n",
       "164. 'zambia'\n",
       "165. 'zimbabwe'\n",
       "166. 'greenland'\n",
       "167. 'china'\n",
       "168. 'switzerland'\n",
       "169. 'solomon islands'\n",
       "170. 'kyrgyz republic'\n",
       "171. 'lebanon'\n",
       "172. 'dominica'\n",
       "173. 'qatar'\n",
       "174. 'barbados'\n",
       "175. 'mozambique'\n",
       "176. 'tuvalu'\n",
       "177. 'guinea'\n",
       "178. 'oman'\n",
       "179. 'tajikistan'\n",
       "180. 'british virgin islands'\n",
       "181. 'norway'\n",
       "182. 'czechia'\n",
       "183. 'albania'\n",
       "184. 'rwanda'\n",
       "185. 'finland'\n",
       "186. 'guatemala'\n",
       "187. 'myanmar'\n",
       "188. 'bulgaria'\n",
       "189. 'ukraine'\n",
       "190. 'lesotho'\n",
       "191. 'iraq'\n",
       "192. 'mali'\n",
       "193. 'kuwait'\n",
       "194. 'syrian arab republic'\n",
       "195. 'sweden'\n",
       "196. 'bahrain'\n",
       "197. 'morocco'\n",
       "198. 'fiji'\n",
       "199. 'burkina faso'\n",
       "200. 'guinea-bissau'\n",
       "201. 'brunei darussalam'\n",
       "202. 'romania'\n",
       "203. 'djibouti'\n",
       "\n",
       "\n"
      ],
      "text/plain": [
       "  [1] \"afghanistan\"                    \"netherlands\"                   \n",
       "  [3] \"poland\"                         \"egypt, arab rep.\"              \n",
       "  [5] \"gabon\"                          \"united arab emirates\"          \n",
       "  [7] \"viet nam\"                       \"antigua and barbuda\"           \n",
       "  [9] \"mongolia\"                       \"haiti\"                         \n",
       " [11] \"central african republic\"       \"spain\"                         \n",
       " [13] \"malaysia\"                       \"israel\"                        \n",
       " [15] \"cuba\"                           \"saudi arabia\"                  \n",
       " [17] \"sudan\"                          \"cabo verde\"                    \n",
       " [19] \"new caledonia\"                  \"ethiopia\"                      \n",
       " [21] \"argentina\"                      \"venezuela, rb\"                 \n",
       " [23] \"germany\"                        \"turkmenistan\"                  \n",
       " [25] \"ghana\"                          \"el salvador\"                   \n",
       " [27] \"comoros\"                        \"slovak republic\"               \n",
       " [29] \"liechtenstein\"                  \"kenya\"                         \n",
       " [31] \"togo\"                           \"bolivia\"                       \n",
       " [33] \"philippines\"                    \"libya\"                         \n",
       " [35] \"kiribati\"                       \"marshall islands\"              \n",
       " [37] \"liberia\"                        \"korea, rep.\"                   \n",
       " [39] \"colombia\"                       \"nepal\"                         \n",
       " [41] \"greece\"                         \"portugal\"                      \n",
       " [43] \"turks and caicos islands\"       \"slovenia\"                      \n",
       " [45] \"botswana\"                       \"samoa\"                         \n",
       " [47] \"cyprus\"                         \"ireland\"                       \n",
       " [49] \"andorra\"                        \"yemen, rep.\"                   \n",
       " [51] \"thailand\"                       \"palau\"                         \n",
       " [53] \"ecuador\"                        \"faroe islands\"                 \n",
       " [55] \"indonesia\"                      \"timor-leste\"                   \n",
       " [57] \"bosnia and herzegovina\"         \"france\"                        \n",
       " [59] \"sao tome and principe\"          \"curacao\"                       \n",
       " [61] \"belarus\"                        \"north macedonia\"               \n",
       " [63] \"suriname\"                       \"angola\"                        \n",
       " [65] \"west bank and gaza\"             \"guyana\"                        \n",
       " [67] \"montenegro\"                     \"pakistan\"                      \n",
       " [69] \"burundi\"                        \"belgium\"                       \n",
       " [71] \"moldova\"                        \"honduras\"                      \n",
       " [73] \"macao sar, china\"               \"japan\"                         \n",
       " [75] \"panama\"                         \"seychelles\"                    \n",
       " [77] \"costa rica\"                     \"belize\"                        \n",
       " [79] \"mexico\"                         \"nicaragua\"                     \n",
       " [81] \"turkiye\"                        \"eswatini\"                      \n",
       " [83] \"eritrea\"                        \"paraguay\"                      \n",
       " [85] \"cameroon\"                       \"aruba\"                         \n",
       " [87] \"gambia, the\"                    \"uzbekistan\"                    \n",
       " [89] \"hungary\"                        \"united states\"                 \n",
       " [91] \"jamaica\"                        \"sierra leone\"                  \n",
       " [93] \"congo, rep.\"                    \"madagascar\"                    \n",
       " [95] \"canada\"                         \"st. kitts and nevis\"           \n",
       " [97] \"austria\"                        \"estonia\"                       \n",
       " [99] \"mauritius\"                      \"tunisia\"                       \n",
       "[101] \"benin\"                          \"iceland\"                       \n",
       "[103] \"australia\"                      \"uruguay\"                       \n",
       "[105] \"papua new guinea\"               \"south africa\"                  \n",
       "[107] \"trinidad and tobago\"            \"congo, dem. rep.\"              \n",
       "[109] \"mauritania\"                     \"united kingdom\"                \n",
       "[111] \"peru\"                           \"azerbaijan\"                    \n",
       "[113] \"tonga\"                          \"bhutan\"                        \n",
       "[115] \"vanuatu\"                        \"india\"                         \n",
       "[117] \"kazakhstan\"                     \"cambodia\"                      \n",
       "[119] \"st. vincent and the grenadines\" \"nigeria\"                       \n",
       "[121] \"senegal\"                        \"croatia\"                       \n",
       "[123] \"lithuania\"                      \"bermuda\"                       \n",
       "[125] \"armenia\"                        \"equatorial guinea\"             \n",
       "[127] \"singapore\"                      \"st. lucia\"                     \n",
       "[129] \"luxembourg\"                     \"jordan\"                        \n",
       "[131] \"sri lanka\"                      \"cayman islands\"                \n",
       "[133] \"french polynesia\"               \"hong kong sar, china\"          \n",
       "[135] \"serbia\"                         \"cote d'ivoire\"                 \n",
       "[137] \"italy\"                          \"malawi\"                        \n",
       "[139] \"new zealand\"                    \"georgia\"                       \n",
       "[141] \"micronesia, fed. sts.\"          \"chad\"                          \n",
       "[143] \"bahamas, the\"                   \"niger\"                         \n",
       "[145] \"somalia\"                        \"russian federation\"            \n",
       "[147] \"denmark\"                        \"namibia\"                       \n",
       "[149] \"grenada\"                        \"brazil\"                        \n",
       "[151] \"uganda\"                         \"tanzania\"                      \n",
       "[153] \"algeria\"                        \"bangladesh\"                    \n",
       "[155] \"iran, islamic rep.\"             \"nauru\"                         \n",
       "[157] \"malta\"                          \"chile\"                         \n",
       "[159] \"latvia\"                         \"lao pdr\"                       \n",
       "[161] \"puerto rico\"                    \"dominican republic\"            \n",
       "[163] \"maldives\"                       \"zambia\"                        \n",
       "[165] \"zimbabwe\"                       \"greenland\"                     \n",
       "[167] \"china\"                          \"switzerland\"                   \n",
       "[169] \"solomon islands\"                \"kyrgyz republic\"               \n",
       "[171] \"lebanon\"                        \"dominica\"                      \n",
       "[173] \"qatar\"                          \"barbados\"                      \n",
       "[175] \"mozambique\"                     \"tuvalu\"                        \n",
       "[177] \"guinea\"                         \"oman\"                          \n",
       "[179] \"tajikistan\"                     \"british virgin islands\"        \n",
       "[181] \"norway\"                         \"czechia\"                       \n",
       "[183] \"albania\"                        \"rwanda\"                        \n",
       "[185] \"finland\"                        \"guatemala\"                     \n",
       "[187] \"myanmar\"                        \"bulgaria\"                      \n",
       "[189] \"ukraine\"                        \"lesotho\"                       \n",
       "[191] \"iraq\"                           \"mali\"                          \n",
       "[193] \"kuwait\"                         \"syrian arab republic\"          \n",
       "[195] \"sweden\"                         \"bahrain\"                       \n",
       "[197] \"morocco\"                        \"fiji\"                          \n",
       "[199] \"burkina faso\"                   \"guinea-bissau\"                 \n",
       "[201] \"brunei darussalam\"              \"romania\"                       \n",
       "[203] \"djibouti\"                      "
      ]
     },
     "metadata": {},
     "output_type": "display_data"
    }
   ],
   "source": [
    "df$Country= trimws(df$Country)\n",
    "df$Country= tolower(df$Country)\n",
    "length(unique(df$Country)) \n",
    "\n",
    "unique(df$Country)\n",
    "\n",
    "# se ve que hay países que no están reconocidos por la ONU. \n",
    "#De cualquier modo, no se eliminarán, solo hay 10 países de diferencia"
   ]
  },
  {
   "cell_type": "code",
   "execution_count": 28,
   "id": "3091f470-6c8e-4058-ac32-2f3392a26927",
   "metadata": {},
   "outputs": [
    {
     "data": {
      "text/plain": [
       "\n",
       "                   afghanistan                        albania \n",
       "                            49                             49 \n",
       "                       algeria                        andorra \n",
       "                            49                             49 \n",
       "                        angola            antigua and barbuda \n",
       "                            49                             49 \n",
       "                     argentina                        armenia \n",
       "                            49                             49 \n",
       "                         aruba                      australia \n",
       "                            49                             49 \n",
       "                       austria                     azerbaijan \n",
       "                            49                             49 \n",
       "                  bahamas, the                        bahrain \n",
       "                            49                             49 \n",
       "                    bangladesh                       barbados \n",
       "                            49                             49 \n",
       "                       belarus                        belgium \n",
       "                            49                             49 \n",
       "                        belize                          benin \n",
       "                            49                             49 \n",
       "                       bermuda                         bhutan \n",
       "                            49                             49 \n",
       "                       bolivia         bosnia and herzegovina \n",
       "                            49                             49 \n",
       "                      botswana                         brazil \n",
       "                            49                             49 \n",
       "        british virgin islands              brunei darussalam \n",
       "                            49                             49 \n",
       "                      bulgaria                   burkina faso \n",
       "                            49                             49 \n",
       "                       burundi                     cabo verde \n",
       "                            49                             49 \n",
       "                      cambodia                       cameroon \n",
       "                            49                             49 \n",
       "                        canada                 cayman islands \n",
       "                            49                             49 \n",
       "      central african republic                           chad \n",
       "                            49                             49 \n",
       "                         chile                          china \n",
       "                            49                             49 \n",
       "                      colombia                        comoros \n",
       "                            49                             49 \n",
       "              congo, dem. rep.                    congo, rep. \n",
       "                            49                             49 \n",
       "                    costa rica                  cote d'ivoire \n",
       "                            49                             49 \n",
       "                       croatia                           cuba \n",
       "                            49                             49 \n",
       "                       curacao                         cyprus \n",
       "                            49                             49 \n",
       "                       czechia                        denmark \n",
       "                            49                             49 \n",
       "                      djibouti                       dominica \n",
       "                            49                             49 \n",
       "            dominican republic                        ecuador \n",
       "                            49                             49 \n",
       "              egypt, arab rep.                    el salvador \n",
       "                            49                             49 \n",
       "             equatorial guinea                        eritrea \n",
       "                            49                             49 \n",
       "                       estonia                       eswatini \n",
       "                            49                             49 \n",
       "                      ethiopia                  faroe islands \n",
       "                            49                             49 \n",
       "                          fiji                        finland \n",
       "                            49                             49 \n",
       "                        france               french polynesia \n",
       "                            49                             49 \n",
       "                         gabon                    gambia, the \n",
       "                            49                             49 \n",
       "                       georgia                        germany \n",
       "                            49                             49 \n",
       "                         ghana                         greece \n",
       "                            49                             49 \n",
       "                     greenland                        grenada \n",
       "                            49                             49 \n",
       "                     guatemala                         guinea \n",
       "                            49                             49 \n",
       "                 guinea-bissau                         guyana \n",
       "                            49                             49 \n",
       "                         haiti                       honduras \n",
       "                            49                             49 \n",
       "          hong kong sar, china                        hungary \n",
       "                            49                             49 \n",
       "                       iceland                          india \n",
       "                            49                             49 \n",
       "                     indonesia             iran, islamic rep. \n",
       "                            49                             49 \n",
       "                          iraq                        ireland \n",
       "                            49                             49 \n",
       "                        israel                          italy \n",
       "                            49                             49 \n",
       "                       jamaica                          japan \n",
       "                            49                             49 \n",
       "                        jordan                     kazakhstan \n",
       "                            49                             49 \n",
       "                         kenya                       kiribati \n",
       "                            49                             49 \n",
       "                   korea, rep.                         kuwait \n",
       "                            49                             49 \n",
       "               kyrgyz republic                        lao pdr \n",
       "                            49                             49 \n",
       "                        latvia                        lebanon \n",
       "                            49                             49 \n",
       "                       lesotho                        liberia \n",
       "                            49                             49 \n",
       "                         libya                  liechtenstein \n",
       "                            49                             49 \n",
       "                     lithuania                     luxembourg \n",
       "                            49                             49 \n",
       "              macao sar, china                     madagascar \n",
       "                            49                             49 \n",
       "                        malawi                       malaysia \n",
       "                            49                             49 \n",
       "                      maldives                           mali \n",
       "                            49                             49 \n",
       "                         malta               marshall islands \n",
       "                            49                             49 \n",
       "                    mauritania                      mauritius \n",
       "                            49                             49 \n",
       "                        mexico          micronesia, fed. sts. \n",
       "                            49                             49 \n",
       "                       moldova                       mongolia \n",
       "                            49                             49 \n",
       "                    montenegro                        morocco \n",
       "                            49                             49 \n",
       "                    mozambique                        myanmar \n",
       "                            49                             49 \n",
       "                       namibia                          nauru \n",
       "                            49                             49 \n",
       "                         nepal                    netherlands \n",
       "                            49                             49 \n",
       "                 new caledonia                    new zealand \n",
       "                            49                             49 \n",
       "                     nicaragua                          niger \n",
       "                            49                             49 \n",
       "                       nigeria                north macedonia \n",
       "                            49                             49 \n",
       "                        norway                           oman \n",
       "                            49                             49 \n",
       "                      pakistan                          palau \n",
       "                            49                             49 \n",
       "                        panama               papua new guinea \n",
       "                            49                             49 \n",
       "                      paraguay                           peru \n",
       "                            49                             49 \n",
       "                   philippines                         poland \n",
       "                            49                             49 \n",
       "                      portugal                    puerto rico \n",
       "                            49                             49 \n",
       "                         qatar                        romania \n",
       "                            49                             49 \n",
       "            russian federation                         rwanda \n",
       "                            49                             49 \n",
       "                         samoa          sao tome and principe \n",
       "                            49                             49 \n",
       "                  saudi arabia                        senegal \n",
       "                            49                             49 \n",
       "                        serbia                     seychelles \n",
       "                            49                             49 \n",
       "                  sierra leone                      singapore \n",
       "                            49                             49 \n",
       "               slovak republic                       slovenia \n",
       "                            49                             49 \n",
       "               solomon islands                        somalia \n",
       "                            49                             49 \n",
       "                  south africa                          spain \n",
       "                            49                             49 \n",
       "                     sri lanka            st. kitts and nevis \n",
       "                            49                             49 \n",
       "                     st. lucia st. vincent and the grenadines \n",
       "                            49                             49 \n",
       "                         sudan                       suriname \n",
       "                            49                             49 \n",
       "                        sweden                    switzerland \n",
       "                            49                             49 \n",
       "          syrian arab republic                     tajikistan \n",
       "                            49                             49 \n",
       "                      tanzania                       thailand \n",
       "                            49                             49 \n",
       "                   timor-leste                           togo \n",
       "                            49                             49 \n",
       "                         tonga            trinidad and tobago \n",
       "                            49                             49 \n",
       "                       tunisia                        turkiye \n",
       "                            49                             49 \n",
       "                  turkmenistan       turks and caicos islands \n",
       "                            49                             49 \n",
       "                        tuvalu                         uganda \n",
       "                            49                             49 \n",
       "                       ukraine           united arab emirates \n",
       "                            49                             49 \n",
       "                united kingdom                  united states \n",
       "                            49                             49 \n",
       "                       uruguay                     uzbekistan \n",
       "                            49                             49 \n",
       "                       vanuatu                  venezuela, rb \n",
       "                            49                             49 \n",
       "                      viet nam             west bank and gaza \n",
       "                            49                             49 \n",
       "                   yemen, rep.                         zambia \n",
       "                            49                             49 \n",
       "                      zimbabwe \n",
       "                            49 "
      ]
     },
     "metadata": {},
     "output_type": "display_data"
    }
   ],
   "source": [
    "table(df$Country)"
   ]
  },
  {
   "cell_type": "code",
   "execution_count": 30,
   "id": "48ad35fa-3a43-449e-9a75-bd4f12e4c8c0",
   "metadata": {},
   "outputs": [
    {
     "data": {
      "text/html": [
       "5"
      ],
      "text/latex": [
       "5"
      ],
      "text/markdown": [
       "5"
      ],
      "text/plain": [
       "[1] 5"
      ]
     },
     "metadata": {},
     "output_type": "display_data"
    },
    {
     "data": {
      "text/html": [
       "<style>\n",
       ".list-inline {list-style: none; margin:0; padding: 0}\n",
       ".list-inline>li {display: inline-block}\n",
       ".list-inline>li:not(:last-child)::after {content: \"\\00b7\"; padding: 0 .5ex}\n",
       "</style>\n",
       "<ol class=list-inline><li>'Asia'</li><li>'Europe'</li><li>'Africa'</li><li>'Americas'</li><li>'Oceania'</li></ol>\n"
      ],
      "text/latex": [
       "\\begin{enumerate*}\n",
       "\\item 'Asia'\n",
       "\\item 'Europe'\n",
       "\\item 'Africa'\n",
       "\\item 'Americas'\n",
       "\\item 'Oceania'\n",
       "\\end{enumerate*}\n"
      ],
      "text/markdown": [
       "1. 'Asia'\n",
       "2. 'Europe'\n",
       "3. 'Africa'\n",
       "4. 'Americas'\n",
       "5. 'Oceania'\n",
       "\n",
       "\n"
      ],
      "text/plain": [
       "[1] \"Asia\"     \"Europe\"   \"Africa\"   \"Americas\" \"Oceania\" "
      ]
     },
     "metadata": {},
     "output_type": "display_data"
    },
    {
     "data": {
      "text/plain": [
       "\n",
       "  Africa Americas     Asia   Europe  Oceania \n",
       "    2597     2107     2401     2058      784 "
      ]
     },
     "metadata": {},
     "output_type": "display_data"
    },
    {
     "data": {
      "text/html": [
       "17"
      ],
      "text/latex": [
       "17"
      ],
      "text/markdown": [
       "17"
      ],
      "text/plain": [
       "[1] 17"
      ]
     },
     "metadata": {},
     "output_type": "display_data"
    },
    {
     "data": {
      "text/html": [
       "<style>\n",
       ".list-inline {list-style: none; margin:0; padding: 0}\n",
       ".list-inline>li {display: inline-block}\n",
       ".list-inline>li:not(:last-child)::after {content: \"\\00b7\"; padding: 0 .5ex}\n",
       "</style>\n",
       "<ol class=list-inline><li>'Southern Asia'</li><li>'Western Europe'</li><li>'Eastern Europe'</li><li>'Northern Africa'</li><li>'Sub-Saharan Africa'</li><li>'Western Asia'</li><li>'South-eastern Asia'</li><li>'Latin America and the Caribbean'</li><li>'Eastern Asia'</li><li>'Southern Europe'</li><li>'Melanesia'</li><li>'Central Asia'</li><li>'Micronesia'</li><li>'Polynesia'</li><li>'Northern Europe'</li><li>'Northern America'</li><li>'Australia and New Zealand'</li></ol>\n"
      ],
      "text/latex": [
       "\\begin{enumerate*}\n",
       "\\item 'Southern Asia'\n",
       "\\item 'Western Europe'\n",
       "\\item 'Eastern Europe'\n",
       "\\item 'Northern Africa'\n",
       "\\item 'Sub-Saharan Africa'\n",
       "\\item 'Western Asia'\n",
       "\\item 'South-eastern Asia'\n",
       "\\item 'Latin America and the Caribbean'\n",
       "\\item 'Eastern Asia'\n",
       "\\item 'Southern Europe'\n",
       "\\item 'Melanesia'\n",
       "\\item 'Central Asia'\n",
       "\\item 'Micronesia'\n",
       "\\item 'Polynesia'\n",
       "\\item 'Northern Europe'\n",
       "\\item 'Northern America'\n",
       "\\item 'Australia and New Zealand'\n",
       "\\end{enumerate*}\n"
      ],
      "text/markdown": [
       "1. 'Southern Asia'\n",
       "2. 'Western Europe'\n",
       "3. 'Eastern Europe'\n",
       "4. 'Northern Africa'\n",
       "5. 'Sub-Saharan Africa'\n",
       "6. 'Western Asia'\n",
       "7. 'South-eastern Asia'\n",
       "8. 'Latin America and the Caribbean'\n",
       "9. 'Eastern Asia'\n",
       "10. 'Southern Europe'\n",
       "11. 'Melanesia'\n",
       "12. 'Central Asia'\n",
       "13. 'Micronesia'\n",
       "14. 'Polynesia'\n",
       "15. 'Northern Europe'\n",
       "16. 'Northern America'\n",
       "17. 'Australia and New Zealand'\n",
       "\n",
       "\n"
      ],
      "text/plain": [
       " [1] \"Southern Asia\"                   \"Western Europe\"                 \n",
       " [3] \"Eastern Europe\"                  \"Northern Africa\"                \n",
       " [5] \"Sub-Saharan Africa\"              \"Western Asia\"                   \n",
       " [7] \"South-eastern Asia\"              \"Latin America and the Caribbean\"\n",
       " [9] \"Eastern Asia\"                    \"Southern Europe\"                \n",
       "[11] \"Melanesia\"                       \"Central Asia\"                   \n",
       "[13] \"Micronesia\"                      \"Polynesia\"                      \n",
       "[15] \"Northern Europe\"                 \"Northern America\"               \n",
       "[17] \"Australia and New Zealand\"      "
      ]
     },
     "metadata": {},
     "output_type": "display_data"
    },
    {
     "data": {
      "text/plain": [
       "\n",
       "      Australia and New Zealand                    Central Asia \n",
       "                             98                             245 \n",
       "                   Eastern Asia                  Eastern Europe \n",
       "                            294                             490 \n",
       "Latin America and the Caribbean                       Melanesia \n",
       "                           1911                             245 \n",
       "                     Micronesia                 Northern Africa \n",
       "                            245                             294 \n",
       "               Northern America                 Northern Europe \n",
       "                            196                             539 \n",
       "                      Polynesia              South-eastern Asia \n",
       "                            196                             539 \n",
       "                  Southern Asia                 Southern Europe \n",
       "                            441                             637 \n",
       "             Sub-Saharan Africa                    Western Asia \n",
       "                           2303                             882 \n",
       "                 Western Europe \n",
       "                            392 "
      ]
     },
     "metadata": {},
     "output_type": "display_data"
    }
   ],
   "source": [
    "length(unique(df$Region)) \n",
    "unique(df$Region)\n",
    "table(df$Region)\n",
    "\n",
    "length(unique(df$SubRegion))\n",
    "unique(df$SubRegion)\n",
    "table(df$SubRegion)"
   ]
  },
  {
   "cell_type": "code",
   "execution_count": 32,
   "id": "2d421f5a-1770-4fde-a524-5cf8641f4ebf",
   "metadata": {},
   "outputs": [
    {
     "name": "stdout",
     "output_type": "stream",
     "text": [
      " [1] \"Year\"                \"Country\"             \"Region\"             \n",
      " [4] \"SubRegion\"           \"SurfAreaSqKm\"        \"PopDens\"            \n",
      " [7] \"PopGrowth.\"          \"GDP\"                 \"GDPGrowth.\"         \n",
      "[10] \"AdolFertRate\"        \"AgriValAdd.GDP\"      \"Exports.GDP\"        \n",
      "[13] \"FertRate\"            \"FDINetBoP\"           \"GNI.CapAtlas\"       \n",
      "[16] \"GNIAtlas\"            \"GrossCapForm.GDP\"    \"Imports.GDP\"        \n",
      "[19] \"IndValAdd.GDP\"       \"InflConsPric.\"       \"LifeExpBirth\"       \n",
      "[22] \"MerchTrade.GDP\"      \"MilExp.GDP\"          \"MobileSubs.100\"     \n",
      "[25] \"MortRateU5\"          \"NetMigr\"             \"PopTotal\"           \n",
      "[28] \"RevenueExGrants.GDP\" \"SchEnrollPrim.\"      \"TaxRevenue.GDP\"     \n",
      "[31] \"UrbanPopGrowth.\"    \n"
     ]
    }
   ],
   "source": [
    "print(colnames(df))"
   ]
  },
  {
   "cell_type": "code",
   "execution_count": 34,
   "id": "c99822bf-3f52-4a26-82e4-971529d9bc10",
   "metadata": {},
   "outputs": [
    {
     "data": {
      "text/html": [
       "<style>\n",
       ".list-inline {list-style: none; margin:0; padding: 0}\n",
       ".list-inline>li {display: inline-block}\n",
       ".list-inline>li:not(:last-child)::after {content: \"\\00b7\"; padding: 0 .5ex}\n",
       "</style>\n",
       "<ol class=list-inline><li>'afghanistan'</li><li>'netherlands'</li><li>'poland'</li><li>'egypt, arab rep.'</li><li>'gabon'</li><li>'united arab emirates'</li><li>'viet nam'</li><li>'antigua and barbuda'</li><li>'mongolia'</li><li>'haiti'</li><li>'central african republic'</li><li>'spain'</li><li>'malaysia'</li><li>'israel'</li><li>'cuba'</li><li>'saudi arabia'</li><li>'sudan'</li><li>'cabo verde'</li><li>'new caledonia'</li><li>'ethiopia'</li><li>'argentina'</li><li>'venezuela, rb'</li><li>'germany'</li><li>'turkmenistan'</li><li>'ghana'</li><li>'el salvador'</li><li>'comoros'</li><li>'slovak republic'</li><li>'liechtenstein'</li><li>'kenya'</li><li>'togo'</li><li>'bolivia'</li><li>'philippines'</li><li>'libya'</li><li>'kiribati'</li><li>'marshall islands'</li><li>'liberia'</li><li>'korea, rep.'</li><li>'colombia'</li><li>'nepal'</li><li>'greece'</li><li>'portugal'</li><li>'turks and caicos islands'</li><li>'slovenia'</li><li>'botswana'</li><li>'samoa'</li><li>'cyprus'</li><li>'ireland'</li><li>'andorra'</li><li>'yemen, rep.'</li><li>'thailand'</li><li>'palau'</li><li>'ecuador'</li><li>'faroe islands'</li><li>'indonesia'</li><li>'timor-leste'</li><li>'bosnia and herzegovina'</li><li>'france'</li><li>'sao tome and principe'</li><li>'curacao'</li><li>'belarus'</li><li>'north macedonia'</li><li>'suriname'</li><li>'angola'</li><li>'west bank and gaza'</li><li>'guyana'</li><li>'montenegro'</li><li>'pakistan'</li><li>'burundi'</li><li>'belgium'</li><li>'moldova'</li><li>'honduras'</li><li>'macao sar, china'</li><li>'japan'</li><li>'panama'</li><li>'seychelles'</li><li>'costa rica'</li><li>'belize'</li><li>'mexico'</li><li>'nicaragua'</li><li>'turkiye'</li><li>'eswatini'</li><li>'eritrea'</li><li>'paraguay'</li><li>'cameroon'</li><li>'aruba'</li><li>'gambia, the'</li><li>'uzbekistan'</li><li>'hungary'</li><li>'united states'</li><li>'jamaica'</li><li>'sierra leone'</li><li>'congo, rep.'</li><li>'madagascar'</li><li>'canada'</li><li>'st. kitts and nevis'</li><li>'austria'</li><li>'estonia'</li><li>'mauritius'</li><li>'tunisia'</li><li>'benin'</li><li>'iceland'</li><li>'australia'</li><li>'uruguay'</li><li>'papua new guinea'</li><li>'south africa'</li><li>'trinidad and tobago'</li><li>'congo, dem. rep.'</li><li>'mauritania'</li><li>'united kingdom'</li><li>'peru'</li><li>'azerbaijan'</li><li>'tonga'</li><li>'bhutan'</li><li>'vanuatu'</li><li>'india'</li><li>'kazakhstan'</li><li>'cambodia'</li><li>'st. vincent and the grenadines'</li><li>'nigeria'</li><li>'senegal'</li><li>'croatia'</li><li>'lithuania'</li><li>'bermuda'</li><li>'armenia'</li><li>'equatorial guinea'</li><li>'singapore'</li><li>'st. lucia'</li><li>'luxembourg'</li><li>'jordan'</li><li>'sri lanka'</li><li>'cayman islands'</li><li>'french polynesia'</li><li>'hong kong sar, china'</li><li>'serbia'</li><li>'cote d\\'ivoire'</li><li>'italy'</li><li>'malawi'</li><li>'new zealand'</li><li>'georgia'</li><li>'micronesia, fed. sts.'</li><li>'chad'</li><li>'bahamas, the'</li><li>'niger'</li><li>'somalia'</li><li>'russian federation'</li><li>'denmark'</li><li>'namibia'</li><li>'grenada'</li><li>'brazil'</li><li>'uganda'</li><li>'tanzania'</li><li>'algeria'</li><li>'bangladesh'</li><li>'iran, islamic rep.'</li><li>'nauru'</li><li>'malta'</li><li>'chile'</li><li>'latvia'</li><li>'lao pdr'</li><li>'puerto rico'</li><li>'dominican republic'</li><li>'maldives'</li><li>'zambia'</li><li>'zimbabwe'</li><li>'greenland'</li><li>'china'</li><li>'switzerland'</li><li>'solomon islands'</li><li>'kyrgyz republic'</li><li>'lebanon'</li><li>'dominica'</li><li>'qatar'</li><li>'barbados'</li><li>'mozambique'</li><li>'tuvalu'</li><li>'guinea'</li><li>'oman'</li><li>'tajikistan'</li><li>'british virgin islands'</li><li>'norway'</li><li>'czechia'</li><li>'albania'</li><li>'rwanda'</li><li>'finland'</li><li>'guatemala'</li><li>'myanmar'</li><li>'bulgaria'</li><li>'ukraine'</li><li>'lesotho'</li><li>'iraq'</li><li>'mali'</li><li>'kuwait'</li><li>'syrian arab republic'</li><li>'sweden'</li><li>'bahrain'</li><li>'morocco'</li><li>'fiji'</li><li>'burkina faso'</li><li>'guinea-bissau'</li><li>'brunei darussalam'</li><li>'romania'</li><li>'djibouti'</li></ol>\n"
      ],
      "text/latex": [
       "\\begin{enumerate*}\n",
       "\\item 'afghanistan'\n",
       "\\item 'netherlands'\n",
       "\\item 'poland'\n",
       "\\item 'egypt, arab rep.'\n",
       "\\item 'gabon'\n",
       "\\item 'united arab emirates'\n",
       "\\item 'viet nam'\n",
       "\\item 'antigua and barbuda'\n",
       "\\item 'mongolia'\n",
       "\\item 'haiti'\n",
       "\\item 'central african republic'\n",
       "\\item 'spain'\n",
       "\\item 'malaysia'\n",
       "\\item 'israel'\n",
       "\\item 'cuba'\n",
       "\\item 'saudi arabia'\n",
       "\\item 'sudan'\n",
       "\\item 'cabo verde'\n",
       "\\item 'new caledonia'\n",
       "\\item 'ethiopia'\n",
       "\\item 'argentina'\n",
       "\\item 'venezuela, rb'\n",
       "\\item 'germany'\n",
       "\\item 'turkmenistan'\n",
       "\\item 'ghana'\n",
       "\\item 'el salvador'\n",
       "\\item 'comoros'\n",
       "\\item 'slovak republic'\n",
       "\\item 'liechtenstein'\n",
       "\\item 'kenya'\n",
       "\\item 'togo'\n",
       "\\item 'bolivia'\n",
       "\\item 'philippines'\n",
       "\\item 'libya'\n",
       "\\item 'kiribati'\n",
       "\\item 'marshall islands'\n",
       "\\item 'liberia'\n",
       "\\item 'korea, rep.'\n",
       "\\item 'colombia'\n",
       "\\item 'nepal'\n",
       "\\item 'greece'\n",
       "\\item 'portugal'\n",
       "\\item 'turks and caicos islands'\n",
       "\\item 'slovenia'\n",
       "\\item 'botswana'\n",
       "\\item 'samoa'\n",
       "\\item 'cyprus'\n",
       "\\item 'ireland'\n",
       "\\item 'andorra'\n",
       "\\item 'yemen, rep.'\n",
       "\\item 'thailand'\n",
       "\\item 'palau'\n",
       "\\item 'ecuador'\n",
       "\\item 'faroe islands'\n",
       "\\item 'indonesia'\n",
       "\\item 'timor-leste'\n",
       "\\item 'bosnia and herzegovina'\n",
       "\\item 'france'\n",
       "\\item 'sao tome and principe'\n",
       "\\item 'curacao'\n",
       "\\item 'belarus'\n",
       "\\item 'north macedonia'\n",
       "\\item 'suriname'\n",
       "\\item 'angola'\n",
       "\\item 'west bank and gaza'\n",
       "\\item 'guyana'\n",
       "\\item 'montenegro'\n",
       "\\item 'pakistan'\n",
       "\\item 'burundi'\n",
       "\\item 'belgium'\n",
       "\\item 'moldova'\n",
       "\\item 'honduras'\n",
       "\\item 'macao sar, china'\n",
       "\\item 'japan'\n",
       "\\item 'panama'\n",
       "\\item 'seychelles'\n",
       "\\item 'costa rica'\n",
       "\\item 'belize'\n",
       "\\item 'mexico'\n",
       "\\item 'nicaragua'\n",
       "\\item 'turkiye'\n",
       "\\item 'eswatini'\n",
       "\\item 'eritrea'\n",
       "\\item 'paraguay'\n",
       "\\item 'cameroon'\n",
       "\\item 'aruba'\n",
       "\\item 'gambia, the'\n",
       "\\item 'uzbekistan'\n",
       "\\item 'hungary'\n",
       "\\item 'united states'\n",
       "\\item 'jamaica'\n",
       "\\item 'sierra leone'\n",
       "\\item 'congo, rep.'\n",
       "\\item 'madagascar'\n",
       "\\item 'canada'\n",
       "\\item 'st. kitts and nevis'\n",
       "\\item 'austria'\n",
       "\\item 'estonia'\n",
       "\\item 'mauritius'\n",
       "\\item 'tunisia'\n",
       "\\item 'benin'\n",
       "\\item 'iceland'\n",
       "\\item 'australia'\n",
       "\\item 'uruguay'\n",
       "\\item 'papua new guinea'\n",
       "\\item 'south africa'\n",
       "\\item 'trinidad and tobago'\n",
       "\\item 'congo, dem. rep.'\n",
       "\\item 'mauritania'\n",
       "\\item 'united kingdom'\n",
       "\\item 'peru'\n",
       "\\item 'azerbaijan'\n",
       "\\item 'tonga'\n",
       "\\item 'bhutan'\n",
       "\\item 'vanuatu'\n",
       "\\item 'india'\n",
       "\\item 'kazakhstan'\n",
       "\\item 'cambodia'\n",
       "\\item 'st. vincent and the grenadines'\n",
       "\\item 'nigeria'\n",
       "\\item 'senegal'\n",
       "\\item 'croatia'\n",
       "\\item 'lithuania'\n",
       "\\item 'bermuda'\n",
       "\\item 'armenia'\n",
       "\\item 'equatorial guinea'\n",
       "\\item 'singapore'\n",
       "\\item 'st. lucia'\n",
       "\\item 'luxembourg'\n",
       "\\item 'jordan'\n",
       "\\item 'sri lanka'\n",
       "\\item 'cayman islands'\n",
       "\\item 'french polynesia'\n",
       "\\item 'hong kong sar, china'\n",
       "\\item 'serbia'\n",
       "\\item 'cote d\\textbackslash{}'ivoire'\n",
       "\\item 'italy'\n",
       "\\item 'malawi'\n",
       "\\item 'new zealand'\n",
       "\\item 'georgia'\n",
       "\\item 'micronesia, fed. sts.'\n",
       "\\item 'chad'\n",
       "\\item 'bahamas, the'\n",
       "\\item 'niger'\n",
       "\\item 'somalia'\n",
       "\\item 'russian federation'\n",
       "\\item 'denmark'\n",
       "\\item 'namibia'\n",
       "\\item 'grenada'\n",
       "\\item 'brazil'\n",
       "\\item 'uganda'\n",
       "\\item 'tanzania'\n",
       "\\item 'algeria'\n",
       "\\item 'bangladesh'\n",
       "\\item 'iran, islamic rep.'\n",
       "\\item 'nauru'\n",
       "\\item 'malta'\n",
       "\\item 'chile'\n",
       "\\item 'latvia'\n",
       "\\item 'lao pdr'\n",
       "\\item 'puerto rico'\n",
       "\\item 'dominican republic'\n",
       "\\item 'maldives'\n",
       "\\item 'zambia'\n",
       "\\item 'zimbabwe'\n",
       "\\item 'greenland'\n",
       "\\item 'china'\n",
       "\\item 'switzerland'\n",
       "\\item 'solomon islands'\n",
       "\\item 'kyrgyz republic'\n",
       "\\item 'lebanon'\n",
       "\\item 'dominica'\n",
       "\\item 'qatar'\n",
       "\\item 'barbados'\n",
       "\\item 'mozambique'\n",
       "\\item 'tuvalu'\n",
       "\\item 'guinea'\n",
       "\\item 'oman'\n",
       "\\item 'tajikistan'\n",
       "\\item 'british virgin islands'\n",
       "\\item 'norway'\n",
       "\\item 'czechia'\n",
       "\\item 'albania'\n",
       "\\item 'rwanda'\n",
       "\\item 'finland'\n",
       "\\item 'guatemala'\n",
       "\\item 'myanmar'\n",
       "\\item 'bulgaria'\n",
       "\\item 'ukraine'\n",
       "\\item 'lesotho'\n",
       "\\item 'iraq'\n",
       "\\item 'mali'\n",
       "\\item 'kuwait'\n",
       "\\item 'syrian arab republic'\n",
       "\\item 'sweden'\n",
       "\\item 'bahrain'\n",
       "\\item 'morocco'\n",
       "\\item 'fiji'\n",
       "\\item 'burkina faso'\n",
       "\\item 'guinea-bissau'\n",
       "\\item 'brunei darussalam'\n",
       "\\item 'romania'\n",
       "\\item 'djibouti'\n",
       "\\end{enumerate*}\n"
      ],
      "text/markdown": [
       "1. 'afghanistan'\n",
       "2. 'netherlands'\n",
       "3. 'poland'\n",
       "4. 'egypt, arab rep.'\n",
       "5. 'gabon'\n",
       "6. 'united arab emirates'\n",
       "7. 'viet nam'\n",
       "8. 'antigua and barbuda'\n",
       "9. 'mongolia'\n",
       "10. 'haiti'\n",
       "11. 'central african republic'\n",
       "12. 'spain'\n",
       "13. 'malaysia'\n",
       "14. 'israel'\n",
       "15. 'cuba'\n",
       "16. 'saudi arabia'\n",
       "17. 'sudan'\n",
       "18. 'cabo verde'\n",
       "19. 'new caledonia'\n",
       "20. 'ethiopia'\n",
       "21. 'argentina'\n",
       "22. 'venezuela, rb'\n",
       "23. 'germany'\n",
       "24. 'turkmenistan'\n",
       "25. 'ghana'\n",
       "26. 'el salvador'\n",
       "27. 'comoros'\n",
       "28. 'slovak republic'\n",
       "29. 'liechtenstein'\n",
       "30. 'kenya'\n",
       "31. 'togo'\n",
       "32. 'bolivia'\n",
       "33. 'philippines'\n",
       "34. 'libya'\n",
       "35. 'kiribati'\n",
       "36. 'marshall islands'\n",
       "37. 'liberia'\n",
       "38. 'korea, rep.'\n",
       "39. 'colombia'\n",
       "40. 'nepal'\n",
       "41. 'greece'\n",
       "42. 'portugal'\n",
       "43. 'turks and caicos islands'\n",
       "44. 'slovenia'\n",
       "45. 'botswana'\n",
       "46. 'samoa'\n",
       "47. 'cyprus'\n",
       "48. 'ireland'\n",
       "49. 'andorra'\n",
       "50. 'yemen, rep.'\n",
       "51. 'thailand'\n",
       "52. 'palau'\n",
       "53. 'ecuador'\n",
       "54. 'faroe islands'\n",
       "55. 'indonesia'\n",
       "56. 'timor-leste'\n",
       "57. 'bosnia and herzegovina'\n",
       "58. 'france'\n",
       "59. 'sao tome and principe'\n",
       "60. 'curacao'\n",
       "61. 'belarus'\n",
       "62. 'north macedonia'\n",
       "63. 'suriname'\n",
       "64. 'angola'\n",
       "65. 'west bank and gaza'\n",
       "66. 'guyana'\n",
       "67. 'montenegro'\n",
       "68. 'pakistan'\n",
       "69. 'burundi'\n",
       "70. 'belgium'\n",
       "71. 'moldova'\n",
       "72. 'honduras'\n",
       "73. 'macao sar, china'\n",
       "74. 'japan'\n",
       "75. 'panama'\n",
       "76. 'seychelles'\n",
       "77. 'costa rica'\n",
       "78. 'belize'\n",
       "79. 'mexico'\n",
       "80. 'nicaragua'\n",
       "81. 'turkiye'\n",
       "82. 'eswatini'\n",
       "83. 'eritrea'\n",
       "84. 'paraguay'\n",
       "85. 'cameroon'\n",
       "86. 'aruba'\n",
       "87. 'gambia, the'\n",
       "88. 'uzbekistan'\n",
       "89. 'hungary'\n",
       "90. 'united states'\n",
       "91. 'jamaica'\n",
       "92. 'sierra leone'\n",
       "93. 'congo, rep.'\n",
       "94. 'madagascar'\n",
       "95. 'canada'\n",
       "96. 'st. kitts and nevis'\n",
       "97. 'austria'\n",
       "98. 'estonia'\n",
       "99. 'mauritius'\n",
       "100. 'tunisia'\n",
       "101. 'benin'\n",
       "102. 'iceland'\n",
       "103. 'australia'\n",
       "104. 'uruguay'\n",
       "105. 'papua new guinea'\n",
       "106. 'south africa'\n",
       "107. 'trinidad and tobago'\n",
       "108. 'congo, dem. rep.'\n",
       "109. 'mauritania'\n",
       "110. 'united kingdom'\n",
       "111. 'peru'\n",
       "112. 'azerbaijan'\n",
       "113. 'tonga'\n",
       "114. 'bhutan'\n",
       "115. 'vanuatu'\n",
       "116. 'india'\n",
       "117. 'kazakhstan'\n",
       "118. 'cambodia'\n",
       "119. 'st. vincent and the grenadines'\n",
       "120. 'nigeria'\n",
       "121. 'senegal'\n",
       "122. 'croatia'\n",
       "123. 'lithuania'\n",
       "124. 'bermuda'\n",
       "125. 'armenia'\n",
       "126. 'equatorial guinea'\n",
       "127. 'singapore'\n",
       "128. 'st. lucia'\n",
       "129. 'luxembourg'\n",
       "130. 'jordan'\n",
       "131. 'sri lanka'\n",
       "132. 'cayman islands'\n",
       "133. 'french polynesia'\n",
       "134. 'hong kong sar, china'\n",
       "135. 'serbia'\n",
       "136. 'cote d\\'ivoire'\n",
       "137. 'italy'\n",
       "138. 'malawi'\n",
       "139. 'new zealand'\n",
       "140. 'georgia'\n",
       "141. 'micronesia, fed. sts.'\n",
       "142. 'chad'\n",
       "143. 'bahamas, the'\n",
       "144. 'niger'\n",
       "145. 'somalia'\n",
       "146. 'russian federation'\n",
       "147. 'denmark'\n",
       "148. 'namibia'\n",
       "149. 'grenada'\n",
       "150. 'brazil'\n",
       "151. 'uganda'\n",
       "152. 'tanzania'\n",
       "153. 'algeria'\n",
       "154. 'bangladesh'\n",
       "155. 'iran, islamic rep.'\n",
       "156. 'nauru'\n",
       "157. 'malta'\n",
       "158. 'chile'\n",
       "159. 'latvia'\n",
       "160. 'lao pdr'\n",
       "161. 'puerto rico'\n",
       "162. 'dominican republic'\n",
       "163. 'maldives'\n",
       "164. 'zambia'\n",
       "165. 'zimbabwe'\n",
       "166. 'greenland'\n",
       "167. 'china'\n",
       "168. 'switzerland'\n",
       "169. 'solomon islands'\n",
       "170. 'kyrgyz republic'\n",
       "171. 'lebanon'\n",
       "172. 'dominica'\n",
       "173. 'qatar'\n",
       "174. 'barbados'\n",
       "175. 'mozambique'\n",
       "176. 'tuvalu'\n",
       "177. 'guinea'\n",
       "178. 'oman'\n",
       "179. 'tajikistan'\n",
       "180. 'british virgin islands'\n",
       "181. 'norway'\n",
       "182. 'czechia'\n",
       "183. 'albania'\n",
       "184. 'rwanda'\n",
       "185. 'finland'\n",
       "186. 'guatemala'\n",
       "187. 'myanmar'\n",
       "188. 'bulgaria'\n",
       "189. 'ukraine'\n",
       "190. 'lesotho'\n",
       "191. 'iraq'\n",
       "192. 'mali'\n",
       "193. 'kuwait'\n",
       "194. 'syrian arab republic'\n",
       "195. 'sweden'\n",
       "196. 'bahrain'\n",
       "197. 'morocco'\n",
       "198. 'fiji'\n",
       "199. 'burkina faso'\n",
       "200. 'guinea-bissau'\n",
       "201. 'brunei darussalam'\n",
       "202. 'romania'\n",
       "203. 'djibouti'\n",
       "\n",
       "\n"
      ],
      "text/plain": [
       "  [1] \"afghanistan\"                    \"netherlands\"                   \n",
       "  [3] \"poland\"                         \"egypt, arab rep.\"              \n",
       "  [5] \"gabon\"                          \"united arab emirates\"          \n",
       "  [7] \"viet nam\"                       \"antigua and barbuda\"           \n",
       "  [9] \"mongolia\"                       \"haiti\"                         \n",
       " [11] \"central african republic\"       \"spain\"                         \n",
       " [13] \"malaysia\"                       \"israel\"                        \n",
       " [15] \"cuba\"                           \"saudi arabia\"                  \n",
       " [17] \"sudan\"                          \"cabo verde\"                    \n",
       " [19] \"new caledonia\"                  \"ethiopia\"                      \n",
       " [21] \"argentina\"                      \"venezuela, rb\"                 \n",
       " [23] \"germany\"                        \"turkmenistan\"                  \n",
       " [25] \"ghana\"                          \"el salvador\"                   \n",
       " [27] \"comoros\"                        \"slovak republic\"               \n",
       " [29] \"liechtenstein\"                  \"kenya\"                         \n",
       " [31] \"togo\"                           \"bolivia\"                       \n",
       " [33] \"philippines\"                    \"libya\"                         \n",
       " [35] \"kiribati\"                       \"marshall islands\"              \n",
       " [37] \"liberia\"                        \"korea, rep.\"                   \n",
       " [39] \"colombia\"                       \"nepal\"                         \n",
       " [41] \"greece\"                         \"portugal\"                      \n",
       " [43] \"turks and caicos islands\"       \"slovenia\"                      \n",
       " [45] \"botswana\"                       \"samoa\"                         \n",
       " [47] \"cyprus\"                         \"ireland\"                       \n",
       " [49] \"andorra\"                        \"yemen, rep.\"                   \n",
       " [51] \"thailand\"                       \"palau\"                         \n",
       " [53] \"ecuador\"                        \"faroe islands\"                 \n",
       " [55] \"indonesia\"                      \"timor-leste\"                   \n",
       " [57] \"bosnia and herzegovina\"         \"france\"                        \n",
       " [59] \"sao tome and principe\"          \"curacao\"                       \n",
       " [61] \"belarus\"                        \"north macedonia\"               \n",
       " [63] \"suriname\"                       \"angola\"                        \n",
       " [65] \"west bank and gaza\"             \"guyana\"                        \n",
       " [67] \"montenegro\"                     \"pakistan\"                      \n",
       " [69] \"burundi\"                        \"belgium\"                       \n",
       " [71] \"moldova\"                        \"honduras\"                      \n",
       " [73] \"macao sar, china\"               \"japan\"                         \n",
       " [75] \"panama\"                         \"seychelles\"                    \n",
       " [77] \"costa rica\"                     \"belize\"                        \n",
       " [79] \"mexico\"                         \"nicaragua\"                     \n",
       " [81] \"turkiye\"                        \"eswatini\"                      \n",
       " [83] \"eritrea\"                        \"paraguay\"                      \n",
       " [85] \"cameroon\"                       \"aruba\"                         \n",
       " [87] \"gambia, the\"                    \"uzbekistan\"                    \n",
       " [89] \"hungary\"                        \"united states\"                 \n",
       " [91] \"jamaica\"                        \"sierra leone\"                  \n",
       " [93] \"congo, rep.\"                    \"madagascar\"                    \n",
       " [95] \"canada\"                         \"st. kitts and nevis\"           \n",
       " [97] \"austria\"                        \"estonia\"                       \n",
       " [99] \"mauritius\"                      \"tunisia\"                       \n",
       "[101] \"benin\"                          \"iceland\"                       \n",
       "[103] \"australia\"                      \"uruguay\"                       \n",
       "[105] \"papua new guinea\"               \"south africa\"                  \n",
       "[107] \"trinidad and tobago\"            \"congo, dem. rep.\"              \n",
       "[109] \"mauritania\"                     \"united kingdom\"                \n",
       "[111] \"peru\"                           \"azerbaijan\"                    \n",
       "[113] \"tonga\"                          \"bhutan\"                        \n",
       "[115] \"vanuatu\"                        \"india\"                         \n",
       "[117] \"kazakhstan\"                     \"cambodia\"                      \n",
       "[119] \"st. vincent and the grenadines\" \"nigeria\"                       \n",
       "[121] \"senegal\"                        \"croatia\"                       \n",
       "[123] \"lithuania\"                      \"bermuda\"                       \n",
       "[125] \"armenia\"                        \"equatorial guinea\"             \n",
       "[127] \"singapore\"                      \"st. lucia\"                     \n",
       "[129] \"luxembourg\"                     \"jordan\"                        \n",
       "[131] \"sri lanka\"                      \"cayman islands\"                \n",
       "[133] \"french polynesia\"               \"hong kong sar, china\"          \n",
       "[135] \"serbia\"                         \"cote d'ivoire\"                 \n",
       "[137] \"italy\"                          \"malawi\"                        \n",
       "[139] \"new zealand\"                    \"georgia\"                       \n",
       "[141] \"micronesia, fed. sts.\"          \"chad\"                          \n",
       "[143] \"bahamas, the\"                   \"niger\"                         \n",
       "[145] \"somalia\"                        \"russian federation\"            \n",
       "[147] \"denmark\"                        \"namibia\"                       \n",
       "[149] \"grenada\"                        \"brazil\"                        \n",
       "[151] \"uganda\"                         \"tanzania\"                      \n",
       "[153] \"algeria\"                        \"bangladesh\"                    \n",
       "[155] \"iran, islamic rep.\"             \"nauru\"                         \n",
       "[157] \"malta\"                          \"chile\"                         \n",
       "[159] \"latvia\"                         \"lao pdr\"                       \n",
       "[161] \"puerto rico\"                    \"dominican republic\"            \n",
       "[163] \"maldives\"                       \"zambia\"                        \n",
       "[165] \"zimbabwe\"                       \"greenland\"                     \n",
       "[167] \"china\"                          \"switzerland\"                   \n",
       "[169] \"solomon islands\"                \"kyrgyz republic\"               \n",
       "[171] \"lebanon\"                        \"dominica\"                      \n",
       "[173] \"qatar\"                          \"barbados\"                      \n",
       "[175] \"mozambique\"                     \"tuvalu\"                        \n",
       "[177] \"guinea\"                         \"oman\"                          \n",
       "[179] \"tajikistan\"                     \"british virgin islands\"        \n",
       "[181] \"norway\"                         \"czechia\"                       \n",
       "[183] \"albania\"                        \"rwanda\"                        \n",
       "[185] \"finland\"                        \"guatemala\"                     \n",
       "[187] \"myanmar\"                        \"bulgaria\"                      \n",
       "[189] \"ukraine\"                        \"lesotho\"                       \n",
       "[191] \"iraq\"                           \"mali\"                          \n",
       "[193] \"kuwait\"                         \"syrian arab republic\"          \n",
       "[195] \"sweden\"                         \"bahrain\"                       \n",
       "[197] \"morocco\"                        \"fiji\"                          \n",
       "[199] \"burkina faso\"                   \"guinea-bissau\"                 \n",
       "[201] \"brunei darussalam\"              \"romania\"                       \n",
       "[203] \"djibouti\"                      "
      ]
     },
     "metadata": {},
     "output_type": "display_data"
    }
   ],
   "source": [
    "unique(df$Country)"
   ]
  },
  {
   "cell_type": "code",
   "execution_count": 127,
   "id": "cc480997-05e3-4c08-b71f-e819ec2c1009",
   "metadata": {},
   "outputs": [
    {
     "data": {
      "image/png": "[encoded data removed]",
      "text/plain": [
       "plot without title"
      ]
     },
     "metadata": {
      "image/png": {
       "height": 420,
       "width": 420
      }
     },
     "output_type": "display_data"
    }
   ],
   "source": [
    "library(scales) # For label formatting\n",
    "\n",
    "ggplot(data = spain_GDP, aes(x = Year, y = GDP / 1e6)) +  # Divide by 1 million to convert to \"M\"\n",
    "  scale_y_continuous(labels = function(x) paste0(comma(x), \" M\")) +\n",
    "  geom_line(color = \"blue\") + \n",
    "  geom_point(color = \"blue\") +  \n",
    "  labs(x = 'Year', y = 'GDP (in Millions)', title = 'GDP of Spain') +\n",
    "  theme_minimal()"
   ]
  },
  {
   "cell_type": "code",
   "execution_count": 131,
   "id": "d9d79203-04c5-4f3b-a2e9-cce2afb7f481",
   "metadata": {},
   "outputs": [
    {
     "data": {
      "image/png": "[encoded data removed]",
      "text/plain": [
       "plot without title"
      ]
     },
     "metadata": {
      "image/png": {
       "height": 420,
       "width": 420
      }
     },
     "output_type": "display_data"
    }
   ],
   "source": [
    "ggplot(data = countries_GDP, aes(x = Year, y = GDP / 1e6, color = Country)) +  # Divide by 1 million for all countries\n",
    "  scale_y_continuous(labels = function(x) paste0(comma(x), \" M\")) +\n",
    "  geom_line() + \n",
    "  geom_point() +  \n",
    "  labs(x = 'Year', y = 'GDP (in Millions)', title = 'GDP of Different Countries') +\n",
    "  theme_minimal()"
   ]
  },
  {
   "cell_type": "markdown",
   "id": "00b74522-ee34-4dfe-a5bc-700ef308801f",
   "metadata": {},
   "source": [
    "## correlation analysis"
   ]
  },
  {
   "cell_type": "markdown",
   "id": "a30a2f81-e9d9-4b82-bc55-75d4b5043bc6",
   "metadata": {},
   "source": [
    "para la correlacion se necesita seguir limpiando el nombre de las columnas y facilitar el trabajo"
   ]
  },
  {
   "cell_type": "code",
   "execution_count": 41,
   "id": "ac9e5842-5a21-41d5-b850-b29ce3abbc6d",
   "metadata": {},
   "outputs": [
    {
     "name": "stdout",
     "output_type": "stream",
     "text": [
      " [1] \"Year\"               \"Country\"            \"Region\"            \n",
      " [4] \"SubRegion\"          \"SurfAreaSqKm\"       \"PopDens\"           \n",
      " [7] \"PopGrowth\"          \"GDP\"                \"GDPGrowth\"         \n",
      "[10] \"AdolFertRate\"       \"AgriValAddGDP\"      \"ExportsGDP\"        \n",
      "[13] \"FertRate\"           \"FDINetBoP\"          \"GNICapAtlas\"       \n",
      "[16] \"GNIAtlas\"           \"GrossCapFormGDP\"    \"ImportsGDP\"        \n",
      "[19] \"IndValAddGDP\"       \"InflConsPric\"       \"LifeExpBirth\"      \n",
      "[22] \"MerchTradeGDP\"      \"MilExpGDP\"          \"MobileSubs100\"     \n",
      "[25] \"MortRateU5\"         \"NetMigr\"            \"PopTotal\"          \n",
      "[28] \"RevenueExGrantsGDP\" \"SchEnrollPrim\"      \"TaxRevenueGDP\"     \n",
      "[31] \"UrbanPopGrowth\"    \n"
     ]
    }
   ],
   "source": [
    "colnames(df) <- gsub(\"\\\\.\", \"\", colnames(df))\n",
    "print(colnames(df))"
   ]
  },
  {
   "cell_type": "markdown",
   "id": "7629b907-bd64-4c4f-9170-2b8c2d6a4ae9",
   "metadata": {},
   "source": [
    "Ahora, sí se puede empezar a trabajar mejor."
   ]
  },
  {
   "cell_type": "code",
   "execution_count": 44,
   "id": "d4dea29f-f4e1-465d-ae01-d44e7250bb2e",
   "metadata": {
    "scrolled": true
   },
   "outputs": [
    {
     "name": "stdout",
     "output_type": "stream",
     "text": [
      "                  GDP   GDPGrowth     PopDens AdolFertRate AgriValAddGDP\n",
      "GDP        1.00000000 -0.02410214 0.001777889  -0.16829201    -0.1592868\n",
      "GDPGrowth -0.02410214  1.00000000 0.035392856   0.09564243     0.1649491\n",
      "            ExportsGDP   FertRate ImportsGDP InflConsPric LifeExpBirth\n",
      "GDP       -0.104180033 -0.1562306 -0.1641980  -0.01255646    0.1953931\n",
      "GDPGrowth  0.009998372  0.1202253  0.0415861  -0.05365544   -0.1578427\n",
      "          MerchTradeGDP MortRateU5     NetMigr  PopTotal RevenueExGrantsGDP\n",
      "GDP         -0.12780908 -0.1377159  0.41769606 0.4582532        -0.02238402\n",
      "GDPGrowth    0.04565427  0.1327865 -0.04713344 0.1037088        -0.07670784\n",
      "          SchEnrollPrim TaxRevenueGDP UrbanPopGrowth\n",
      "GDP          0.02255242   -0.06819271    -0.08855058\n",
      "GDPGrowth    0.00359143   -0.06648686     0.17411711\n"
     ]
    }
   ],
   "source": [
    "variables_matriz= c('GDP', 'GDPGrowth', 'PopDens', 'AdolFertRate', \n",
    "                       'AgriValAddGDP', 'ExportsGDP', 'FertRate', 'ImportsGDP', \n",
    "                       'InflConsPric', 'LifeExpBirth', 'MerchTradeGDP', \n",
    "                       'MortRateU5', 'NetMigr', 'PopTotal', 'RevenueExGrantsGDP', \n",
    "                       'SchEnrollPrim', 'TaxRevenueGDP', 'UrbanPopGrowth')\n",
    "\n",
    "corr_matriz= cor(df[ , variables_matriz], use = \"complete.obs\")\n",
    "correla_gdp= corr_matriz[c(\"GDP\", \"GDPGrowth\"), ]\n",
    "\n",
    "print(correla_gdp)"
   ]
  },
  {
   "cell_type": "markdown",
   "id": "0a69f68b-dd00-46d2-923a-43d7d6166d04",
   "metadata": {},
   "source": [
    "Hay datos contradictorios. Solo me fijaré en el GDPGrowth"
   ]
  },
  {
   "cell_type": "code",
   "execution_count": 47,
   "id": "0bdf7eb2-a444-4686-a926-75fcca49911d",
   "metadata": {},
   "outputs": [
    {
     "name": "stdout",
     "output_type": "stream",
     "text": [
      "               GDP          GDPGrowth            PopDens       AdolFertRate \n",
      "      -0.024102135        1.000000000        0.035392856        0.095642426 \n",
      "     AgriValAddGDP         ExportsGDP           FertRate         ImportsGDP \n",
      "       0.164949060        0.009998372        0.120225292        0.041586095 \n",
      "      InflConsPric       LifeExpBirth      MerchTradeGDP         MortRateU5 \n",
      "      -0.053655441       -0.157842658        0.045654272        0.132786549 \n",
      "           NetMigr           PopTotal RevenueExGrantsGDP      SchEnrollPrim \n",
      "      -0.047133443        0.103708788       -0.076707845        0.003591430 \n",
      "     TaxRevenueGDP     UrbanPopGrowth \n",
      "      -0.066486856        0.174117105 \n"
     ]
    }
   ],
   "source": [
    "variables_matriz= c('GDP', 'GDPGrowth', 'PopDens', 'AdolFertRate', \n",
    "                       'AgriValAddGDP', 'ExportsGDP', 'FertRate', 'ImportsGDP', \n",
    "                       'InflConsPric', 'LifeExpBirth', 'MerchTradeGDP', \n",
    "                       'MortRateU5', 'NetMigr', 'PopTotal', 'RevenueExGrantsGDP', \n",
    "                       'SchEnrollPrim', 'TaxRevenueGDP', 'UrbanPopGrowth')\n",
    "\n",
    "corr_matriz= cor(df[ , variables_matriz], use = \"complete.obs\")\n",
    "correla_gdp= corr_matriz[c(\"GDPGrowth\"), ]\n",
    "\n",
    "print(correla_gdp)"
   ]
  },
  {
   "cell_type": "markdown",
   "id": "680b499a-4b1f-4569-953e-d36a1a5d8131",
   "metadata": {},
   "source": [
    "<!-- Hay varias correlaciones a destacar:\n",
    "\n",
    "La población total y la migracion neta tienen una alta correlación positiva. Por lo que es un buen indicador para predecir el GDP.\n",
    "\n",
    "A mayor esperanza de vida, se tiende a tener un mayor GDP. Así como un crecimiento urbano.\n",
    "\n",
    "Y a cuanto mayor sea la fertilidad, el peso de la agricultura en la economía y la mortalidad, se tiende a tener un menor GDP. -->"
   ]
  },
  {
   "cell_type": "code",
   "execution_count": 50,
   "id": "b841e631-6946-45f9-83d4-0086908d5dc3",
   "metadata": {},
   "outputs": [
    {
     "data": {
      "text/plain": [
       "\n",
       "Call:\n",
       "lm(formula = GDP ~ PopDens + AdolFertRate + AgriValAddGDP + ExportsGDP + \n",
       "    FertRate + ImportsGDP + InflConsPric + LifeExpBirth + MerchTradeGDP + \n",
       "    MortRateU5 + NetMigr + PopTotal + RevenueExGrantsGDP + SchEnrollPrim + \n",
       "    TaxRevenueGDP + UrbanPopGrowth, data = df)\n",
       "\n",
       "Residuals:\n",
       "       Min         1Q     Median         3Q        Max \n",
       "-6.072e+12 -2.562e+11 -6.804e+10  1.662e+11  1.879e+13 \n",
       "\n",
       "Coefficients:\n",
       "                     Estimate Std. Error t value Pr(>|t|)    \n",
       "(Intercept)        -1.509e+12  5.339e+11  -2.826 0.004741 ** \n",
       "PopDens             4.876e+07  4.172e+07   1.169 0.242528    \n",
       "AdolFertRate       -3.108e+09  8.700e+08  -3.572 0.000360 ***\n",
       "AgriValAddGDP      -1.504e+10  3.111e+09  -4.835 1.39e-06 ***\n",
       "ExportsGDP         -7.688e+09  1.789e+09  -4.298 1.78e-05 ***\n",
       "FertRate            1.695e+11  3.596e+10   4.713 2.55e-06 ***\n",
       "ImportsGDP          3.751e+09  1.940e+09   1.933 0.053309 .  \n",
       "InflConsPric        1.542e+07  8.105e+07   0.190 0.849135    \n",
       "LifeExpBirth        2.597e+10  5.844e+09   4.444 9.16e-06 ***\n",
       "MerchTradeGDP      -1.135e+09  9.238e+08  -1.228 0.219449    \n",
       "MortRateU5         -1.064e+08  1.373e+09  -0.077 0.938241    \n",
       "NetMigr             4.078e+06  1.257e+05  32.432  < 2e-16 ***\n",
       "PopTotal            4.763e+03  1.314e+02  36.259  < 2e-16 ***\n",
       "RevenueExGrantsGDP  1.091e+09  2.177e+09   0.501 0.616251    \n",
       "SchEnrollPrim       1.907e+09  1.708e+09   1.117 0.264282    \n",
       "TaxRevenueGDP      -1.473e+10  4.203e+09  -3.504 0.000464 ***\n",
       "UrbanPopGrowth     -6.157e+10  1.693e+10  -3.637 0.000280 ***\n",
       "---\n",
       "Signif. codes:  0 '***' 0.001 '**' 0.01 '*' 0.05 '.' 0.1 ' ' 1\n",
       "\n",
       "Residual standard error: 1.035e+12 on 3135 degrees of freedom\n",
       "  (6795 observations deleted due to missingness)\n",
       "Multiple R-squared:  0.4737,\tAdjusted R-squared:  0.471 \n",
       "F-statistic: 176.4 on 16 and 3135 DF,  p-value: < 2.2e-16\n"
      ]
     },
     "metadata": {},
     "output_type": "display_data"
    }
   ],
   "source": [
    "# Linear regression model to predict GDP using the other variables\n",
    "gdp_model <- lm(GDP ~ PopDens + AdolFertRate + AgriValAddGDP + ExportsGDP + \n",
    "                FertRate + ImportsGDP + InflConsPric + LifeExpBirth + \n",
    "                MerchTradeGDP + MortRateU5 + NetMigr + PopTotal + \n",
    "                RevenueExGrantsGDP + SchEnrollPrim + TaxRevenueGDP + \n",
    "                UrbanPopGrowth, data=df)\n",
    "\n",
    "# Summary of the model\n",
    "summary(gdp_model)"
   ]
  },
  {
   "cell_type": "code",
   "execution_count": 52,
   "id": "fddbafb0-ca35-49d9-8b58-1d7b44eae3db",
   "metadata": {},
   "outputs": [
    {
     "data": {
      "text/plain": [
       "\n",
       "Call:\n",
       "lm(formula = GDPGrowth ~ PopDens + AdolFertRate + AgriValAddGDP + \n",
       "    ExportsGDP + FertRate + ImportsGDP + InflConsPric + LifeExpBirth + \n",
       "    MerchTradeGDP + MortRateU5 + NetMigr + PopTotal + RevenueExGrantsGDP + \n",
       "    SchEnrollPrim + TaxRevenueGDP + UrbanPopGrowth, data = df)\n",
       "\n",
       "Residuals:\n",
       "     Min       1Q   Median       3Q      Max \n",
       "-24.7942  -1.5967   0.2983   2.0128  28.0173 \n",
       "\n",
       "Coefficients:\n",
       "                     Estimate Std. Error t value Pr(>|t|)    \n",
       "(Intercept)         6.513e+00  2.085e+00   3.124 0.001803 ** \n",
       "PopDens             1.056e-04  1.629e-04   0.648 0.516717    \n",
       "AdolFertRate       -9.782e-03  3.398e-03  -2.879 0.004013 ** \n",
       "AgriValAddGDP       4.186e-02  1.215e-02   3.446 0.000577 ***\n",
       "ExportsGDP         -2.620e-03  6.986e-03  -0.375 0.707702    \n",
       "FertRate           -2.976e-01  1.404e-01  -2.119 0.034179 *  \n",
       "ImportsGDP          1.122e-02  7.577e-03   1.481 0.138734    \n",
       "InflConsPric       -1.092e-03  3.165e-04  -3.451 0.000565 ***\n",
       "LifeExpBirth       -8.249e-02  2.282e-02  -3.615 0.000306 ***\n",
       "MerchTradeGDP       7.846e-03  3.608e-03   2.175 0.029723 *  \n",
       "MortRateU5          1.408e-03  5.362e-03   0.263 0.792857    \n",
       "NetMigr            -1.270e-07  4.910e-07  -0.259 0.795953    \n",
       "PopTotal            2.539e-09  5.129e-10   4.950  7.8e-07 ***\n",
       "RevenueExGrantsGDP -1.411e-02  8.500e-03  -1.660 0.097067 .  \n",
       "SchEnrollPrim       2.128e-02  6.669e-03   3.191 0.001433 ** \n",
       "TaxRevenueGDP       6.667e-03  1.641e-02   0.406 0.684665    \n",
       "UrbanPopGrowth      3.801e-01  6.611e-02   5.750  9.8e-09 ***\n",
       "---\n",
       "Signif. codes:  0 '***' 0.001 '**' 0.01 '*' 0.05 '.' 0.1 ' ' 1\n",
       "\n",
       "Residual standard error: 4.041 on 3135 degrees of freedom\n",
       "  (6795 observations deleted due to missingness)\n",
       "Multiple R-squared:  0.07384,\tAdjusted R-squared:  0.06912 \n",
       "F-statistic: 15.62 on 16 and 3135 DF,  p-value: < 2.2e-16\n"
      ]
     },
     "metadata": {},
     "output_type": "display_data"
    }
   ],
   "source": [
    "# Linear regression model to predict GDP growth using the other variables\n",
    "gdp_growth_model <- lm(GDPGrowth ~ PopDens + AdolFertRate + AgriValAddGDP + ExportsGDP + \n",
    "                FertRate + ImportsGDP + InflConsPric + LifeExpBirth + \n",
    "                MerchTradeGDP + MortRateU5 + NetMigr + PopTotal + \n",
    "                RevenueExGrantsGDP + SchEnrollPrim + TaxRevenueGDP + \n",
    "                UrbanPopGrowth, data=df)\n",
    "\n",
    "# Summary of the model\n",
    "summary(gdp_growth_model)\n"
   ]
  },
  {
   "cell_type": "code",
   "execution_count": 58,
   "id": "e0607460-14b7-429b-aae7-bc9d81d9b884",
   "metadata": {},
   "outputs": [
    {
     "data": {
      "text/html": [
       "8668"
      ],
      "text/latex": [
       "8668"
      ],
      "text/markdown": [
       "8668"
      ],
      "text/plain": [
       "[1] 8668"
      ]
     },
     "metadata": {},
     "output_type": "display_data"
    }
   ],
   "source": [
    "df= df[!is.na(df$GDP), ]\n",
    "\n",
    "nrow(df)"
   ]
  },
  {
   "cell_type": "code",
   "execution_count": 60,
   "id": "ebda399b-19ae-4a4f-9567-91c8d353c27e",
   "metadata": {},
   "outputs": [
    {
     "name": "stderr",
     "output_type": "stream",
     "text": [
      "\u001b[1m\u001b[22m`stat_bin()` using `bins = 30`. Pick better value with `binwidth`.\n"
     ]
    },
    {
     "data": {
      "image/png": "[encoded data removed]",
      "text/plain": [
       "plot without title"
      ]
     },
     "metadata": {
      "image/png": {
       "height": 420,
       "width": 420
      }
     },
     "output_type": "display_data"
    }
   ],
   "source": [
    "ggplot(df, aes(x = GDP)) +\n",
    "    geom_histogram(fill = \"blue\", color = \"black\", alpha = 0.7) +  # Automatic binwidth\n",
    "    labs(title = \"Histogram of GDP\",\n",
    "         x = \"GDP\",\n",
    "         y = \"Frequency\") +\n",
    "    theme_minimal()"
   ]
  },
  {
   "cell_type": "markdown",
   "id": "505c20f2-3850-45e0-8471-14f32708fc34",
   "metadata": {},
   "source": [
    "No dice nada esta gráfica"
   ]
  },
  {
   "cell_type": "code",
   "execution_count": 63,
   "id": "4b395ce6-c457-48d3-9f92-ae7ad5d9f9ec",
   "metadata": {},
   "outputs": [
    {
     "name": "stderr",
     "output_type": "stream",
     "text": [
      "\u001b[1m\u001b[22m`stat_bin()` using `bins = 30`. Pick better value with `binwidth`.\n"
     ]
    },
    {
     "data": {
      "image/png": "[encoded data removed]",
      "text/plain": [
       "plot without title"
      ]
     },
     "metadata": {
      "image/png": {
       "height": 420,
       "width": 420
      }
     },
     "output_type": "display_data"
    }
   ],
   "source": [
    "ggplot(df, aes(x = GDPGrowth)) +\n",
    "    geom_histogram(fill = \"blue\", color = \"black\", alpha = 0.7) +  # Automatic binwidth\n",
    "    labs(title = \"Histogram of GDPGrowth\",\n",
    "         x = \"GDP Growth\",\n",
    "         y = \"Frequency\") +\n",
    "    theme_minimal()"
   ]
  },
  {
   "cell_type": "markdown",
   "id": "231496d9-f772-49ab-972e-4a3d02b3d516",
   "metadata": {},
   "source": [
    "Aquí se observa que los crecimientos de los países siguen una distribución normal. Ahora vamos a ver España"
   ]
  },
  {
   "cell_type": "code",
   "execution_count": 66,
   "id": "78a7801b-b1e0-4b74-bf90-314dd4ba6526",
   "metadata": {},
   "outputs": [
    {
     "name": "stderr",
     "output_type": "stream",
     "text": [
      "\u001b[1m\u001b[22m`stat_bin()` using `bins = 30`. Pick better value with `binwidth`.\n"
     ]
    },
    {
     "data": {
      "image/png": "[encoded data removed]",
      "text/plain": [
       "plot without title"
      ]
     },
     "metadata": {
      "image/png": {
       "height": 420,
       "width": 420
      }
     },
     "output_type": "display_data"
    }
   ],
   "source": [
    "df_spain <- df %>% filter(Country == \"spain\")\n",
    "\n",
    "ggplot(df_spain, aes(x = GDPGrowth)) +\n",
    "    geom_histogram(fill = \"blue\", color = \"black\", alpha = 0.7) +  # Automatic binwidth\n",
    "    labs(title = \"Histogram of GDP Growth for Spain\",\n",
    "         x = \"GDP Growth\",\n",
    "         y = \"Frequency\") +\n",
    "    theme_minimal()"
   ]
  },
  {
   "cell_type": "code",
   "execution_count": 68,
   "id": "2af52b41-1425-4d98-8c2d-a636ebebd4df",
   "metadata": {},
   "outputs": [
    {
     "data": {
      "image/png": "[encoded data removed]",
      "text/plain": [
       "plot without title"
      ]
     },
     "metadata": {
      "image/png": {
       "height": 420,
       "width": 420
      }
     },
     "output_type": "display_data"
    }
   ],
   "source": [
    "spain_GDPGrowth= df[df$Country == \"spain\", ]\n",
    "\n",
    "ggplot(data = spain_GDPGrowth, aes(x = Year, y = GDPGrowth)) +\n",
    "  geom_line(color = \"blue\") + \n",
    "  geom_point(color = \"blue\") +  \n",
    "  labs(x = 'Year', y = 'GDPGrowth', title = 'GDPGrowth de España') +\n",
    "  theme_minimal()"
   ]
  },
  {
   "cell_type": "code",
   "execution_count": 70,
   "id": "75f7db51-ce16-4cff-9a88-2b851cba3628",
   "metadata": {},
   "outputs": [
    {
     "name": "stderr",
     "output_type": "stream",
     "text": [
      "\u001b[1m\u001b[22m`stat_bin()` using `bins = 30`. Pick better value with `binwidth`.\n"
     ]
    },
    {
     "data": {
      "image/png": "[encoded data removed]",
      "text/plain": [
       "plot without title"
      ]
     },
     "metadata": {
      "image/png": {
       "height": 420,
       "width": 420
      }
     },
     "output_type": "display_data"
    }
   ],
   "source": [
    "df_venezuela <- df %>% filter(Country == \"venezuela, rb\")\n",
    "\n",
    "ggplot(df_venezuela, aes(x = GDPGrowth)) +\n",
    "    geom_histogram(fill = \"blue\", color = \"black\", alpha = 0.7) +  # Automatic binwidth\n",
    "    labs(title = \"Histogram of GDP Growth for Venezuela\",\n",
    "         x = \"GDP Growth\",\n",
    "         y = \"Frequency\") +\n",
    "    theme_minimal()"
   ]
  },
  {
   "cell_type": "code",
   "execution_count": 72,
   "id": "5604b558-1b14-4390-aa02-0c808b907dbb",
   "metadata": {},
   "outputs": [
    {
     "data": {
      "image/png": "[encoded data removed]",
      "text/plain": [
       "plot without title"
      ]
     },
     "metadata": {
      "image/png": {
       "height": 420,
       "width": 420
      }
     },
     "output_type": "display_data"
    }
   ],
   "source": [
    "venezuela_GDPGrowth= df[df$Country == \"venezuela, rb\", ]\n",
    "\n",
    "ggplot(data = venezuela_GDPGrowth, aes(x = Year, y = GDPGrowth)) +\n",
    "  geom_line(color = \"blue\") + \n",
    "  geom_point(color = \"blue\") +  \n",
    "  labs(x = 'Year', y = 'GDPGrowth', title = 'GDPGrowth de Venezuela') +\n",
    "  theme_minimal()"
   ]
  },
  {
   "cell_type": "code",
   "execution_count": 74,
   "id": "858f2334-3a70-4c8f-a459-a466725903d3",
   "metadata": {},
   "outputs": [
    {
     "name": "stderr",
     "output_type": "stream",
     "text": [
      "\u001b[1m\u001b[22m`stat_bin()` using `bins = 30`. Pick better value with `binwidth`.\n"
     ]
    },
    {
     "data": {
      "image/png": "[encoded data removed]",
      "text/plain": [
       "plot without title"
      ]
     },
     "metadata": {
      "image/png": {
       "height": 420,
       "width": 420
      }
     },
     "output_type": "display_data"
    }
   ],
   "source": [
    "df_usa <- df %>% filter(Country == \"united states\")\n",
    "\n",
    "ggplot(df_usa, aes(x = GDPGrowth)) +\n",
    "    geom_histogram(fill = \"blue\", color = \"black\", alpha = 0.7) +  # Automatic binwidth\n",
    "    labs(title = \"Histogram of GDP Growth for USA\",\n",
    "         x = \"GDP Growth\",\n",
    "         y = \"Frequency\") +\n",
    "    theme_minimal()"
   ]
  },
  {
   "cell_type": "code",
   "execution_count": 76,
   "id": "2c9d495e-bcf3-4c3b-a475-9ad536bdfbed",
   "metadata": {},
   "outputs": [
    {
     "data": {
      "image/png": "[encoded data removed]",
      "text/plain": [
       "plot without title"
      ]
     },
     "metadata": {
      "image/png": {
       "height": 420,
       "width": 420
      }
     },
     "output_type": "display_data"
    }
   ],
   "source": [
    "usa_GDPGrowth= df[df$Country == \"united states\", ]\n",
    "\n",
    "ggplot(data = usa_GDPGrowth, aes(x = Year, y = GDPGrowth)) +\n",
    "  geom_line(color = \"blue\") + \n",
    "  geom_point(color = \"blue\") +  \n",
    "  labs(x = 'Year', y = 'GDPGrowth', title = 'GDPGrowth de USA') +\n",
    "  theme_minimal()"
   ]
  },
  {
   "cell_type": "markdown",
   "id": "963ced8c-9075-40cf-947f-5f3b5af4cf90",
   "metadata": {},
   "source": [
    "## Empiezo a agrupar para saber relaciones con el GDP"
   ]
  },
  {
   "cell_type": "code",
   "execution_count": 79,
   "id": "e0fce8ac-b47f-41fd-9d33-273e57096222",
   "metadata": {},
   "outputs": [
    {
     "data": {
      "text/html": [
       "<table class=\"dataframe\">\n",
       "<caption>A tibble: 5 × 2</caption>\n",
       "<thead>\n",
       "\t<tr><th scope=col>Region</th><th scope=col>mean_GDP</th></tr>\n",
       "\t<tr><th scope=col>&lt;chr&gt;</th><th scope=col>&lt;dbl&gt;</th></tr>\n",
       "</thead>\n",
       "<tbody>\n",
       "\t<tr><td>Africa  </td><td> 21801112320</td></tr>\n",
       "\t<tr><td>Americas</td><td>338873599577</td></tr>\n",
       "\t<tr><td>Asia    </td><td>281235279391</td></tr>\n",
       "\t<tr><td>Europe  </td><td>340805143061</td></tr>\n",
       "\t<tr><td>Oceania </td><td> 52391999718</td></tr>\n",
       "</tbody>\n",
       "</table>\n"
      ],
      "text/latex": [
       "A tibble: 5 × 2\n",
       "\\begin{tabular}{ll}\n",
       " Region & mean\\_GDP\\\\\n",
       " <chr> & <dbl>\\\\\n",
       "\\hline\n",
       "\t Africa   &  21801112320\\\\\n",
       "\t Americas & 338873599577\\\\\n",
       "\t Asia     & 281235279391\\\\\n",
       "\t Europe   & 340805143061\\\\\n",
       "\t Oceania  &  52391999718\\\\\n",
       "\\end{tabular}\n"
      ],
      "text/markdown": [
       "\n",
       "A tibble: 5 × 2\n",
       "\n",
       "| Region &lt;chr&gt; | mean_GDP &lt;dbl&gt; |\n",
       "|---|---|\n",
       "| Africa   |  21801112320 |\n",
       "| Americas | 338873599577 |\n",
       "| Asia     | 281235279391 |\n",
       "| Europe   | 340805143061 |\n",
       "| Oceania  |  52391999718 |\n",
       "\n"
      ],
      "text/plain": [
       "  Region   mean_GDP    \n",
       "1 Africa    21801112320\n",
       "2 Americas 338873599577\n",
       "3 Asia     281235279391\n",
       "4 Europe   340805143061\n",
       "5 Oceania   52391999718"
      ]
     },
     "metadata": {},
     "output_type": "display_data"
    }
   ],
   "source": [
    "df_group_region_GDP <- df %>% group_by(Region) %>% \n",
    "    summarise(mean_GDP = mean(GDP, na.rm = TRUE))\n",
    "\n",
    "df_group_region_GDP"
   ]
  },
  {
   "cell_type": "code",
   "execution_count": 135,
   "id": "6f1373bc-7a2e-44f5-b3c1-3d9d525833c7",
   "metadata": {},
   "outputs": [
    {
     "data": {
      "image/png": "[encoded data removed]",
      "text/plain": [
       "plot without title"
      ]
     },
     "metadata": {
      "image/png": {
       "height": 420,
       "width": 420
      }
     },
     "output_type": "display_data"
    }
   ],
   "source": [
    "ggplot(df_group_region_GDP, aes(x = reorder(Region, mean_GDP), y = mean_GDP / 1e6)) +  # Divide by 1 million\n",
    "  geom_bar(stat = \"identity\", fill = \"steelblue\") +\n",
    "  scale_y_continuous(labels = function(x) paste0(comma(x), \" M\")) +  # Format labels as millions with \"M\"\n",
    "  labs(title = \"Mean GDP by Region\",\n",
    "       x = \"Region\",\n",
    "       y = \"Mean GDP (in Millions)\") +\n",
    "  theme_minimal()"
   ]
  },
  {
   "cell_type": "code",
   "execution_count": 82,
   "id": "960de578-4183-4955-80e7-870aa02f69b9",
   "metadata": {},
   "outputs": [
    {
     "data": {
      "text/html": [
       "<table class=\"dataframe\">\n",
       "<caption>A tibble: 5 × 2</caption>\n",
       "<thead>\n",
       "\t<tr><th scope=col>Region</th><th scope=col>mean_GNI</th></tr>\n",
       "\t<tr><th scope=col>&lt;chr&gt;</th><th scope=col>&lt;dbl&gt;</th></tr>\n",
       "</thead>\n",
       "<tbody>\n",
       "\t<tr><td>Africa  </td><td> 1460.107</td></tr>\n",
       "\t<tr><td>Americas</td><td> 8041.339</td></tr>\n",
       "\t<tr><td>Asia    </td><td> 8345.082</td></tr>\n",
       "\t<tr><td>Europe  </td><td>21811.064</td></tr>\n",
       "\t<tr><td>Oceania </td><td> 7596.422</td></tr>\n",
       "</tbody>\n",
       "</table>\n"
      ],
      "text/latex": [
       "A tibble: 5 × 2\n",
       "\\begin{tabular}{ll}\n",
       " Region & mean\\_GNI\\\\\n",
       " <chr> & <dbl>\\\\\n",
       "\\hline\n",
       "\t Africa   &  1460.107\\\\\n",
       "\t Americas &  8041.339\\\\\n",
       "\t Asia     &  8345.082\\\\\n",
       "\t Europe   & 21811.064\\\\\n",
       "\t Oceania  &  7596.422\\\\\n",
       "\\end{tabular}\n"
      ],
      "text/markdown": [
       "\n",
       "A tibble: 5 × 2\n",
       "\n",
       "| Region &lt;chr&gt; | mean_GNI &lt;dbl&gt; |\n",
       "|---|---|\n",
       "| Africa   |  1460.107 |\n",
       "| Americas |  8041.339 |\n",
       "| Asia     |  8345.082 |\n",
       "| Europe   | 21811.064 |\n",
       "| Oceania  |  7596.422 |\n",
       "\n"
      ],
      "text/plain": [
       "  Region   mean_GNI \n",
       "1 Africa    1460.107\n",
       "2 Americas  8041.339\n",
       "3 Asia      8345.082\n",
       "4 Europe   21811.064\n",
       "5 Oceania   7596.422"
      ]
     },
     "metadata": {},
     "output_type": "display_data"
    }
   ],
   "source": [
    "df_group_region_GNI <- df %>% group_by(Region) %>% \n",
    "    summarise(mean_GNI = mean(GNICapAtlas, na.rm = TRUE))\n",
    "\n",
    "df_group_region_GNI"
   ]
  },
  {
   "cell_type": "code",
   "execution_count": 84,
   "id": "e3e4897c-6135-4c9d-9ec9-3c0ad77f4364",
   "metadata": {},
   "outputs": [
    {
     "data": {
      "image/png": "[encoded data removed]",
      "text/plain": [
       "plot without title"
      ]
     },
     "metadata": {
      "image/png": {
       "height": 420,
       "width": 420
      }
     },
     "output_type": "display_data"
    }
   ],
   "source": [
    "ggplot(df_group_region_GNI, aes(x = reorder(Region, mean_GNI), y = mean_GNI)) +\n",
    "  geom_bar(stat = \"identity\", fill = \"steelblue\") +\n",
    "  labs(title = \"Mean GNI by Region\",\n",
    "       x = \"Region\",\n",
    "       y = \"Mean GDP\") +\n",
    "  theme_minimal()"
   ]
  },
  {
   "cell_type": "code",
   "execution_count": 86,
   "id": "6526b334-e947-4a95-af5c-e2b07f5ef33f",
   "metadata": {},
   "outputs": [
    {
     "data": {
      "text/html": [
       "<style>\n",
       ".list-inline {list-style: none; margin:0; padding: 0}\n",
       ".list-inline>li {display: inline-block}\n",
       ".list-inline>li:not(:last-child)::after {content: \"\\00b7\"; padding: 0 .5ex}\n",
       "</style>\n",
       "<ol class=list-inline><li>'bermuda'</li><li>'switzerland'</li><li>'luxembourg'</li><li>'norway'</li><li>'ireland'</li><li>'united states'</li><li>'faroe islands'</li><li>'denmark'</li><li>'cayman islands'</li><li>'iceland'</li><li>'singapore'</li><li>'qatar'</li><li>'sweden'</li><li>'australia'</li><li>'netherlands'</li><li>'hong kong sar, china'</li><li>'finland'</li><li>'austria'</li><li>'germany'</li><li>'belgium'</li><li>'israel'</li><li>'canada'</li><li>'new zealand'</li><li>'macao sar, china'</li><li>'united kingdom'</li><li>'france'</li><li>'united arab emirates'</li><li>'japan'</li><li>'italy'</li><li>'korea, rep.'</li><li>'kuwait'</li><li>'malta'</li><li>'brunei darussalam'</li><li>'spain'</li></ol>\n"
      ],
      "text/latex": [
       "\\begin{enumerate*}\n",
       "\\item 'bermuda'\n",
       "\\item 'switzerland'\n",
       "\\item 'luxembourg'\n",
       "\\item 'norway'\n",
       "\\item 'ireland'\n",
       "\\item 'united states'\n",
       "\\item 'faroe islands'\n",
       "\\item 'denmark'\n",
       "\\item 'cayman islands'\n",
       "\\item 'iceland'\n",
       "\\item 'singapore'\n",
       "\\item 'qatar'\n",
       "\\item 'sweden'\n",
       "\\item 'australia'\n",
       "\\item 'netherlands'\n",
       "\\item 'hong kong sar, china'\n",
       "\\item 'finland'\n",
       "\\item 'austria'\n",
       "\\item 'germany'\n",
       "\\item 'belgium'\n",
       "\\item 'israel'\n",
       "\\item 'canada'\n",
       "\\item 'new zealand'\n",
       "\\item 'macao sar, china'\n",
       "\\item 'united kingdom'\n",
       "\\item 'france'\n",
       "\\item 'united arab emirates'\n",
       "\\item 'japan'\n",
       "\\item 'italy'\n",
       "\\item 'korea, rep.'\n",
       "\\item 'kuwait'\n",
       "\\item 'malta'\n",
       "\\item 'brunei darussalam'\n",
       "\\item 'spain'\n",
       "\\end{enumerate*}\n"
      ],
      "text/markdown": [
       "1. 'bermuda'\n",
       "2. 'switzerland'\n",
       "3. 'luxembourg'\n",
       "4. 'norway'\n",
       "5. 'ireland'\n",
       "6. 'united states'\n",
       "7. 'faroe islands'\n",
       "8. 'denmark'\n",
       "9. 'cayman islands'\n",
       "10. 'iceland'\n",
       "11. 'singapore'\n",
       "12. 'qatar'\n",
       "13. 'sweden'\n",
       "14. 'australia'\n",
       "15. 'netherlands'\n",
       "16. 'hong kong sar, china'\n",
       "17. 'finland'\n",
       "18. 'austria'\n",
       "19. 'germany'\n",
       "20. 'belgium'\n",
       "21. 'israel'\n",
       "22. 'canada'\n",
       "23. 'new zealand'\n",
       "24. 'macao sar, china'\n",
       "25. 'united kingdom'\n",
       "26. 'france'\n",
       "27. 'united arab emirates'\n",
       "28. 'japan'\n",
       "29. 'italy'\n",
       "30. 'korea, rep.'\n",
       "31. 'kuwait'\n",
       "32. 'malta'\n",
       "33. 'brunei darussalam'\n",
       "34. 'spain'\n",
       "\n",
       "\n"
      ],
      "text/plain": [
       " [1] \"bermuda\"              \"switzerland\"          \"luxembourg\"          \n",
       " [4] \"norway\"               \"ireland\"              \"united states\"       \n",
       " [7] \"faroe islands\"        \"denmark\"              \"cayman islands\"      \n",
       "[10] \"iceland\"              \"singapore\"            \"qatar\"               \n",
       "[13] \"sweden\"               \"australia\"            \"netherlands\"         \n",
       "[16] \"hong kong sar, china\" \"finland\"              \"austria\"             \n",
       "[19] \"germany\"              \"belgium\"              \"israel\"              \n",
       "[22] \"canada\"               \"new zealand\"          \"macao sar, china\"    \n",
       "[25] \"united kingdom\"       \"france\"               \"united arab emirates\"\n",
       "[28] \"japan\"                \"italy\"                \"korea, rep.\"         \n",
       "[31] \"kuwait\"               \"malta\"                \"brunei darussalam\"   \n",
       "[34] \"spain\"               "
      ]
     },
     "metadata": {},
     "output_type": "display_data"
    }
   ],
   "source": [
    "# Filtering the dataframe for the year 2021\n",
    "df_2021 <- subset(df, Year == 2021)\n",
    "\n",
    "# Sorting the filtered dataframe by GNICapAtlas in descending order\n",
    "sorted_df_2021_GNICap <- df_2021[order(-df_2021$GNICapAtlas), ]\n",
    "\n",
    "# Selecting the top 30 countries\n",
    "top_paises_GNICap <- head(sorted_df_2021_GNICap$Country, 34)\n",
    "\n",
    "# Displaying the names of the top 30 countries\n",
    "top_paises_GNICap"
   ]
  },
  {
   "cell_type": "code",
   "execution_count": 88,
   "id": "a59dd772-1fa3-44cb-a05c-595c4b0b7a7a",
   "metadata": {},
   "outputs": [
    {
     "data": {
      "image/png": "[encoded data removed]",
      "text/plain": [
       "plot without title"
      ]
     },
     "metadata": {
      "image/png": {
       "height": 420,
       "width": 420
      }
     },
     "output_type": "display_data"
    }
   ],
   "source": [
    "countries_GDP <- df[df$Country %in% c('switzerland', 'luxembourg', 'norway', 'ireland', \n",
    "                                                   'united states', 'faroe islands', 'denmark', 'cayman islands', \n",
    "                                                   'iceland', 'singapore', 'qatar', 'sweden', 'australia', \n",
    "                                                   'netherlands', 'hong kong sar, china', 'finland', 'austria', \n",
    "                                                   'germany', 'belgium', 'israel', 'canada', 'new zealand', \n",
    "                                                   'macao sar, china', 'united kingdom', 'france', \n",
    "                                                   'united arab emirates', 'japan', 'italy', 'korea, rep.', \n",
    "                                                   'kuwait', 'malta', 'brunei darussalam', 'spain'), ]\n",
    "\n",
    "ggplot(data = countries_GDP, aes(x = Year, y = GNICapAtlas, color = Country)) +\n",
    "  geom_line() + \n",
    "  geom_point() +  \n",
    "  scale_y_continuous(labels = comma) +\n",
    "  labs(x = 'Year', y = 'GNICapAtlas', title = 'GNI of Different Countries') +\n",
    "  theme_minimal() + \n",
    "  theme(legend.position = \"none\")"
   ]
  },
  {
   "cell_type": "code",
   "execution_count": 89,
   "id": "fca32544-cb64-4bf1-a9ae-d84625cefe9a",
   "metadata": {},
   "outputs": [
    {
     "data": {
      "image/png": "[encoded data removed]",
      "text/plain": [
       "plot without title"
      ]
     },
     "metadata": {
      "image/png": {
       "height": 420,
       "width": 420
      }
     },
     "output_type": "display_data"
    }
   ],
   "source": [
    "df$Country <- trimws(df$Country)  # Remove leading/trailing spaces\n",
    "df$Country <- tolower(df$Country)  # Convert to lowercase\n",
    "# df_2021$Country <- trimws(df_2021$Country)  # Remove leading/trailing spaces\n",
    "# df_2021$Country <- tolower(df_2021$Country)  # Convert to lowercase for consistent matching\n",
    "\n",
    "top_paises_GNICap = df_2021[df_2021$Country %in% c('switzerland', 'luxembourg', 'norway', 'ireland', \n",
    "                                                        'united states', 'faroe islands', 'denmark', 'cayman islands', \n",
    "                                                        'iceland', 'singapore', 'qatar', 'sweden', 'australia', \n",
    "                                                        'netherlands', 'hong kong sar, china', 'finland', 'austria', \n",
    "                                                        'germany', 'belgium', 'israel', 'canada', 'new zealand', \n",
    "                                                        'macao sar, china', 'united kingdom', 'france', \n",
    "                                                        'united arab emirates', 'japan', 'italy', 'korea, rep.', \n",
    "                                                        'kuwait', 'malta', 'brunei darussalam', 'spain'), ]\n",
    "\n",
    "# Plotting the bar chart for GNICapAtlas\n",
    "ggplot(top_paises_GNICap, aes(x = reorder(Country, -GNICapAtlas), y = GNICapAtlas)) +\n",
    "  geom_bar(stat = \"identity\", fill = \"steelblue\") +\n",
    "  coord_flip() +  # Flips the chart for better readability\n",
    "  labs(title = \"GNICapAtlas for Top Countries in 2021\", x = \"Country\", y = \"GNICapAtlas\") +\n",
    "  theme_minimal()"
   ]
  },
  {
   "cell_type": "code",
   "execution_count": 91,
   "id": "d8620262-e74c-4113-895d-eced6f304b5b",
   "metadata": {},
   "outputs": [],
   "source": [
    "# Replace specific country name discrepancies\n",
    "df$Country <- gsub(\"korea, rep.\", \"korea, rep.\", df$Country)\n",
    "df$Country <- gsub(\"hong kong sar, china\", \"hong kong sar\", df$Country)\n",
    "df$Country <- gsub(\"macao sar, china\", \"macao sar\", df$Country)\n",
    "df$Country <- gsub(\"united states\", \"united states\", df$Country)\n",
    "df$Country <- gsub(\"united kingdom\", \"united kingdom\", df$Country)\n",
    "# Add other replacements based on the mismatches in your data\n",
    "\n",
    "# top_30_countries_all_years <- df[df$Country %in% c('switzerland', 'luxembourg', 'norway', 'ireland', \n",
    "#                                                    'united states', 'faroe islands', 'denmark', 'cayman islands', \n",
    "#                                                    'iceland', 'singapore', 'qatar', 'sweden', 'australia', \n",
    "#                                                    'netherlands', 'hong kong sar', 'finland', 'austria', \n",
    "#                                                    'germany', 'belgium', 'israel', 'canada', 'new zealand', \n",
    "#                                                    'macao sar', 'united kingdom', 'france', \n",
    "#                                                    'united arab emirates', 'japan', 'italy', 'korea, rep.', \n",
    "#                                                    'kuwait', 'malta', 'brunei darussalam', 'spain'), ]"
   ]
  },
  {
   "cell_type": "code",
   "execution_count": 93,
   "id": "7d8c6bd2-6128-4eba-b55c-ab9606981e51",
   "metadata": {},
   "outputs": [
    {
     "name": "stdout",
     "output_type": "stream",
     "text": [
      "      SurfAreaSqKm            PopDens          PopGrowth                GDP \n",
      "        0.09774781         0.05277084         0.18094622         0.19584989 \n",
      "         GDPGrowth       AdolFertRate      AgriValAddGDP         ExportsGDP \n",
      "       -0.23356281        -0.44687894        -0.56299684         0.31260594 \n",
      "          FertRate          FDINetBoP           GNIAtlas    GrossCapFormGDP \n",
      "       -0.10915758         0.19746179         0.19550245        -0.20641929 \n",
      "        ImportsGDP       IndValAddGDP       InflConsPric       LifeExpBirth \n",
      "        0.23870464        -0.34712777        -0.40860354         0.70635680 \n",
      "     MerchTradeGDP          MilExpGDP      MobileSubs100         MortRateU5 \n",
      "        0.13786013        -0.34191387         0.72786982        -0.59692185 \n",
      "           NetMigr           PopTotal RevenueExGrantsGDP      SchEnrollPrim \n",
      "        0.17766053         0.04597344        -0.07584525        -0.04806532 \n",
      "     TaxRevenueGDP     UrbanPopGrowth        GNICapAtlas \n",
      "       -0.11339087         0.02376464         1.00000000 \n"
     ]
    },
    {
     "data": {
      "image/png": "[encoded data removed]",
      "text/plain": [
       "Plot with title \"Correlation of Variables with GNICapAtlas (1973-2021)\""
      ]
     },
     "metadata": {
      "image/png": {
       "height": 420,
       "width": 420
      }
     },
     "output_type": "display_data"
    }
   ],
   "source": [
    "# Select relevant numeric columns for correlation analysis\n",
    "numeric_columns <- c(\"SurfAreaSqKm\", \"PopDens\", \"PopGrowth\", \"GDP\", \"GDPGrowth\", \"AdolFertRate\", \n",
    "                     \"AgriValAddGDP\", \"ExportsGDP\", \"FertRate\", \"FDINetBoP\", \n",
    "                     \"GNIAtlas\", \"GrossCapFormGDP\", \"ImportsGDP\", \"IndValAddGDP\", \"InflConsPric\", \n",
    "                     \"LifeExpBirth\", \"MerchTradeGDP\", \"MilExpGDP\", \"MobileSubs100\", \"MortRateU5\", \n",
    "                     \"NetMigr\", \"PopTotal\", \"RevenueExGrantsGDP\", \"SchEnrollPrim\", \"TaxRevenueGDP\", \n",
    "                     \"UrbanPopGrowth\", \"GNICapAtlas\")\n",
    "\n",
    "# Filtering the dataframe for the top 30 countries across all years\n",
    "# se ha excluido Bermuda porque era un valor muy extremo\n",
    "top_30_countries_all_years <- df[df$Country %in% c('switzerland', 'luxembourg', 'norway', 'ireland', \n",
    "                                                   'united states', 'faroe islands', 'denmark', 'cayman islands', \n",
    "                                                   'iceland', 'singapore', 'qatar', 'sweden', 'australia', \n",
    "                                                   'netherlands', 'hong kong sar, china', 'finland', 'austria', \n",
    "                                                   'germany', 'belgium', 'israel', 'canada', 'new zealand', \n",
    "                                                   'macao sar, china', 'united kingdom', 'france', \n",
    "                                                   'united arab emirates', 'japan', 'italy', 'korea, rep.', \n",
    "                                                   'kuwait', 'malta', 'brunei darussalam', 'spain'), ]\n",
    "\n",
    "# Select only the relevant numeric columns for analysis\n",
    "top_30_numeric_data <- top_30_countries_all_years[, numeric_columns]\n",
    "\n",
    "# Compute the correlation matrix\n",
    "correlation_matrix <- cor(top_30_numeric_data, use = \"complete.obs\")\n",
    "\n",
    "# Extract correlations of GNICapAtlas with the other variables\n",
    "gni_correlations <- correlation_matrix[\"GNICapAtlas\", ]\n",
    "\n",
    "# Displaying the correlation numbers\n",
    "print(gni_correlations)\n",
    "\n",
    "# Visualizing the correlations with a bar plot (excluding GNICapAtlas itself)\n",
    "gni_correlations <- gni_correlations[-which(names(gni_correlations) == \"GNICapAtlas\")]\n",
    "\n",
    "# Plotting the correlations\n",
    "barplot(sort(gni_correlations, decreasing = TRUE), \n",
    "        main = \"Correlation of Variables with GNICapAtlas (1973-2021)\", \n",
    "        col = \"steelblue\", \n",
    "        las = 2, \n",
    "        cex.names = 0.6,             # Adjust text size for better fit\n",
    "        # xlab = \"Variables\", \n",
    "        ylab = \"Correlation Coefficient\", \n",
    "        ylim = c(-1, 1))"
   ]
  },
  {
   "cell_type": "markdown",
   "id": "2a31e633-8e38-4f30-a54b-a62eb757b317",
   "metadata": {},
   "source": [
    "### Ahora que tengo las variables que podrían predecir el crecimiento de un país, ¿Cómo predigo tales resultados? ¿Con qué método?"
   ]
  },
  {
   "cell_type": "code",
   "execution_count": 97,
   "id": "44ab71d4-8269-4374-a6e3-655a5c1fd592",
   "metadata": {},
   "outputs": [
    {
     "data": {
      "image/png": "[encoded data removed]",
      "text/plain": [
       "plot without title"
      ]
     },
     "metadata": {
      "image/png": {
       "height": 420,
       "width": 420
      }
     },
     "output_type": "display_data"
    }
   ],
   "source": [
    "# Load necessary library\n",
    "library(ggplot2)\n",
    "\n",
    "# Filter the data for the year 2021\n",
    "gni_2021 <- subset(top_30_countries_all_years, Year == 2021)\n",
    "\n",
    "# Create a scatter plot for GNI values for the year 2021 for selected countries\n",
    "ggplot(gni_2021, aes(x = Country, y = GNICapAtlas)) +\n",
    "  geom_point(size = 3, color = \"blue\") +  # Add points with a fixed color\n",
    "  labs(title = \"GNI per Capita for Selected Countries in 2021\",\n",
    "       x = \"Country\",\n",
    "       y = \"GNI per Capita (in USD)\") +\n",
    "  theme_minimal() +  # Use a minimal theme\n",
    "  theme(axis.text.x = element_blank(),  # Remove country names on the x-axis\n",
    "        axis.ticks.x = element_blank(),  # Remove x-axis ticks\n",
    "        legend.position = \"none\") +  # Remove legend\n",
    "  coord_flip()  # Flip the coordinates for better readability"
   ]
  },
  {
   "cell_type": "code",
   "execution_count": 99,
   "id": "a055c930-3f7c-4585-bcab-5aa96472ccc6",
   "metadata": {},
   "outputs": [
    {
     "data": {
      "text/html": [
       "<style>\n",
       ".dl-inline {width: auto; margin:0; padding: 0}\n",
       ".dl-inline>dt, .dl-inline>dd {float: none; width: auto; display: inline-block}\n",
       ".dl-inline>dt::after {content: \":\\0020\"; padding-right: .5ex}\n",
       ".dl-inline>dt:not(:first-of-type) {padding-left: .5ex}\n",
       "</style><dl class=dl-inline><dt>SurfAreaSqKm</dt><dd>0.0144129169571328</dd><dt>PopDens</dt><dd>0.00778106163890669</dd><dt>PopGrowth</dt><dd>0.0266805245311079</dd><dt>GDP</dt><dd>0.0288780710343647</dd><dt>GDPGrowth</dt><dd>0.0344388420037705</dd><dt>AdolFertRate</dt><dd>0.0658923105500933</dd><dt>AgriValAddGDP</dt><dd>0.0830138977236233</dd><dt>ExportsGDP</dt><dd>0.0460937534408846</dd><dt>FertRate</dt><dd>0.0160952878205821</dd><dt>FDINetBoP</dt><dd>0.0291157457284904</dd><dt>GNIAtlas</dt><dd>0.0288268409979313</dd><dt>GrossCapFormGDP</dt><dd>0.0304365293209158</dd><dt>ImportsGDP</dt><dd>0.0351970049620782</dd><dt>IndValAddGDP</dt><dd>0.051183998112333</dd><dt>InflConsPric</dt><dd>0.0602486018910345</dd><dt>LifeExpBirth</dt><dd>0.1041523273054</dd><dt>MerchTradeGDP</dt><dd>0.0203274795147792</dd><dt>MilExpGDP</dt><dd>0.050415208430776</dd><dt>MobileSubs100</dt><dd>0.107324422626585</dd><dt>MortRateU5</dt><dd>0.0880161412715851</dd><dt>NetMigr</dt><dd>0.0261960494608544</dd><dt>PopTotal</dt><dd>0.00677878484391339</dd><dt>RevenueExGrantsGDP</dt><dd>0.0111833839534919</dd><dt>SchEnrollPrim</dt><dd>0.0070872326006896</dd><dt>TaxRevenueGDP</dt><dd>0.0167194865338368</dd><dt>UrbanPopGrowth</dt><dd>0.00350409674483915</dd></dl>\n"
      ],
      "text/latex": [
       "\\begin{description*}\n",
       "\\item[SurfAreaSqKm] 0.0144129169571328\n",
       "\\item[PopDens] 0.00778106163890669\n",
       "\\item[PopGrowth] 0.0266805245311079\n",
       "\\item[GDP] 0.0288780710343647\n",
       "\\item[GDPGrowth] 0.0344388420037705\n",
       "\\item[AdolFertRate] 0.0658923105500933\n",
       "\\item[AgriValAddGDP] 0.0830138977236233\n",
       "\\item[ExportsGDP] 0.0460937534408846\n",
       "\\item[FertRate] 0.0160952878205821\n",
       "\\item[FDINetBoP] 0.0291157457284904\n",
       "\\item[GNIAtlas] 0.0288268409979313\n",
       "\\item[GrossCapFormGDP] 0.0304365293209158\n",
       "\\item[ImportsGDP] 0.0351970049620782\n",
       "\\item[IndValAddGDP] 0.051183998112333\n",
       "\\item[InflConsPric] 0.0602486018910345\n",
       "\\item[LifeExpBirth] 0.1041523273054\n",
       "\\item[MerchTradeGDP] 0.0203274795147792\n",
       "\\item[MilExpGDP] 0.050415208430776\n",
       "\\item[MobileSubs100] 0.107324422626585\n",
       "\\item[MortRateU5] 0.0880161412715851\n",
       "\\item[NetMigr] 0.0261960494608544\n",
       "\\item[PopTotal] 0.00677878484391339\n",
       "\\item[RevenueExGrantsGDP] 0.0111833839534919\n",
       "\\item[SchEnrollPrim] 0.0070872326006896\n",
       "\\item[TaxRevenueGDP] 0.0167194865338368\n",
       "\\item[UrbanPopGrowth] 0.00350409674483915\n",
       "\\end{description*}\n"
      ],
      "text/markdown": [
       "SurfAreaSqKm\n",
       ":   0.0144129169571328PopDens\n",
       ":   0.00778106163890669PopGrowth\n",
       ":   0.0266805245311079GDP\n",
       ":   0.0288780710343647GDPGrowth\n",
       ":   0.0344388420037705AdolFertRate\n",
       ":   0.0658923105500933AgriValAddGDP\n",
       ":   0.0830138977236233ExportsGDP\n",
       ":   0.0460937534408846FertRate\n",
       ":   0.0160952878205821FDINetBoP\n",
       ":   0.0291157457284904GNIAtlas\n",
       ":   0.0288268409979313GrossCapFormGDP\n",
       ":   0.0304365293209158ImportsGDP\n",
       ":   0.0351970049620782IndValAddGDP\n",
       ":   0.051183998112333InflConsPric\n",
       ":   0.0602486018910345LifeExpBirth\n",
       ":   0.1041523273054MerchTradeGDP\n",
       ":   0.0203274795147792MilExpGDP\n",
       ":   0.050415208430776MobileSubs100\n",
       ":   0.107324422626585MortRateU5\n",
       ":   0.0880161412715851NetMigr\n",
       ":   0.0261960494608544PopTotal\n",
       ":   0.00677878484391339RevenueExGrantsGDP\n",
       ":   0.0111833839534919SchEnrollPrim\n",
       ":   0.0070872326006896TaxRevenueGDP\n",
       ":   0.0167194865338368UrbanPopGrowth\n",
       ":   0.00350409674483915\n",
       "\n"
      ],
      "text/plain": [
       "      SurfAreaSqKm            PopDens          PopGrowth                GDP \n",
       "       0.014412917        0.007781062        0.026680525        0.028878071 \n",
       "         GDPGrowth       AdolFertRate      AgriValAddGDP         ExportsGDP \n",
       "       0.034438842        0.065892311        0.083013898        0.046093753 \n",
       "          FertRate          FDINetBoP           GNIAtlas    GrossCapFormGDP \n",
       "       0.016095288        0.029115746        0.028826841        0.030436529 \n",
       "        ImportsGDP       IndValAddGDP       InflConsPric       LifeExpBirth \n",
       "       0.035197005        0.051183998        0.060248602        0.104152327 \n",
       "     MerchTradeGDP          MilExpGDP      MobileSubs100         MortRateU5 \n",
       "       0.020327480        0.050415208        0.107324423        0.088016141 \n",
       "           NetMigr           PopTotal RevenueExGrantsGDP      SchEnrollPrim \n",
       "       0.026196049        0.006778785        0.011183384        0.007087233 \n",
       "     TaxRevenueGDP     UrbanPopGrowth \n",
       "       0.016719487        0.003504097 "
      ]
     },
     "metadata": {},
     "output_type": "display_data"
    }
   ],
   "source": [
    "# Create a named vector of correlations (as per your data)\n",
    "correlation_values <- c(\n",
    "  SurfAreaSqKm = 0.09774781, PopDens = 0.05277084, PopGrowth = 0.18094622, GDP = 0.19584989,\n",
    "  GDPGrowth = -0.23356281, AdolFertRate = -0.44687894, AgriValAddGDP = -0.56299684, ExportsGDP = 0.31260594,\n",
    "  FertRate = -0.10915758, FDINetBoP = 0.19746179, GNIAtlas = 0.19550245, GrossCapFormGDP = -0.20641929,\n",
    "  ImportsGDP = 0.23870464, IndValAddGDP = -0.34712777, InflConsPric = -0.40860354, LifeExpBirth = 0.70635680,\n",
    "  MerchTradeGDP = 0.13786013, MilExpGDP = -0.34191387, MobileSubs100 = 0.72786982, MortRateU5 = -0.59692185,\n",
    "  NetMigr = 0.17766053, PopTotal = 0.04597344, RevenueExGrantsGDP = -0.07584525, SchEnrollPrim = -0.04806532,\n",
    "  TaxRevenueGDP = -0.11339087, UrbanPopGrowth = 0.02376464\n",
    ")\n",
    "\n",
    "# Use the absolute value of correlations and normalize\n",
    "weights <- abs(correlation_values) / sum(abs(correlation_values))\n",
    "\n",
    "# Display the normalized weights\n",
    "weights"
   ]
  },
  {
   "cell_type": "code",
   "execution_count": 103,
   "id": "24e25baf-31f5-44d2-b391-d5ac3901d8f3",
   "metadata": {},
   "outputs": [
    {
     "data": {
      "text/plain": [
       "\n",
       "Call:\n",
       "lm(formula = GNICapAtlas ~ SurfAreaSqKm_weighted + PopDens_weighted + \n",
       "    PopGrowth_weighted + GDP_weighted + GDPGrowth_weighted + \n",
       "    AdolFertRate_weighted + AgriValAddGDP_weighted + ExportsGDP_weighted + \n",
       "    FertRate_weighted + FDINetBoP_weighted + GNIAtlas_weighted + \n",
       "    GrossCapFormGDP_weighted + ImportsGDP_weighted + IndValAddGDP_weighted + \n",
       "    InflConsPric_weighted + LifeExpBirth_weighted + MerchTradeGDP_weighted + \n",
       "    MilExpGDP_weighted + MobileSubs100_weighted + MortRateU5_weighted + \n",
       "    NetMigr_weighted + PopTotal_weighted + RevenueExGrantsGDP_weighted + \n",
       "    SchEnrollPrim_weighted + TaxRevenueGDP_weighted + UrbanPopGrowth_weighted, \n",
       "    data = gni_weighted_data)\n",
       "\n",
       "Residuals:\n",
       "   Min     1Q Median     3Q    Max \n",
       "-28005  -5360   -470   4308  39001 \n",
       "\n",
       "Coefficients:\n",
       "                              Estimate Std. Error t value Pr(>|t|)    \n",
       "(Intercept)                 -1.347e+05  2.847e+04  -4.730 2.72e-06 ***\n",
       "SurfAreaSqKm_weighted        9.663e-03  1.407e-02   0.687 0.492310    \n",
       "PopDens_weighted             1.565e+02  7.188e+01   2.178 0.029757 *  \n",
       "PopGrowth_weighted          -1.743e+05  5.153e+04  -3.381 0.000762 ***\n",
       "GDP_weighted                -4.425e-07  1.771e-07  -2.498 0.012709 *  \n",
       "GDPGrowth_weighted          -1.386e+04  3.784e+03  -3.662 0.000269 ***\n",
       "AdolFertRate_weighted       -6.505e+03  9.567e+02  -6.800 2.26e-11 ***\n",
       "AgriValAddGDP_weighted      -3.788e+04  4.050e+03  -9.352  < 2e-16 ***\n",
       "ExportsGDP_weighted          2.710e+04  1.606e+03  16.877  < 2e-16 ***\n",
       "FertRate_weighted            8.647e+05  1.009e+05   8.573  < 2e-16 ***\n",
       "FDINetBoP_weighted          -1.965e-08  2.128e-07  -0.092 0.926427    \n",
       "GNIAtlas_weighted            6.259e-07  1.743e-07   3.591 0.000353 ***\n",
       "GrossCapFormGDP_weighted     3.720e+04  3.830e+03   9.714  < 2e-16 ***\n",
       "ImportsGDP_weighted         -4.089e+04  2.460e+03 -16.621  < 2e-16 ***\n",
       "IndValAddGDP_weighted       -6.935e+03  1.491e+03  -4.653 3.92e-06 ***\n",
       "InflConsPric_weighted        3.636e+03  2.403e+03   1.513 0.130703    \n",
       "LifeExpBirth_weighted        1.616e+04  3.361e+03   4.809 1.86e-06 ***\n",
       "MerchTradeGDP_weighted      -2.778e+03  7.962e+02  -3.489 0.000516 ***\n",
       "MilExpGDP_weighted          -1.112e+05  9.686e+03 -11.482  < 2e-16 ***\n",
       "MobileSubs100_weighted       9.585e+02  1.387e+02   6.911 1.09e-11 ***\n",
       "MortRateU5_weighted          1.891e+04  2.478e+03   7.631 7.67e-14 ***\n",
       "NetMigr_weighted             9.651e-01  1.407e-01   6.862 1.51e-11 ***\n",
       "PopTotal_weighted           -4.643e-02  4.709e-03  -9.860  < 2e-16 ***\n",
       "RevenueExGrantsGDP_weighted  1.560e+04  6.344e+03   2.459 0.014182 *  \n",
       "SchEnrollPrim_weighted       1.132e+04  1.354e+04   0.836 0.403300    \n",
       "TaxRevenueGDP_weighted      -1.315e+04  6.314e+03  -2.082 0.037700 *  \n",
       "UrbanPopGrowth_weighted      1.066e+06  3.255e+05   3.274 0.001114 ** \n",
       "---\n",
       "Signif. codes:  0 '***' 0.001 '**' 0.01 '*' 0.05 '.' 0.1 ' ' 1\n",
       "\n",
       "Residual standard error: 8700 on 695 degrees of freedom\n",
       "  (708 observations deleted due to missingness)\n",
       "Multiple R-squared:  0.8201,\tAdjusted R-squared:  0.8133 \n",
       "F-statistic: 121.8 on 26 and 695 DF,  p-value: < 2.2e-16\n"
      ]
     },
     "metadata": {},
     "output_type": "display_data"
    }
   ],
   "source": [
    "gni_filtered <- top_30_countries_all_years[, c(\"GNICapAtlas\", numeric_columns)]\n",
    "\n",
    "# Multiply each variable by its weight\n",
    "gni_weighted_data <- gni_filtered %>%\n",
    "  mutate(\n",
    "    SurfAreaSqKm_weighted = SurfAreaSqKm * weights[\"SurfAreaSqKm\"],\n",
    "    PopDens_weighted = PopDens * weights[\"PopDens\"],\n",
    "    PopGrowth_weighted = PopGrowth * weights[\"PopGrowth\"],\n",
    "    GDP_weighted = GDP * weights[\"GDP\"],\n",
    "    GDPGrowth_weighted = GDPGrowth * weights[\"GDPGrowth\"],\n",
    "    AdolFertRate_weighted = AdolFertRate * weights[\"AdolFertRate\"],\n",
    "    AgriValAddGDP_weighted = AgriValAddGDP * weights[\"AgriValAddGDP\"],\n",
    "    ExportsGDP_weighted = ExportsGDP * weights[\"ExportsGDP\"],\n",
    "    FertRate_weighted = FertRate * weights[\"FertRate\"],\n",
    "    FDINetBoP_weighted = FDINetBoP * weights[\"FDINetBoP\"],\n",
    "    GNIAtlas_weighted = GNIAtlas * weights[\"GNIAtlas\"],\n",
    "    GrossCapFormGDP_weighted = GrossCapFormGDP * weights[\"GrossCapFormGDP\"],\n",
    "    ImportsGDP_weighted = ImportsGDP * weights[\"ImportsGDP\"],\n",
    "    IndValAddGDP_weighted = IndValAddGDP * weights[\"IndValAddGDP\"],\n",
    "    InflConsPric_weighted = InflConsPric * weights[\"InflConsPric\"],\n",
    "    LifeExpBirth_weighted = LifeExpBirth * weights[\"LifeExpBirth\"],\n",
    "    MerchTradeGDP_weighted = MerchTradeGDP * weights[\"MerchTradeGDP\"],\n",
    "    MilExpGDP_weighted = MilExpGDP * weights[\"MilExpGDP\"],\n",
    "    MobileSubs100_weighted = MobileSubs100 * weights[\"MobileSubs100\"],\n",
    "    MortRateU5_weighted = MortRateU5 * weights[\"MortRateU5\"],\n",
    "    NetMigr_weighted = NetMigr * weights[\"NetMigr\"],\n",
    "    PopTotal_weighted = PopTotal * weights[\"PopTotal\"],\n",
    "    RevenueExGrantsGDP_weighted = RevenueExGrantsGDP * weights[\"RevenueExGrantsGDP\"],\n",
    "    SchEnrollPrim_weighted = SchEnrollPrim * weights[\"SchEnrollPrim\"],\n",
    "    TaxRevenueGDP_weighted = TaxRevenueGDP * weights[\"TaxRevenueGDP\"],\n",
    "    UrbanPopGrowth_weighted = UrbanPopGrowth * weights[\"UrbanPopGrowth\"]\n",
    "  )\n",
    "\n",
    "# Fit the weighted regression model\n",
    "weighted_lm <- lm(\n",
    "  GNICapAtlas ~ SurfAreaSqKm_weighted + PopDens_weighted + PopGrowth_weighted + GDP_weighted +\n",
    "  GDPGrowth_weighted + AdolFertRate_weighted + AgriValAddGDP_weighted + ExportsGDP_weighted +\n",
    "  FertRate_weighted + FDINetBoP_weighted + GNIAtlas_weighted + GrossCapFormGDP_weighted +\n",
    "  ImportsGDP_weighted + IndValAddGDP_weighted + InflConsPric_weighted + LifeExpBirth_weighted +\n",
    "  MerchTradeGDP_weighted + MilExpGDP_weighted + MobileSubs100_weighted + MortRateU5_weighted +\n",
    "  NetMigr_weighted + PopTotal_weighted + RevenueExGrantsGDP_weighted + SchEnrollPrim_weighted +\n",
    "  TaxRevenueGDP_weighted + UrbanPopGrowth_weighted,\n",
    "  data = gni_weighted_data\n",
    ")\n",
    "\n",
    "# Summary of the weighted linear model\n",
    "summary(weighted_lm)"
   ]
  },
  {
   "cell_type": "code",
   "execution_count": 105,
   "id": "628c056f-52a6-4a27-a1af-36c817bfa0a7",
   "metadata": {},
   "outputs": [
    {
     "data": {
      "image/png": "[encoded data removed]",
      "text/plain": [
       "plot without title"
      ]
     },
     "metadata": {
      "image/png": {
       "height": 420,
       "width": 420
      }
     },
     "output_type": "display_data"
    }
   ],
   "source": [
    "# Load necessary library\n",
    "library(ggplot2)\n",
    "library(dplyr)\n",
    "\n",
    "# Extract coefficients from the model\n",
    "coefficients <- summary(weighted_lm)$coefficients[, 1]  # Get only the estimates\n",
    "coefficients <- coefficients[-1]  # Remove intercept\n",
    "\n",
    "# Create a data frame for plotting\n",
    "coef_data <- data.frame(\n",
    "  Predictor = names(coefficients),\n",
    "  Coefficient = coefficients\n",
    ")\n",
    "\n",
    "# Create the bar plot\n",
    "ggplot(coef_data, aes(x = reorder(Predictor, Coefficient), y = Coefficient)) +\n",
    "  geom_bar(stat = \"identity\", fill = ifelse(coef_data$Coefficient > 0, \"steelblue\", \"tomato\")) +\n",
    "  coord_flip() +  # Flip coordinates for better visibility\n",
    "  labs(title = \"Weighted Linear Model Coefficients\",\n",
    "       x = \"Predictors\",\n",
    "       y = \"Coefficient Value\") +\n",
    "  theme_minimal()"
   ]
  },
  {
   "cell_type": "code",
   "execution_count": 107,
   "id": "42e9dfe2-2277-447b-897c-113239fbcf92",
   "metadata": {},
   "outputs": [],
   "source": [
    "gni_weighted_data <- na.omit(gni_weighted_data)"
   ]
  },
  {
   "cell_type": "code",
   "execution_count": 109,
   "id": "6860402b-55ba-4e3f-8e8b-b03a4e0edcd2",
   "metadata": {},
   "outputs": [],
   "source": [
    "weighted_lm <- lm(\n",
    "  GNICapAtlas ~ SurfAreaSqKm_weighted + PopDens_weighted + PopGrowth_weighted + GDP_weighted +\n",
    "  GDPGrowth_weighted + AdolFertRate_weighted + AgriValAddGDP_weighted + ExportsGDP_weighted +\n",
    "  FertRate_weighted + FDINetBoP_weighted + GNIAtlas_weighted + GrossCapFormGDP_weighted +\n",
    "  ImportsGDP_weighted + IndValAddGDP_weighted + InflConsPric_weighted + LifeExpBirth_weighted +\n",
    "  MerchTradeGDP_weighted + MilExpGDP_weighted + MobileSubs100_weighted + MortRateU5_weighted +\n",
    "  NetMigr_weighted + PopTotal_weighted + RevenueExGrantsGDP_weighted + SchEnrollPrim_weighted +\n",
    "  TaxRevenueGDP_weighted + UrbanPopGrowth_weighted,\n",
    "  data = gni_weighted_data\n",
    ")"
   ]
  },
  {
   "cell_type": "code",
   "execution_count": 111,
   "id": "517ec879-b650-4a5a-8a50-013f5feb8acf",
   "metadata": {},
   "outputs": [],
   "source": [
    "gni_weighted_data$Predicted_GNICapAtlas <- predict(weighted_lm, newdata = gni_weighted_data)"
   ]
  },
  {
   "cell_type": "code",
   "execution_count": 113,
   "id": "ffba44ef-1574-4f33-9896-0e5f21f352f3",
   "metadata": {},
   "outputs": [
    {
     "data": {
      "text/html": [
       "<style>\n",
       ".list-inline {list-style: none; margin:0; padding: 0}\n",
       ".list-inline>li {display: inline-block}\n",
       ".list-inline>li:not(:last-child)::after {content: \"\\00b7\"; padding: 0 .5ex}\n",
       "</style>\n",
       "<ol class=list-inline><li>722</li><li>55</li></ol>\n"
      ],
      "text/latex": [
       "\\begin{enumerate*}\n",
       "\\item 722\n",
       "\\item 55\n",
       "\\end{enumerate*}\n"
      ],
      "text/markdown": [
       "1. 722\n",
       "2. 55\n",
       "\n",
       "\n"
      ],
      "text/plain": [
       "[1] 722  55"
      ]
     },
     "metadata": {},
     "output_type": "display_data"
    }
   ],
   "source": [
    "dim(gni_weighted_data)  # Should match the number of rows in the original dataset minus NAs"
   ]
  },
  {
   "cell_type": "code",
   "execution_count": 115,
   "id": "e9d98058-08ca-44b9-bf9f-840fa941b32c",
   "metadata": {},
   "outputs": [
    {
     "data": {
      "text/plain": [
       "\n",
       "Call:\n",
       "lm(formula = GNICapAtlas ~ SurfAreaSqKm_weighted + PopDens_weighted + \n",
       "    PopGrowth_weighted + GDP_weighted + GDPGrowth_weighted + \n",
       "    AdolFertRate_weighted + AgriValAddGDP_weighted + ExportsGDP_weighted + \n",
       "    FertRate_weighted + FDINetBoP_weighted + GNIAtlas_weighted + \n",
       "    GrossCapFormGDP_weighted + ImportsGDP_weighted + IndValAddGDP_weighted + \n",
       "    InflConsPric_weighted + LifeExpBirth_weighted + MerchTradeGDP_weighted + \n",
       "    MilExpGDP_weighted + MobileSubs100_weighted + MortRateU5_weighted + \n",
       "    NetMigr_weighted + PopTotal_weighted + RevenueExGrantsGDP_weighted + \n",
       "    SchEnrollPrim_weighted + TaxRevenueGDP_weighted + UrbanPopGrowth_weighted, \n",
       "    data = gni_weighted_data)\n",
       "\n",
       "Residuals:\n",
       "   Min     1Q Median     3Q    Max \n",
       "-28005  -5360   -470   4308  39001 \n",
       "\n",
       "Coefficients:\n",
       "                              Estimate Std. Error t value Pr(>|t|)    \n",
       "(Intercept)                 -1.347e+05  2.847e+04  -4.730 2.72e-06 ***\n",
       "SurfAreaSqKm_weighted        9.663e-03  1.407e-02   0.687 0.492310    \n",
       "PopDens_weighted             1.565e+02  7.188e+01   2.178 0.029757 *  \n",
       "PopGrowth_weighted          -1.743e+05  5.153e+04  -3.381 0.000762 ***\n",
       "GDP_weighted                -4.425e-07  1.771e-07  -2.498 0.012709 *  \n",
       "GDPGrowth_weighted          -1.386e+04  3.784e+03  -3.662 0.000269 ***\n",
       "AdolFertRate_weighted       -6.505e+03  9.567e+02  -6.800 2.26e-11 ***\n",
       "AgriValAddGDP_weighted      -3.788e+04  4.050e+03  -9.352  < 2e-16 ***\n",
       "ExportsGDP_weighted          2.710e+04  1.606e+03  16.877  < 2e-16 ***\n",
       "FertRate_weighted            8.647e+05  1.009e+05   8.573  < 2e-16 ***\n",
       "FDINetBoP_weighted          -1.965e-08  2.128e-07  -0.092 0.926427    \n",
       "GNIAtlas_weighted            6.259e-07  1.743e-07   3.591 0.000353 ***\n",
       "GrossCapFormGDP_weighted     3.720e+04  3.830e+03   9.714  < 2e-16 ***\n",
       "ImportsGDP_weighted         -4.089e+04  2.460e+03 -16.621  < 2e-16 ***\n",
       "IndValAddGDP_weighted       -6.935e+03  1.491e+03  -4.653 3.92e-06 ***\n",
       "InflConsPric_weighted        3.636e+03  2.403e+03   1.513 0.130703    \n",
       "LifeExpBirth_weighted        1.616e+04  3.361e+03   4.809 1.86e-06 ***\n",
       "MerchTradeGDP_weighted      -2.778e+03  7.962e+02  -3.489 0.000516 ***\n",
       "MilExpGDP_weighted          -1.112e+05  9.686e+03 -11.482  < 2e-16 ***\n",
       "MobileSubs100_weighted       9.585e+02  1.387e+02   6.911 1.09e-11 ***\n",
       "MortRateU5_weighted          1.891e+04  2.478e+03   7.631 7.67e-14 ***\n",
       "NetMigr_weighted             9.651e-01  1.407e-01   6.862 1.51e-11 ***\n",
       "PopTotal_weighted           -4.643e-02  4.709e-03  -9.860  < 2e-16 ***\n",
       "RevenueExGrantsGDP_weighted  1.560e+04  6.344e+03   2.459 0.014182 *  \n",
       "SchEnrollPrim_weighted       1.132e+04  1.354e+04   0.836 0.403300    \n",
       "TaxRevenueGDP_weighted      -1.315e+04  6.314e+03  -2.082 0.037700 *  \n",
       "UrbanPopGrowth_weighted      1.066e+06  3.255e+05   3.274 0.001114 ** \n",
       "---\n",
       "Signif. codes:  0 '***' 0.001 '**' 0.01 '*' 0.05 '.' 0.1 ' ' 1\n",
       "\n",
       "Residual standard error: 8700 on 695 degrees of freedom\n",
       "Multiple R-squared:  0.8201,\tAdjusted R-squared:  0.8133 \n",
       "F-statistic: 121.8 on 26 and 695 DF,  p-value: < 2.2e-16\n"
      ]
     },
     "metadata": {},
     "output_type": "display_data"
    },
    {
     "name": "stderr",
     "output_type": "stream",
     "text": [
      "\u001b[1m\u001b[22m`geom_smooth()` using formula = 'y ~ x'\n"
     ]
    },
    {
     "data": {
      "image/png": "[encoded data removed]",
      "text/plain": [
       "plot without title"
      ]
     },
     "metadata": {
      "image/png": {
       "height": 420,
       "width": 420
      }
     },
     "output_type": "display_data"
    }
   ],
   "source": [
    "summary(weighted_lm)\n",
    "\n",
    "ggplot(gni_weighted_data, aes(x = Predicted_GNICapAtlas, y = GNICapAtlas)) +\n",
    "  geom_point(alpha = 0.5) +\n",
    "  geom_smooth(method = \"lm\", color = \"blue\") +\n",
    "  labs(title = \"Observed vs. Predicted GNICapAtlas\",\n",
    "       x = \"Predicted GNICapAtlas\",\n",
    "       y = \"Observed GNICapAtlas\") +\n",
    "  theme_minimal()"
   ]
  },
  {
   "cell_type": "markdown",
   "id": "dc12bca1-eb3e-4bba-91fa-925d7963a319",
   "metadata": {},
   "source": [
    "### exponencial"
   ]
  },
  {
   "cell_type": "code",
   "execution_count": 117,
   "id": "fa45a4d0-6dc6-4e1f-821e-281d257f57ac",
   "metadata": {},
   "outputs": [
    {
     "data": {
      "text/plain": [
       "\n",
       "Call:\n",
       "lm(formula = log(GNICapAtlas) ~ SurfAreaSqKm_weighted + PopDens_weighted + \n",
       "    PopGrowth_weighted + GDP_weighted + GDPGrowth_weighted + \n",
       "    AdolFertRate_weighted + AgriValAddGDP_weighted + ExportsGDP_weighted + \n",
       "    FertRate_weighted + FDINetBoP_weighted + GNIAtlas_weighted + \n",
       "    GrossCapFormGDP_weighted + ImportsGDP_weighted + IndValAddGDP_weighted + \n",
       "    InflConsPric_weighted + LifeExpBirth_weighted + MerchTradeGDP_weighted + \n",
       "    MilExpGDP_weighted + MobileSubs100_weighted + MortRateU5_weighted + \n",
       "    NetMigr_weighted + PopTotal_weighted + RevenueExGrantsGDP_weighted + \n",
       "    SchEnrollPrim_weighted + TaxRevenueGDP_weighted + UrbanPopGrowth_weighted, \n",
       "    data = gni_weighted_data)\n",
       "\n",
       "Residuals:\n",
       "     Min       1Q   Median       3Q      Max \n",
       "-0.54220 -0.14644  0.00395  0.14406  0.51963 \n",
       "\n",
       "Coefficients:\n",
       "                              Estimate Std. Error t value Pr(>|t|)    \n",
       "(Intercept)                  6.968e+00  6.535e-01  10.663  < 2e-16 ***\n",
       "SurfAreaSqKm_weighted        2.543e-07  3.228e-07   0.788 0.431073    \n",
       "PopDens_weighted             2.311e-03  1.650e-03   1.401 0.161678    \n",
       "PopGrowth_weighted          -3.207e+00  1.183e+00  -2.711 0.006869 ** \n",
       "GDP_weighted                -9.201e-12  4.065e-12  -2.263 0.023932 *  \n",
       "GDPGrowth_weighted          -3.115e-01  8.684e-02  -3.587 0.000359 ***\n",
       "AdolFertRate_weighted       -7.916e-02  2.196e-02  -3.605 0.000334 ***\n",
       "AgriValAddGDP_weighted      -1.299e+00  9.296e-02 -13.973  < 2e-16 ***\n",
       "ExportsGDP_weighted          7.038e-01  3.686e-02  19.097  < 2e-16 ***\n",
       "FertRate_weighted            1.880e+01  2.315e+00   8.122 2.09e-15 ***\n",
       "FDINetBoP_weighted           3.723e-12  4.883e-12   0.762 0.446063    \n",
       "GNIAtlas_weighted            1.355e-11  4.000e-12   3.386 0.000749 ***\n",
       "GrossCapFormGDP_weighted     8.779e-01  8.790e-02   9.988  < 2e-16 ***\n",
       "ImportsGDP_weighted         -1.142e+00  5.646e-02 -20.218  < 2e-16 ***\n",
       "IndValAddGDP_weighted       -3.802e-01  3.421e-02 -11.114  < 2e-16 ***\n",
       "InflConsPric_weighted       -5.049e-03  5.516e-02  -0.092 0.927092    \n",
       "LifeExpBirth_weighted        4.245e-01  7.714e-02   5.502 5.28e-08 ***\n",
       "MerchTradeGDP_weighted       1.128e-02  1.827e-02   0.617 0.537136    \n",
       "MilExpGDP_weighted          -2.593e+00  2.223e-01 -11.665  < 2e-16 ***\n",
       "MobileSubs100_weighted       1.801e-02  3.183e-03   5.657 2.26e-08 ***\n",
       "MortRateU5_weighted         -1.295e-01  5.687e-02  -2.277 0.023066 *  \n",
       "NetMigr_weighted             2.396e-05  3.228e-06   7.423 3.35e-13 ***\n",
       "PopTotal_weighted           -1.152e-06  1.081e-07 -10.661  < 2e-16 ***\n",
       "RevenueExGrantsGDP_weighted  1.360e-01  1.456e-01   0.934 0.350541    \n",
       "SchEnrollPrim_weighted      -3.562e-02  3.107e-01  -0.115 0.908769    \n",
       "TaxRevenueGDP_weighted      -2.325e-01  1.449e-01  -1.605 0.109010    \n",
       "UrbanPopGrowth_weighted      1.670e+01  7.471e+00   2.236 0.025700 *  \n",
       "---\n",
       "Signif. codes:  0 '***' 0.001 '**' 0.01 '*' 0.05 '.' 0.1 ' ' 1\n",
       "\n",
       "Residual standard error: 0.1997 on 695 degrees of freedom\n",
       "Multiple R-squared:  0.9283,\tAdjusted R-squared:  0.9256 \n",
       "F-statistic: 346.2 on 26 and 695 DF,  p-value: < 2.2e-16\n"
      ]
     },
     "metadata": {},
     "output_type": "display_data"
    },
    {
     "data": {
      "image/png": "[encoded data removed]",
      "text/plain": [
       "plot without title"
      ]
     },
     "metadata": {
      "image/png": {
       "height": 420,
       "width": 420
      }
     },
     "output_type": "display_data"
    }
   ],
   "source": [
    "# Fit the exponential model\n",
    "exp_lm <- lm(log(GNICapAtlas) ~ SurfAreaSqKm_weighted + PopDens_weighted + \n",
    "             PopGrowth_weighted + GDP_weighted + GDPGrowth_weighted + \n",
    "             AdolFertRate_weighted + AgriValAddGDP_weighted + ExportsGDP_weighted + \n",
    "             FertRate_weighted + FDINetBoP_weighted + GNIAtlas_weighted + \n",
    "             GrossCapFormGDP_weighted + ImportsGDP_weighted + IndValAddGDP_weighted + \n",
    "             InflConsPric_weighted + LifeExpBirth_weighted + MerchTradeGDP_weighted + \n",
    "             MilExpGDP_weighted + MobileSubs100_weighted + MortRateU5_weighted + \n",
    "             NetMigr_weighted + PopTotal_weighted + RevenueExGrantsGDP_weighted + \n",
    "             SchEnrollPrim_weighted + TaxRevenueGDP_weighted + UrbanPopGrowth_weighted,\n",
    "             data = gni_weighted_data)\n",
    "\n",
    "# View summary of the model\n",
    "summary(exp_lm)\n",
    "\n",
    "# Create predictions\n",
    "gni_weighted_data$Predicted_GNICapAtlas_exp <- exp(predict(exp_lm))\n",
    "\n",
    "# Plot observed vs. predicted values\n",
    "library(ggplot2)\n",
    "\n",
    "ggplot(gni_weighted_data, aes(x = Predicted_GNICapAtlas_exp, y = GNICapAtlas)) +\n",
    "  geom_point(alpha = 0.5) +\n",
    "  geom_smooth(method = \"lm\", formula = y ~ x, color = \"blue\") +\n",
    "  labs(title = \"Observed vs. Predicted GNICapAtlas (Exponential Model)\",\n",
    "       x = \"Predicted GNICapAtlas (Exponential)\",\n",
    "       y = \"Observed GNICapAtlas\") +\n",
    "  theme_minimal()"
   ]
  },
  {
   "cell_type": "markdown",
   "id": "549b896c-0934-4586-80dc-ea19012c1cee",
   "metadata": {},
   "source": [
    "### todos los países"
   ]
  },
  {
   "cell_type": "code",
   "execution_count": 120,
   "id": "06aed597-8c71-44c2-87f8-a464cd8a1e8e",
   "metadata": {},
   "outputs": [
    {
     "data": {
      "image/png": "[encoded data removed]",
      "text/plain": [
       "plot without title"
      ]
     },
     "metadata": {
      "image/png": {
       "height": 420,
       "width": 420
      }
     },
     "output_type": "display_data"
    }
   ],
   "source": [
    "countries_GDP <- df[df$Country %in% c('afghanistan', 'netherlands', 'egypt, arab rep.', 'gabon', 'haiti', 'central african republic', \n",
    "                                      'spain', 'malaysia', 'cuba', 'saudi arabia', 'sudan', 'new caledonia', 'argentina', \n",
    "                                      'venezuela, rb', 'germany', 'ghana', 'el salvador', 'liechtenstein', 'kenya', 'togo', 'bolivia', \n",
    "                                      'philippines', 'kiribati', 'korea, rep.', 'colombia', 'nepal', 'greece', 'portugal', 'botswana', \n",
    "                                      'ireland', 'andorra', 'thailand', 'ecuador', 'indonesia', 'france', 'suriname', 'guyana', \n",
    "                                      'pakistan', 'burundi', 'belgium', 'honduras', 'japan', 'panama', 'seychelles', 'costa rica', \n",
    "                                      'belize', 'mexico', 'nicaragua', 'turkiye', 'eswatini', 'paraguay', 'cameroon', 'gambia, the', \n",
    "                                      'united states', 'jamaica', 'sierra leone', 'congo, rep.', 'madagascar', 'canada', \n",
    "                                      'st. kitts and nevis', 'austria', 'tunisia', 'benin', 'iceland', 'australia', 'uruguay', \n",
    "                                      'papua new guinea', 'south africa', 'trinidad and tobago', 'congo, dem. rep.', 'mauritania', \n",
    "                                      'united kingdom', 'peru', 'india', 'cambodia', 'st. vincent and the grenadines', 'nigeria', \n",
    "                                      'senegal', 'bermuda', 'equatorial guinea', 'singapore', 'luxembourg', 'jordan', 'sri lanka', \n",
    "                                      'french polynesia', 'hong kong sar', 'cote d\\'ivoire', 'italy', 'new zealand', 'chad', \n",
    "                                      'bahamas, the', 'niger', 'somalia', 'denmark', 'brazil', 'uganda', 'algeria', 'bangladesh', \n",
    "                                      'iran, islamic rep.', 'malta', 'chile', 'puerto rico', 'dominican republic', 'zambia', \n",
    "                                      'zimbabwe', 'greenland', 'china', 'solomon islands', 'qatar', 'oman', 'norway', 'rwanda', \n",
    "                                      'finland', 'guatemala', 'myanmar', 'lesotho', 'iraq', 'mali', 'kuwait', 'syrian arab republic', \n",
    "                                      'sweden', 'morocco', 'fiji', 'burkina faso', 'guinea-bissau', 'brunei darussalam', 'barbados', \n",
    "                                      'united arab emirates', 'cyprus', 'tonga', 'mauritius', 'antigua and barbuda', 'dominica', \n",
    "                                      'grenada', 'vanuatu', 'bhutan', 'st. lucia', 'comoros', 'malawi', 'bahrain', 'maldives', \n",
    "                                      'bulgaria', 'angola', 'switzerland', 'namibia', 'cabo verde', 'ethiopia', 'marshall islands', \n",
    "                                      'mongolia', 'samoa', 'macao sar', 'micronesia, fed. sts.', 'lao pdr', 'albania', 'djibouti', \n",
    "                                      'viet nam', 'aruba', 'guinea', 'turkmenistan', 'romania', 'ukraine', 'lebanon', 'tanzania', \n",
    "                                      'russian federation', 'tajikistan', 'kyrgyz republic', 'libya', 'azerbaijan', 'poland', \n",
    "                                      'kazakhstan', 'tuvalu', 'north macedonia', 'slovak republic', 'georgia', 'yemen, rep.', \n",
    "                                      'armenia', 'uzbekistan', 'czechia', 'belarus', 'hungary', 'mozambique', 'eritrea', \n",
    "                                      'west bank and gaza', 'bosnia and herzegovina', 'estonia', 'croatia', 'lithuania', 'moldova', \n",
    "                                      'serbia', 'latvia', 'slovenia', 'israel', 'faroe islands', 'montenegro', 'timor-leste', \n",
    "                                      'palau', 'liberia', 'sao tome and principe', 'turks and caicos islands', 'cayman islands', \n",
    "                                      'nauru', 'curacao'), ]\n",
    "\n",
    "ggplot(data = countries_GDP, aes(x = Year, y = GNICapAtlas, color = Country)) +\n",
    "  geom_line() + \n",
    "  geom_point() +  \n",
    "  scale_y_continuous(labels = comma) +\n",
    "  labs(x = 'Year', y = 'GNICapAtlas', title = 'GNI of Different Countries') +\n",
    "  theme_minimal() + \n",
    "  theme(legend.position = \"none\")"
   ]
  }
 ],
 "metadata": {
  "kernelspec": {
   "display_name": "R",
   "language": "R",
   "name": "ir"
  },
  "language_info": {
   "codemirror_mode": "r",
   "file_extension": ".r",
   "mimetype": "text/x-r-source",
   "name": "R",
   "pygments_lexer": "r",
   "version": "4.3.3"
  }
 },
 "nbformat": 4,
 "nbformat_minor": 5
}
