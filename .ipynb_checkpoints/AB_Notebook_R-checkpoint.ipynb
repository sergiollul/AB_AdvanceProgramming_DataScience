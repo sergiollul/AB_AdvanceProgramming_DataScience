{
 "cells": [
  {
   "cell_type": "code",
   "execution_count": 1,
   "id": "6ba63148-0c88-4970-b359-fbedb0ba405e",
   "metadata": {},
   "outputs": [
    {
     "name": "stdout",
     "output_type": "stream",
     "text": [
      "[1] \"hola mundo\"\n"
     ]
    }
   ],
   "source": [
    "print(\"hola mundo\")"
   ]
  },
  {
   "cell_type": "code",
   "execution_count": 3,
   "id": "e208f0cb-6415-4a52-a793-7ec55cd69fe7",
   "metadata": {},
   "outputs": [
    {
     "name": "stdout",
     "output_type": "stream",
     "text": [
      "[1] \"hola acabo de hacer cambios en el notebook, ¿Como se ve?\"\n"
     ]
    }
   ],
   "source": [
    "print(\"hola acabo de hacer cambios en el notebook, ¿Como se ve?\")"
   ]
  },
  {
   "cell_type": "code",
   "execution_count": null,
   "id": "397b8989-2d49-4e52-813c-cf0e7804b1f7",
   "metadata": {},
   "outputs": [],
   "source": []
  }
 ],
 "metadata": {
  "kernelspec": {
   "display_name": "R",
   "language": "R",
   "name": "ir"
  },
  "language_info": {
   "codemirror_mode": "r",
   "file_extension": ".r",
   "mimetype": "text/x-r-source",
   "name": "R",
   "pygments_lexer": "r",
   "version": "4.3.3"
  }
 },
 "nbformat": 4,
 "nbformat_minor": 5
}
